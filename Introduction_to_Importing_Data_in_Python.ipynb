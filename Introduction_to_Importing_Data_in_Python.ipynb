{
  "nbformat": 4,
  "nbformat_minor": 0,
  "metadata": {
    "colab": {
      "name": "Introduction to Importing Data in Python",
      "provenance": []
    },
    "kernelspec": {
      "name": "python3",
      "display_name": "Python 3"
    },
    "language_info": {
      "name": "python"
    }
  },
  "cells": [
    {
      "cell_type": "markdown",
      "metadata": {
        "id": "V_ss2LM2L3Qe"
      },
      "source": [
        "# **Reading text files**\n",
        "\n",
        "* Open the file `moby_dick.txt` as read-only and store it in the variable `file`. Make sure to pass the filename enclosed in quotation marks `\"\"`.\n",
        "* Print the contents of the file to the shell using the `print()` function. As Hugo showed in the video, you'll need to apply the method `read()` to the object file.\n",
        "* Check whether the file is closed by executing `print(file.closed`).\n",
        "* Close the file using the `close()` method.\n",
        "* Check again that the file is closed as you did above."
      ]
    },
    {
      "cell_type": "code",
      "metadata": {
        "id": "0ObH666bHTkD",
        "colab": {
          "base_uri": "https://localhost:8080/"
        },
        "outputId": "ef3c3816-7b3b-4348-de50-8b586ae40fc6"
      },
      "source": [
        "# Open a file: file\n",
        "file = open(\"moby_dick.txt\", \"r\")\n",
        "\n",
        "# Print it\n",
        "print(file.read())\n",
        "\n",
        "# Check whether file is closed\n",
        "print(file.closed)\n",
        "\n",
        "# Close file\n",
        "file.close()\n",
        "\n",
        "# Check whether file is closed\n",
        "print(file.closed)\n"
      ],
      "execution_count": 3,
      "outputs": [
        {
          "output_type": "stream",
          "name": "stdout",
          "text": [
            "    CHAPTER 1. Loomings.\n",
            "    \n",
            "    Call me Ishmael. Some years ago--never mind how long precisely--having\n",
            "    little or no money in my purse, and nothing particular to interest me on\n",
            "    shore, I thought I would sail about a little and see the watery part of\n",
            "    the world. It is a way I have of driving off the spleen and regulating\n",
            "    the circulation. Whenever I find myself growing grim about the mouth;\n",
            "    whenever it is a damp, drizzly November in my soul; whenever I find\n",
            "    myself involuntarily pausing before coffin warehouses, and bringing up\n",
            "    the rear of every funeral I meet; and especially whenever my hypos get\n",
            "    such an upper hand of me, that it requires a strong moral principle to\n",
            "    prevent me from deliberately stepping into the street, and methodically\n",
            "    knocking people's hats off--then, I account it high time to get to sea\n",
            "    as soon as I can. This is my substitute for pistol and ball. With a\n",
            "    philosophical flourish Cato throws himself upon his sword; I quietly\n",
            "    take to the ship. There is nothing surprising in this. If they but knew\n",
            "    it, almost all men in their degree, some time or other, cherish very\n",
            "    nearly the same feelings towards the ocean with me.\n",
            "    False\n",
            "    True\n",
            "False\n",
            "True\n"
          ]
        }
      ]
    },
    {
      "cell_type": "markdown",
      "metadata": {
        "id": "Od1G6bGxOefB"
      },
      "source": [
        "### **Importing text files line by line**\n",
        "\n",
        "When a file called `file` is open, you can print out the first line by executing `file.readline()`. If you execute the same command again, the second line will print, and so on.\n",
        "\n",
        "You can bind a variable file by using a context manager construct:\n",
        "\n",
        "```\n",
        "with open('your_file.txt') as file:\n",
        "```\n",
        "\n",
        "While still within this construct, the variable `file` will be bound to open('your_file.txt'); thus, to print the file to the shell, all the code you need to execute is:\n",
        "\n",
        "```\n",
        "with open('huck_finn.txt') as file:\n",
        "    print(file.readline())\n",
        "```\n",
        "\n",
        "* Open` moby_dick.txt` using the with context manager and the variable `file`.\n",
        "* Print the first three lines of the file to the shell by using `readline()` three times within the context manager.\n",
        "\n",
        "\n",
        "\n"
      ]
    },
    {
      "cell_type": "code",
      "metadata": {
        "colab": {
          "base_uri": "https://localhost:8080/"
        },
        "id": "d3aXWzOsN6Lc",
        "outputId": "5b999758-500e-4743-da8f-bbb2d20c5da8"
      },
      "source": [
        "# Read & print the first 3 lines\n",
        "with open('moby_dick.txt') as file:\n",
        "    print(file.readline())\n",
        "    print(file.readline())\n",
        "    print(file.readline())"
      ],
      "execution_count": 4,
      "outputs": [
        {
          "output_type": "stream",
          "name": "stdout",
          "text": [
            "    CHAPTER 1. Loomings.\n",
            "\n",
            "    \n",
            "\n",
            "    Call me Ishmael. Some years ago--never mind how long precisely--having\n",
            "\n"
          ]
        }
      ]
    },
    {
      "cell_type": "markdown",
      "metadata": {
        "id": "1-5BJdpDSLEK"
      },
      "source": [
        "# **Importing flat files using NumPy**\n",
        "\n"
      ]
    },
    {
      "cell_type": "code",
      "metadata": {
        "colab": {
          "base_uri": "https://localhost:8080/",
          "height": 283
        },
        "id": "wBZXFpg-PpCH",
        "outputId": "ff495c75-18ee-4016-c0d3-cf0e79eae610"
      },
      "source": [
        "# Import package\n",
        "import numpy as np\n",
        "import matplotlib.pyplot as plt\n",
        "\n",
        "\n",
        "# Assign filename to variable: file\n",
        "file = 'mnist_kaggle_some_rows.csv'\n",
        "\n",
        "# Load file as array: digits\n",
        "digits = np.loadtxt(file, delimiter=\",\")\n",
        "\n",
        "# Print datatype of digits\n",
        "print(type(digits))\n",
        "\n",
        "# Select and reshape a row\n",
        "im = digits[21, 1:]\n",
        "im_sq = np.reshape(im, (28, 28))\n",
        "\n",
        "# Plot reshaped data (matplotlib.pyplot already loaded as plt)\n",
        "plt.imshow(im_sq, cmap='Greys', interpolation='nearest')\n",
        "plt.show()\n"
      ],
      "execution_count": 11,
      "outputs": [
        {
          "output_type": "stream",
          "name": "stdout",
          "text": [
            "<class 'numpy.ndarray'>\n"
          ]
        },
        {
          "output_type": "display_data",
          "data": {
            "image/png": "[encoded data removed]",
            "text/plain": [
              "<Figure size 432x288 with 1 Axes>"
            ]
          },
          "metadata": {
            "needs_background": "light"
          }
        }
      ]
    },
    {
      "cell_type": "markdown",
      "metadata": {
        "id": "O4qvVUjUV9h6"
      },
      "source": [
        "### **Customizing your NumPy import**\n",
        "\n",
        "\n",
        "What if there are rows, such as a header, that you don't want to import? What if your file has a delimiter other than a comma? What if you only wish to import particular columns?\n",
        "\n",
        "There are a number of arguments that `np.loadtxt()` takes that you'll find useful:\n",
        "\n",
        "* `delimiter` changes the delimiter that loadtxt() is expecting.\n",
        "  * You can use `','` for comma-delimited.\n",
        "  * You can use `'\\t'` for tab-delimited.\n",
        "* `skiprows` allows you to specify how many rows (not indices) you wish to skip\n",
        "* `usecols` takes a list of the indices of the columns you wish to keep.\n",
        "\n",
        "===============================\n",
        "\n",
        "* Complete the arguments of `np.loadtxt()`: the file you're importing is \n",
        "  * tab-delimited, \n",
        "  * you want to skip the first row\n",
        "  * and you only want to import the first and third columns.\n"
      ]
    },
    {
      "cell_type": "code",
      "metadata": {
        "colab": {
          "base_uri": "https://localhost:8080/"
        },
        "id": "HqgJtV8rTUCq",
        "outputId": "072dc85a-cd22-4c15-961a-3dec69c74bc6"
      },
      "source": [
        "# Import numpy\n",
        "import numpy as np\n",
        "\n",
        "# Assign the filename: file\n",
        "file = 'digits_header.txt'\n",
        "\n",
        "# Load the data: data\n",
        "data = np.loadtxt(file, delimiter=\"\\t\", skiprows=1, usecols=[0, 2])\n",
        "\n",
        "# Print data\n",
        "print(data)"
      ],
      "execution_count": 12,
      "outputs": [
        {
          "output_type": "stream",
          "name": "stdout",
          "text": [
            "[[1. 0.]\n",
            " [0. 0.]\n",
            " [1. 0.]\n",
            " [4. 0.]\n",
            " [0. 0.]\n",
            " [0. 0.]\n",
            " [7. 0.]\n",
            " [3. 0.]\n",
            " [5. 0.]\n",
            " [3. 0.]\n",
            " [8. 0.]\n",
            " [9. 0.]\n",
            " [1. 0.]\n",
            " [3. 0.]\n",
            " [3. 0.]\n",
            " [1. 0.]\n",
            " [2. 0.]\n",
            " [0. 0.]\n",
            " [7. 0.]\n",
            " [5. 0.]\n",
            " [8. 0.]\n",
            " [6. 0.]\n",
            " [2. 0.]\n",
            " [0. 0.]\n",
            " [2. 0.]\n",
            " [3. 0.]\n",
            " [6. 0.]\n",
            " [9. 0.]\n",
            " [9. 0.]\n",
            " [7. 0.]\n",
            " [8. 0.]\n",
            " [9. 0.]\n",
            " [4. 0.]\n",
            " [9. 0.]\n",
            " [2. 0.]\n",
            " [1. 0.]\n",
            " [3. 0.]\n",
            " [1. 0.]\n",
            " [1. 0.]\n",
            " [4. 0.]\n",
            " [9. 0.]\n",
            " [1. 0.]\n",
            " [4. 0.]\n",
            " [4. 0.]\n",
            " [2. 0.]\n",
            " [6. 0.]\n",
            " [3. 0.]\n",
            " [7. 0.]\n",
            " [7. 0.]\n",
            " [4. 0.]\n",
            " [7. 0.]\n",
            " [5. 0.]\n",
            " [1. 0.]\n",
            " [9. 0.]\n",
            " [0. 0.]\n",
            " [2. 0.]\n",
            " [2. 0.]\n",
            " [3. 0.]\n",
            " [9. 0.]\n",
            " [1. 0.]\n",
            " [1. 0.]\n",
            " [1. 0.]\n",
            " [5. 0.]\n",
            " [0. 0.]\n",
            " [6. 0.]\n",
            " [3. 0.]\n",
            " [4. 0.]\n",
            " [8. 0.]\n",
            " [1. 0.]\n",
            " [0. 0.]\n",
            " [3. 0.]\n",
            " [9. 0.]\n",
            " [6. 0.]\n",
            " [2. 0.]\n",
            " [6. 0.]\n",
            " [4. 0.]\n",
            " [7. 0.]\n",
            " [1. 0.]\n",
            " [4. 0.]\n",
            " [1. 0.]\n",
            " [5. 0.]\n",
            " [4. 0.]\n",
            " [8. 0.]\n",
            " [9. 0.]\n",
            " [2. 0.]\n",
            " [9. 0.]\n",
            " [9. 0.]\n",
            " [8. 0.]\n",
            " [9. 0.]\n",
            " [6. 0.]\n",
            " [3. 0.]\n",
            " [6. 0.]\n",
            " [4. 0.]\n",
            " [6. 0.]\n",
            " [2. 0.]\n",
            " [9. 0.]\n",
            " [1. 0.]\n",
            " [2. 0.]\n",
            " [0. 0.]\n",
            " [5. 0.]]\n"
          ]
        }
      ]
    },
    {
      "cell_type": "markdown",
      "metadata": {
        "id": "h8Axs4WsX-C3"
      },
      "source": [
        "### **Importing different datatypes**\n",
        "\n",
        "The file `seaslug.txt`\n",
        "\n",
        "* has a text header, consisting of strings\n",
        "* is tab-delimited.\n",
        "\n",
        "Due to the header, if you tried to import it as-is using `np.loadtxt()`, Python would throw you a `ValueError` and tell you that it `could not convert string to float`. There are two ways to deal with this: \n",
        "\n",
        "* firstly, you can set the data type argument `dtype` equal to `str` (for string).\n",
        "* Alternatively, you can skip the first row as we have seen before, using the `skiprows` argument.\n",
        "\n",
        "==============================================\n",
        "\n",
        "* Complete the first call to `np.loadtxt()` by passing `file` as the first argument.\n",
        "* Execute `print(data[0])` to print the first element of `data`.\n",
        "* Complete the second call to `np.loadtxt()`. The file you're importing is \n",
        "  * tab-delimited, \n",
        "  * the datatype is `float`, \n",
        "  * and you want to skip the first row.\n",
        "* Print the 10th element of `data_float` by completing the `print()` command. Be guided by the previous print() call.\n",
        "* Execute the rest of the code to visualize the data."
      ]
    },
    {
      "cell_type": "code",
      "metadata": {
        "colab": {
          "base_uri": "https://localhost:8080/",
          "height": 315
        },
        "id": "0yx5BPRhVhQm",
        "outputId": "d897e04d-9510-4656-bf24-a167c7034522"
      },
      "source": [
        "import numpy as np\n",
        "import matplotlib.pyplot as plt\n",
        "\n",
        "# Assign filename: file\n",
        "file = 'seaslug.txt'\n",
        "\n",
        "# Import file: data\n",
        "data = np.loadtxt(file, delimiter='\\t', dtype=str)\n",
        "\n",
        "# Print the first element of data\n",
        "print(data[0])\n",
        "\n",
        "# Import data as floats and skip the first row: data_float\n",
        "data_float = np.loadtxt(file, delimiter=\"\\t\", dtype=float, skiprows=1)\n",
        "\n",
        "# Print the 10th element of data_float\n",
        "print(data_float[9])\n",
        "\n",
        "# Plot a scatterplot of the data\n",
        "plt.scatter(data_float[:, 0], data_float[:, 1])\n",
        "plt.xlabel('time (min.)')\n",
        "plt.ylabel('percentage of larvae')\n",
        "plt.show()\n"
      ],
      "execution_count": 13,
      "outputs": [
        {
          "output_type": "stream",
          "name": "stdout",
          "text": [
            "['Time' 'Percent']\n",
            "[0.    0.357]\n"
          ]
        },
        {
          "output_type": "display_data",
          "data": {
            "image/png": "[encoded data removed]",
            "text/plain": [
              "<Figure size 432x288 with 1 Axes>"
            ]
          },
          "metadata": {
            "needs_background": "light"
          }
        }
      ]
    },
    {
      "cell_type": "markdown",
      "metadata": {
        "id": "m9xaStK-a7Wq"
      },
      "source": [
        "### **Working with mixed datatypes (1)**\n",
        "\n",
        "Most of the time you will need to import datasets which have different datatypes in different columns; one column may contain strings and another floats, for example. The function `np.loadtxt()` will freak at this. There is another function, `np.genfromtxt()`, which can handle such structures. If we pass `dtype=None` to it, it will figure out what types each column should be.\n",
        "\n",
        "Import `'titanic.csv'` using the function `np.genfromtxt()` as follows:\n",
        "\n",
        "\n",
        "```\n",
        "data = np.genfromtxt('titanic.csv', delimiter=',', names=True, dtype=None)\n",
        "```\n",
        "\n",
        "Here, the first argument is the filename, the second specifies the delimiter `,` and the third argument `names` tells us there is a header. Because the data are of different types, data is an object called a **structured array**. Because numpy arrays have to contain elements that are all the same type, the structured array solves this by being a 1D array, where each element of the array is a row of the flat file imported. You can test this by checking out the array's shape in the shell by executing `np.shape(data)`.\n",
        "\n",
        "Accessing rows and columns of structured arrays is super-intuitive: to get the ith row, merely execute `data[i] `and to get the column with name `'Fare'`, execute `data['Fare']`.\n",
        "\n",
        "After importing the Titanic data as a structured array (as per the instructions above), print the entire column with the name Survived to the shell. What are the last 4 values of this column?\n"
      ]
    },
    {
      "cell_type": "code",
      "metadata": {
        "colab": {
          "base_uri": "https://localhost:8080/",
          "height": 298
        },
        "id": "VjU8x4BuY1Ew",
        "outputId": "90f158b9-739e-44ba-95d3-357ee060b894"
      },
      "source": [
        "import pandas as pd\n",
        "import numpy as np\n",
        "\n",
        "data = np.genfromtxt('titanic_sub.csv', delimiter=',', names=True, dtype=None)\n",
        "df = pd.read_csv(\"titanic_sub.csv\")\n",
        "display(df.head())\n",
        "display(data[\"Survived\"][-4:])\n",
        "display(data[\"Sex\"][:4])\n",
        "\n"
      ],
      "execution_count": 18,
      "outputs": [
        {
          "output_type": "stream",
          "name": "stderr",
          "text": [
            "/usr/local/lib/python3.7/dist-packages/ipykernel_launcher.py:4: VisibleDeprecationWarning: Reading unicode strings without specifying the encoding argument is deprecated. Set the encoding, use None for the system default.\n",
            "  after removing the cwd from sys.path.\n"
          ]
        },
        {
          "output_type": "display_data",
          "data": {
            "text/html": [
              "<div>\n",
              "<style scoped>\n",
              "    .dataframe tbody tr th:only-of-type {\n",
              "        vertical-align: middle;\n",
              "    }\n",
              "\n",
              "    .dataframe tbody tr th {\n",
              "        vertical-align: top;\n",
              "    }\n",
              "\n",
              "    .dataframe thead th {\n",
              "        text-align: right;\n",
              "    }\n",
              "</style>\n",
              "<table border=\"1\" class=\"dataframe\">\n",
              "  <thead>\n",
              "    <tr style=\"text-align: right;\">\n",
              "      <th></th>\n",
              "      <th>PassengerId</th>\n",
              "      <th>Survived</th>\n",
              "      <th>Pclass</th>\n",
              "      <th>Sex</th>\n",
              "      <th>Age</th>\n",
              "      <th>SibSp</th>\n",
              "      <th>Parch</th>\n",
              "      <th>Ticket</th>\n",
              "      <th>Fare</th>\n",
              "      <th>Cabin</th>\n",
              "      <th>Embarked</th>\n",
              "    </tr>\n",
              "  </thead>\n",
              "  <tbody>\n",
              "    <tr>\n",
              "      <th>0</th>\n",
              "      <td>1</td>\n",
              "      <td>0</td>\n",
              "      <td>3</td>\n",
              "      <td>male</td>\n",
              "      <td>22.0</td>\n",
              "      <td>1</td>\n",
              "      <td>0</td>\n",
              "      <td>A/5 21171</td>\n",
              "      <td>7.2500</td>\n",
              "      <td>NaN</td>\n",
              "      <td>S</td>\n",
              "    </tr>\n",
              "    <tr>\n",
              "      <th>1</th>\n",
              "      <td>2</td>\n",
              "      <td>1</td>\n",
              "      <td>1</td>\n",
              "      <td>female</td>\n",
              "      <td>38.0</td>\n",
              "      <td>1</td>\n",
              "      <td>0</td>\n",
              "      <td>PC 17599</td>\n",
              "      <td>71.2833</td>\n",
              "      <td>C85</td>\n",
              "      <td>C</td>\n",
              "    </tr>\n",
              "    <tr>\n",
              "      <th>2</th>\n",
              "      <td>3</td>\n",
              "      <td>1</td>\n",
              "      <td>3</td>\n",
              "      <td>female</td>\n",
              "      <td>26.0</td>\n",
              "      <td>0</td>\n",
              "      <td>0</td>\n",
              "      <td>STON/O2. 3101282</td>\n",
              "      <td>7.9250</td>\n",
              "      <td>NaN</td>\n",
              "      <td>S</td>\n",
              "    </tr>\n",
              "    <tr>\n",
              "      <th>3</th>\n",
              "      <td>4</td>\n",
              "      <td>1</td>\n",
              "      <td>1</td>\n",
              "      <td>female</td>\n",
              "      <td>35.0</td>\n",
              "      <td>1</td>\n",
              "      <td>0</td>\n",
              "      <td>113803</td>\n",
              "      <td>53.1000</td>\n",
              "      <td>C123</td>\n",
              "      <td>S</td>\n",
              "    </tr>\n",
              "    <tr>\n",
              "      <th>4</th>\n",
              "      <td>5</td>\n",
              "      <td>0</td>\n",
              "      <td>3</td>\n",
              "      <td>male</td>\n",
              "      <td>35.0</td>\n",
              "      <td>0</td>\n",
              "      <td>0</td>\n",
              "      <td>373450</td>\n",
              "      <td>8.0500</td>\n",
              "      <td>NaN</td>\n",
              "      <td>S</td>\n",
              "    </tr>\n",
              "  </tbody>\n",
              "</table>\n",
              "</div>"
            ],
            "text/plain": [
              "   PassengerId  Survived  Pclass  ...     Fare  Cabin  Embarked\n",
              "0            1         0       3  ...   7.2500    NaN         S\n",
              "1            2         1       1  ...  71.2833    C85         C\n",
              "2            3         1       3  ...   7.9250    NaN         S\n",
              "3            4         1       1  ...  53.1000   C123         S\n",
              "4            5         0       3  ...   8.0500    NaN         S\n",
              "\n",
              "[5 rows x 11 columns]"
            ]
          },
          "metadata": {}
        },
        {
          "output_type": "display_data",
          "data": {
            "text/plain": [
              "array([1, 0, 1, 0])"
            ]
          },
          "metadata": {}
        },
        {
          "output_type": "display_data",
          "data": {
            "text/plain": [
              "array([b'male', b'female', b'female', b'female'], dtype='|S6')"
            ]
          },
          "metadata": {}
        }
      ]
    },
    {
      "cell_type": "markdown",
      "metadata": {
        "id": "dD7HGLwmdA5H"
      },
      "source": [
        "### **Working with mixed datatypes (2)**\n",
        "\n",
        "You have just used `np.genfromtxt()` to import data containing mixed datatypes. There is also another function `np.recfromcsv()` that behaves similarly to `np.genfromtxt()`, except that its default `dtype` is `None`. In this exercise, you'll practice using this to achieve the same result.\n",
        "\n",
        "* Import `titanic.csv` using the function `np.recfromcsv()` and assign it to the variable, `d`. You'll only need to pass `file` to it because it has the defaults `delimiter=','` and `names=True` in addition to `dtype=None`!\n"
      ]
    },
    {
      "cell_type": "code",
      "metadata": {
        "colab": {
          "base_uri": "https://localhost:8080/",
          "height": 353
        },
        "id": "k40KhDWrcZDA",
        "outputId": "67becd50-15fc-4558-b51d-1fee9565e798"
      },
      "source": [
        "import pandas as pd\n",
        "import numpy as np\n",
        "\n",
        "data = np.genfromtxt('titanic_sub.csv', delimiter=',', names=True, dtype=None)\n",
        "df = pd.read_csv(\"titanic_sub.csv\")\n",
        " \n",
        " # Assign the filename: file\n",
        "file = 'titanic_sub.csv'\n",
        "display(df.head())\n",
        "\n",
        "# Import file using np.recfromcsv: d\n",
        "d = np.recfromcsv(file)\n",
        "\n",
        "# Print out first three entries of d\n",
        "print(d[:3])"
      ],
      "execution_count": 21,
      "outputs": [
        {
          "output_type": "stream",
          "name": "stderr",
          "text": [
            "/usr/local/lib/python3.7/dist-packages/ipykernel_launcher.py:4: VisibleDeprecationWarning: Reading unicode strings without specifying the encoding argument is deprecated. Set the encoding, use None for the system default.\n",
            "  after removing the cwd from sys.path.\n"
          ]
        },
        {
          "output_type": "display_data",
          "data": {
            "text/html": [
              "<div>\n",
              "<style scoped>\n",
              "    .dataframe tbody tr th:only-of-type {\n",
              "        vertical-align: middle;\n",
              "    }\n",
              "\n",
              "    .dataframe tbody tr th {\n",
              "        vertical-align: top;\n",
              "    }\n",
              "\n",
              "    .dataframe thead th {\n",
              "        text-align: right;\n",
              "    }\n",
              "</style>\n",
              "<table border=\"1\" class=\"dataframe\">\n",
              "  <thead>\n",
              "    <tr style=\"text-align: right;\">\n",
              "      <th></th>\n",
              "      <th>PassengerId</th>\n",
              "      <th>Survived</th>\n",
              "      <th>Pclass</th>\n",
              "      <th>Sex</th>\n",
              "      <th>Age</th>\n",
              "      <th>SibSp</th>\n",
              "      <th>Parch</th>\n",
              "      <th>Ticket</th>\n",
              "      <th>Fare</th>\n",
              "      <th>Cabin</th>\n",
              "      <th>Embarked</th>\n",
              "    </tr>\n",
              "  </thead>\n",
              "  <tbody>\n",
              "    <tr>\n",
              "      <th>0</th>\n",
              "      <td>1</td>\n",
              "      <td>0</td>\n",
              "      <td>3</td>\n",
              "      <td>male</td>\n",
              "      <td>22.0</td>\n",
              "      <td>1</td>\n",
              "      <td>0</td>\n",
              "      <td>A/5 21171</td>\n",
              "      <td>7.2500</td>\n",
              "      <td>NaN</td>\n",
              "      <td>S</td>\n",
              "    </tr>\n",
              "    <tr>\n",
              "      <th>1</th>\n",
              "      <td>2</td>\n",
              "      <td>1</td>\n",
              "      <td>1</td>\n",
              "      <td>female</td>\n",
              "      <td>38.0</td>\n",
              "      <td>1</td>\n",
              "      <td>0</td>\n",
              "      <td>PC 17599</td>\n",
              "      <td>71.2833</td>\n",
              "      <td>C85</td>\n",
              "      <td>C</td>\n",
              "    </tr>\n",
              "    <tr>\n",
              "      <th>2</th>\n",
              "      <td>3</td>\n",
              "      <td>1</td>\n",
              "      <td>3</td>\n",
              "      <td>female</td>\n",
              "      <td>26.0</td>\n",
              "      <td>0</td>\n",
              "      <td>0</td>\n",
              "      <td>STON/O2. 3101282</td>\n",
              "      <td>7.9250</td>\n",
              "      <td>NaN</td>\n",
              "      <td>S</td>\n",
              "    </tr>\n",
              "    <tr>\n",
              "      <th>3</th>\n",
              "      <td>4</td>\n",
              "      <td>1</td>\n",
              "      <td>1</td>\n",
              "      <td>female</td>\n",
              "      <td>35.0</td>\n",
              "      <td>1</td>\n",
              "      <td>0</td>\n",
              "      <td>113803</td>\n",
              "      <td>53.1000</td>\n",
              "      <td>C123</td>\n",
              "      <td>S</td>\n",
              "    </tr>\n",
              "    <tr>\n",
              "      <th>4</th>\n",
              "      <td>5</td>\n",
              "      <td>0</td>\n",
              "      <td>3</td>\n",
              "      <td>male</td>\n",
              "      <td>35.0</td>\n",
              "      <td>0</td>\n",
              "      <td>0</td>\n",
              "      <td>373450</td>\n",
              "      <td>8.0500</td>\n",
              "      <td>NaN</td>\n",
              "      <td>S</td>\n",
              "    </tr>\n",
              "  </tbody>\n",
              "</table>\n",
              "</div>"
            ],
            "text/plain": [
              "   PassengerId  Survived  Pclass  ...     Fare  Cabin  Embarked\n",
              "0            1         0       3  ...   7.2500    NaN         S\n",
              "1            2         1       1  ...  71.2833    C85         C\n",
              "2            3         1       3  ...   7.9250    NaN         S\n",
              "3            4         1       1  ...  53.1000   C123         S\n",
              "4            5         0       3  ...   8.0500    NaN         S\n",
              "\n",
              "[5 rows x 11 columns]"
            ]
          },
          "metadata": {}
        },
        {
          "output_type": "stream",
          "name": "stdout",
          "text": [
            "[(1, 0, 3, b'male', 22., 1, 0, b'A/5 21171',  7.25  , b'', b'S')\n",
            " (2, 1, 1, b'female', 38., 1, 0, b'PC 17599', 71.2833, b'C85', b'C')\n",
            " (3, 1, 3, b'female', 26., 0, 0, b'STON/O2. 3101282',  7.925 , b'', b'S')]\n"
          ]
        },
        {
          "output_type": "stream",
          "name": "stderr",
          "text": [
            "/usr/local/lib/python3.7/dist-packages/numpy/lib/npyio.py:2349: VisibleDeprecationWarning: Reading unicode strings without specifying the encoding argument is deprecated. Set the encoding, use None for the system default.\n",
            "  output = genfromtxt(fname, **kwargs)\n"
          ]
        }
      ]
    },
    {
      "cell_type": "markdown",
      "metadata": {
        "id": "5A8KJXbvFFH2"
      },
      "source": [
        "### **Using pandas to import flat files as DataFrames (1)**\n",
        "\n",
        "We can easily import files of mixed data types as DataFrames using the pandas functions `read_csv()` and `read_table()`"
      ]
    },
    {
      "cell_type": "code",
      "metadata": {
        "colab": {
          "base_uri": "https://localhost:8080/"
        },
        "id": "4-XNdUb9d8r-",
        "outputId": "6d6ea8ec-19d0-42c4-8c97-ffb24a921420"
      },
      "source": [
        "# Import pandas as pd\n",
        "import pandas as pd\n",
        "\n",
        "# Assign the filename: file\n",
        "file = 'titanic_sub.csv'\n",
        "\n",
        "# Read the file into a DataFrame: df\n",
        "df = pd.read_csv(file)\n",
        "\n",
        "# View the head of the DataFrame\n",
        "print(df.head())"
      ],
      "execution_count": 1,
      "outputs": [
        {
          "output_type": "stream",
          "name": "stdout",
          "text": [
            "   PassengerId  Survived  Pclass  ...     Fare  Cabin  Embarked\n",
            "0            1         0       3  ...   7.2500    NaN         S\n",
            "1            2         1       1  ...  71.2833    C85         C\n",
            "2            3         1       3  ...   7.9250    NaN         S\n",
            "3            4         1       1  ...  53.1000   C123         S\n",
            "4            5         0       3  ...   8.0500    NaN         S\n",
            "\n",
            "[5 rows x 11 columns]\n"
          ]
        }
      ]
    },
    {
      "cell_type": "markdown",
      "metadata": {
        "id": "PRJec-kmF1eD"
      },
      "source": [
        "### **Using pandas to import flat files as DataFrames (2)**\n",
        "\n",
        "It is then straightforward to retrieve the corresponding numpy array using the attribute `values`.\n",
        "\n",
        "* Import the first 5 rows of the file into a DataFrame using the function `pd.read_csv()` and assign the result to `data`. You'll need to use the arguments `nrows` and `header` (there is no header in this file).\n",
        "* Build a numpy `array` from the resulting DataFrame in `data` and assign to `data_array`.\n",
        "* Execute `print(type(data_array))` to print the datatype of `data_array`."
      ]
    },
    {
      "cell_type": "code",
      "metadata": {
        "colab": {
          "base_uri": "https://localhost:8080/",
          "height": 217
        },
        "id": "JY3yussFFk6M",
        "outputId": "3ee024c4-66d6-47ff-9712-da0e742b56ed"
      },
      "source": [
        "import pandas as pd\n",
        "\n",
        "# Assign the filename: file\n",
        "file = \"mnist_kaggle_some_rows.csv\"\n",
        "\n",
        "# Read the first 5 rows of the file into a DataFrame: data\n",
        "data = pd.read_csv(file, nrows=5, header=None)\n",
        "\n",
        "# Build a numpy array from the DataFrame: data_array\n",
        "data_array = data.values\n",
        "display(data_array)\n",
        "\n",
        "# Print the datatype of data_array to the shell\n",
        "print(type(data_array))\n",
        "\n",
        "# ใช้ .head() ง่ายกว่า\n",
        "display(pd.read_csv(file).head().values)"
      ],
      "execution_count": 5,
      "outputs": [
        {
          "output_type": "display_data",
          "data": {
            "text/plain": [
              "array([[1., 0., 0., ..., 0., 0., 0.],\n",
              "       [0., 0., 0., ..., 0., 0., 0.],\n",
              "       [1., 0., 0., ..., 0., 0., 0.],\n",
              "       [4., 0., 0., ..., 0., 0., 0.],\n",
              "       [0., 0., 0., ..., 0., 0., 0.]])"
            ]
          },
          "metadata": {}
        },
        {
          "output_type": "stream",
          "name": "stdout",
          "text": [
            "<class 'numpy.ndarray'>\n"
          ]
        },
        {
          "output_type": "display_data",
          "data": {
            "text/plain": [
              "array([[0., 0., 0., ..., 0., 0., 0.],\n",
              "       [1., 0., 0., ..., 0., 0., 0.],\n",
              "       [4., 0., 0., ..., 0., 0., 0.],\n",
              "       [0., 0., 0., ..., 0., 0., 0.],\n",
              "       [0., 0., 0., ..., 0., 0., 0.]])"
            ]
          },
          "metadata": {}
        }
      ]
    },
    {
      "cell_type": "markdown",
      "metadata": {
        "id": "2xirYIXmHbYC"
      },
      "source": [
        "### **Customizing your pandas import**\n",
        "\n",
        "The `pandas` package is also great at dealing with many of the issues you will encounter when importing data as a data scientist, such as comments occurring in flat files, empty lines and missing values. Note that missing values are also commonly referred to as `NA` or `NaN`.  You're now going to import a slightly corrupted copy of the Titanic dataset `titanic_corrupt.txt`, which\n",
        "\n",
        "  * contains comments after the character `'#'`\n",
        "  * is tab-delimited.\n",
        "\n",
        "  ===================================================\n",
        "\n",
        "* Complete the `sep` (the `pandas` version of `delim`), `comment` and `na_values `arguments of `pd.read_csv()`. `comment` takes characters that comments occur after in the file, which in this case is `'#'`. `na_values takes` a list of strings to recognize as `NA/NaN`, in this case the string `'Nothing'`.\n",
        "* Execute the rest of the code to print the head of the resulting DataFrame and plot the histogram of the `'Age'` of passengers aboard the Titanic."
      ]
    },
    {
      "cell_type": "code",
      "metadata": {
        "colab": {
          "base_uri": "https://localhost:8080/",
          "height": 484
        },
        "id": "yulgFFwVHGov",
        "outputId": "9a7e1ef8-ed72-4bfe-cfe1-7d38ab18db30"
      },
      "source": [
        "import pandas as pd\n",
        "import matplotlib.pyplot as plt\n",
        "pd.set_option('display.max_columns', None)\n",
        "\n",
        "# Assign filename: file\n",
        "file = 'titanic_corrupt.txt'\n",
        "\n",
        "# Import file: data\n",
        "data = pd.read_csv(file, sep=\"\\t\", comment=\"#\", na_values='Nothing')\n",
        "\n",
        "# Print the head of the DataFrame\n",
        "display(data.head())\n",
        "\n",
        "# Plot 'Age' variable in a histogram\n",
        "pd.DataFrame.hist(data[['Age']])\n",
        "plt.xlabel('Age (years)')\n",
        "plt.ylabel('count')\n",
        "plt.show()\n"
      ],
      "execution_count": 17,
      "outputs": [
        {
          "output_type": "display_data",
          "data": {
            "text/html": [
              "<div>\n",
              "<style scoped>\n",
              "    .dataframe tbody tr th:only-of-type {\n",
              "        vertical-align: middle;\n",
              "    }\n",
              "\n",
              "    .dataframe tbody tr th {\n",
              "        vertical-align: top;\n",
              "    }\n",
              "\n",
              "    .dataframe thead th {\n",
              "        text-align: right;\n",
              "    }\n",
              "</style>\n",
              "<table border=\"1\" class=\"dataframe\">\n",
              "  <thead>\n",
              "    <tr style=\"text-align: right;\">\n",
              "      <th></th>\n",
              "      <th>PassengerId</th>\n",
              "      <th>Survived</th>\n",
              "      <th>Pclass</th>\n",
              "      <th>Sex</th>\n",
              "      <th>Age</th>\n",
              "      <th>SibSp</th>\n",
              "      <th>Parch</th>\n",
              "      <th>Ticket</th>\n",
              "      <th>Fare</th>\n",
              "      <th>Cabin</th>\n",
              "      <th>Embarked</th>\n",
              "    </tr>\n",
              "  </thead>\n",
              "  <tbody>\n",
              "    <tr>\n",
              "      <th>0</th>\n",
              "      <td>1</td>\n",
              "      <td>0</td>\n",
              "      <td>3</td>\n",
              "      <td>male</td>\n",
              "      <td>22.0</td>\n",
              "      <td>1</td>\n",
              "      <td>0</td>\n",
              "      <td>A/5 21171</td>\n",
              "      <td>7.250</td>\n",
              "      <td>NaN</td>\n",
              "      <td>S</td>\n",
              "    </tr>\n",
              "    <tr>\n",
              "      <th>1</th>\n",
              "      <td>2</td>\n",
              "      <td>1</td>\n",
              "      <td>1</td>\n",
              "      <td>female</td>\n",
              "      <td>38.0</td>\n",
              "      <td>1</td>\n",
              "      <td>0</td>\n",
              "      <td>PC 17599</td>\n",
              "      <td>NaN</td>\n",
              "      <td>NaN</td>\n",
              "      <td>NaN</td>\n",
              "    </tr>\n",
              "    <tr>\n",
              "      <th>2</th>\n",
              "      <td>3</td>\n",
              "      <td>1</td>\n",
              "      <td>3</td>\n",
              "      <td>female</td>\n",
              "      <td>26.0</td>\n",
              "      <td>0</td>\n",
              "      <td>0</td>\n",
              "      <td>STON/O2. 3101282</td>\n",
              "      <td>7.925</td>\n",
              "      <td>NaN</td>\n",
              "      <td>S</td>\n",
              "    </tr>\n",
              "    <tr>\n",
              "      <th>3</th>\n",
              "      <td>4</td>\n",
              "      <td>1</td>\n",
              "      <td>1</td>\n",
              "      <td>female</td>\n",
              "      <td>35.0</td>\n",
              "      <td>1</td>\n",
              "      <td>0</td>\n",
              "      <td>113803</td>\n",
              "      <td>53.100</td>\n",
              "      <td>C123</td>\n",
              "      <td>S</td>\n",
              "    </tr>\n",
              "    <tr>\n",
              "      <th>4</th>\n",
              "      <td>5</td>\n",
              "      <td>0</td>\n",
              "      <td>3</td>\n",
              "      <td>male</td>\n",
              "      <td>35.0</td>\n",
              "      <td>0</td>\n",
              "      <td>0</td>\n",
              "      <td>373450</td>\n",
              "      <td>8.050</td>\n",
              "      <td>NaN</td>\n",
              "      <td>S</td>\n",
              "    </tr>\n",
              "  </tbody>\n",
              "</table>\n",
              "</div>"
            ],
            "text/plain": [
              "   PassengerId  Survived  Pclass     Sex   Age  SibSp  Parch  \\\n",
              "0            1         0       3    male  22.0      1      0   \n",
              "1            2         1       1  female  38.0      1      0   \n",
              "2            3         1       3  female  26.0      0      0   \n",
              "3            4         1       1  female  35.0      1      0   \n",
              "4            5         0       3    male  35.0      0      0   \n",
              "\n",
              "             Ticket    Fare Cabin Embarked  \n",
              "0         A/5 21171   7.250   NaN       S   \n",
              "1          PC 17599     NaN   NaN      NaN  \n",
              "2  STON/O2. 3101282   7.925   NaN        S  \n",
              "3            113803  53.100  C123        S  \n",
              "4            373450   8.050   NaN        S  "
            ]
          },
          "metadata": {}
        },
        {
          "output_type": "display_data",
          "data": {
            "image/png": "[encoded data removed]",
            "text/plain": [
              "<Figure size 432x288 with 1 Axes>"
            ]
          },
          "metadata": {
            "needs_background": "light"
          }
        }
      ]
    },
    {
      "cell_type": "markdown",
      "metadata": {
        "id": "O79oNYfxfnK8"
      },
      "source": [
        "### **Aside: os library**"
      ]
    },
    {
      "cell_type": "code",
      "metadata": {
        "colab": {
          "base_uri": "https://localhost:8080/"
        },
        "id": "wujo-oE1LFj7",
        "outputId": "1217437b-fd3d-4b68-9435-97d01b8fa3fa"
      },
      "source": [
        "import os\n",
        "wd = os.getcwd()\n",
        "os.listdir(wd)"
      ],
      "execution_count": 18,
      "outputs": [
        {
          "output_type": "execute_result",
          "data": {
            "text/plain": [
              "['.config',\n",
              " 'titanic_sub.csv',\n",
              " 'mnist_kaggle_some_rows.csv',\n",
              " 'titanic_corrupt.txt',\n",
              " '.ipynb_checkpoints',\n",
              " 'sample_data']"
            ]
          },
          "metadata": {},
          "execution_count": 18
        }
      ]
    },
    {
      "cell_type": "markdown",
      "metadata": {
        "id": "WHzvFzrqhfP6"
      },
      "source": [
        "### **Loading a pickled file**\n",
        "\n",
        "There are a number of datatypes that cannot be saved easily to flat files, such as lists and dictionaries. If you want your files to be human readable, you may want to save them as text files in a clever manner. JSONs, which you will see in a later chapter, are appropriate for Python dictionaries.\n",
        "\n",
        "However, if you merely want to be able to import them into Python, you can `serialize` them. All this means is converting the object into a sequence of bytes, or a bytestream.\n",
        "\n",
        "* The second argument of `open()` below so that it is read only for a binary file. This argument will be a string of two letters, one signifying 'read only', the other 'binary'.\n",
        "* Pass the `filename` to pickle.load()."
      ]
    },
    {
      "cell_type": "code",
      "metadata": {
        "colab": {
          "base_uri": "https://localhost:8080/"
        },
        "id": "h2c0_sgXhHXs",
        "outputId": "1ae10b26-5d53-4390-969b-6ba956df7a52"
      },
      "source": [
        "# Import pickle package\n",
        "import pickle\n",
        "\n",
        "# สร้าง pickle file ขึ้นมาก่อน\n",
        "data = {'Airline': '8', 'Aug': '85', 'June': '69.4', 'Mar': '84.4'}\n",
        "pickle.dump(data, open(\"data.pkl\", \"wb\"))\n",
        "\n",
        "# Open pickle file and load data: d\n",
        "with open('data.pkl', \"rb\") as file:\n",
        "    d = pickle.load(file)\n",
        "\n",
        "# Print d\n",
        "print(d)\n",
        "\n",
        "# Print datatype of d\n",
        "print(type(d))"
      ],
      "execution_count": 1,
      "outputs": [
        {
          "output_type": "stream",
          "name": "stdout",
          "text": [
            "{'Airline': '8', 'Aug': '85', 'June': '69.4', 'Mar': '84.4'}\n",
            "<class 'dict'>\n"
          ]
        }
      ]
    },
    {
      "cell_type": "markdown",
      "metadata": {
        "id": "4xZpbTR8mxNo"
      },
      "source": [
        "### **Listing sheets in Excel files**\n",
        "\n",
        "Use `pandas` to import Excel spreadsheets and how to list the names of the sheets in any loaded `.xlsx` file.\n",
        "\n",
        "Given an Excel file imported into a variable `spreadsheet`, you can retrieve a list of the sheet names using the attribute `spreadsheet.sheet_names`.\n",
        "\n",
        "You'll be loading and checking out the spreadsheet `'battledeath.xlsx'`.\n",
        "\n",
        "* Assign the spreadsheet filename (`'battledeath.xlsx'`) to the variable file.\n",
        "* Pass the correct argument to `pd.ExcelFile()` to load the file using `pandas`, assigning the result to the variable `xls`.\n",
        "* Print the sheetnames of the Excel spreadsheet by passing the necessary argument to the `print()` function."
      ]
    },
    {
      "cell_type": "code",
      "metadata": {
        "colab": {
          "base_uri": "https://localhost:8080/"
        },
        "id": "7Npk9Ri9iI5n",
        "outputId": "9f07b973-9c6b-4f00-c938-713cdc9dab51"
      },
      "source": [
        "# Import pandas\n",
        "import pandas as pd\n",
        "\n",
        "# Assign spreadsheet filename: file\n",
        "file = 'battledeath.xlsx'\n",
        "\n",
        "# Load spreadsheet: xls\n",
        "xls = pd.ExcelFile(file)\n",
        "\n",
        "# Print sheet names\n",
        "print(xls.sheet_names)"
      ],
      "execution_count": 2,
      "outputs": [
        {
          "output_type": "stream",
          "name": "stdout",
          "text": [
            "['2002', '2004']\n"
          ]
        }
      ]
    },
    {
      "cell_type": "markdown",
      "metadata": {
        "id": "_k7-WX2XoMzl"
      },
      "source": [
        "### **Importing sheets from Excel files**\n",
        "\n",
        "You saw above that the Excel file contains two sheets, `'2002'` and `'2004'`. The next step is to import these.\n",
        "\n",
        "In this exercise, you'll learn how to import any given sheet of your loaded `.xlsx` file as a DataFrame. You'll be able to do so by specifying either the *sheet's name* or its `index`.\n",
        "\n",
        "* Load the sheet `'2004'` into the DataFrame `df1` using its name as a string.\n",
        "* Print the head of `df1` to the shell.\n",
        "* Load the sheet `2002` into the DataFrame `df2` using its index (`0`).\n",
        "* Print the head of `df2` to the shell."
      ]
    },
    {
      "cell_type": "code",
      "metadata": {
        "colab": {
          "base_uri": "https://localhost:8080/"
        },
        "id": "dlO5qNobl-04",
        "outputId": "0e989123-35b8-4b9c-91ae-582ca112e65c"
      },
      "source": [
        "import pandas as pd\n",
        "xls = pd.ExcelFile('battledeath.xlsx')\n",
        "\n",
        "# Load a sheet into a DataFrame by name: df1\n",
        "df1 = xls.parse(\"2004\")\n",
        "\n",
        "# Print the head of the DataFrame df1\n",
        "print(df1.head())\n",
        "\n",
        "# Load a sheet into a DataFrame by index: df2\n",
        "df2 = xls.parse(0)\n",
        "\n",
        "# Print the head of the DataFrame df2\n",
        "print(df2.head())"
      ],
      "execution_count": 3,
      "outputs": [
        {
          "output_type": "stream",
          "name": "stdout",
          "text": [
            "  War(country)      2004\n",
            "0  Afghanistan  9.451028\n",
            "1      Albania  0.130354\n",
            "2      Algeria  3.407277\n",
            "3      Andorra  0.000000\n",
            "4       Angola  2.597931\n",
            "  War, age-adjusted mortality due to       2002\n",
            "0                        Afghanistan  36.083990\n",
            "1                            Albania   0.128908\n",
            "2                            Algeria  18.314120\n",
            "3                            Andorra   0.000000\n",
            "4                             Angola  18.964560\n"
          ]
        }
      ]
    },
    {
      "cell_type": "markdown",
      "metadata": {
        "id": "0mskilD_p9_G"
      },
      "source": [
        "### **Customizing your spreadsheet import**\n",
        "Here, you'll parse your spreadsheets and use additional arguments to skip rows, rename columns and select only particular columns.\n",
        "\n",
        "As before, you'll use the method parse(). This time, however, you'll add the additional arguments `skiprows`, `names` and `usecols`. These skip rows, name the columns and designate which columns to parse, respectively. All these arguments can be assigned to lists containing the specific row numbers, strings and column numbers, as appropriate.\n",
        "\n",
        "* Parse the first sheet by index. In doing so, skip the first row of data and name the columns `'Country'` and `'AAM due to War (2002)'` using the argument `names`. The values passed to `skiprows` and `names` all need to be of type `list`.\n",
        "* Parse the second sheet by index. In doing so, parse only the first column with the `usecols` parameter, skip the first row and rename the column `'Country'`. The argument passed to `usecols` also needs to be of type `list`."
      ]
    },
    {
      "cell_type": "code",
      "metadata": {
        "colab": {
          "base_uri": "https://localhost:8080/"
        },
        "id": "kkX7_PrcpsLV",
        "outputId": "cfd4879c-a3ad-46e7-e15f-0c1a06580322"
      },
      "source": [
        "import pandas as pd\n",
        "xls = pd.ExcelFile('battledeath.xlsx')\n",
        "\n",
        "# Parse the first sheet and rename the columns: df1\n",
        "df1 = xls.parse(0, skiprows=[0], names=['Country', 'AAM due to War (2002)'])\n",
        "df = xls.parse(0, skiprows=0, names=['Country', 'AAM due to War (2002)'])\n",
        "# Print the head of the DataFrame df1\n",
        "print(df1.head())\n",
        "print(df.head())\n",
        "\n",
        "# Parse the first column of the second sheet and rename the column: df2\n",
        "df2 = xls.parse(1, usecols=[0], skiprows=[0], names=['Country'])\n",
        "df = xls.parse(1, usecols=[0], skiprows=0, names=['Country'])\n",
        "\n",
        "# # Print the head of the DataFrame df2\n",
        "print(df2.head())\n",
        "print(df.head())\n",
        "\n",
        "# skiprows=[0] กับ skiprows=0 ให้ผลต่างกัน ต้องใช้ [0] เท่านั้นจึงจะ skip ให้ (แต่ไม่ skip headers)"
      ],
      "execution_count": 17,
      "outputs": [
        {
          "output_type": "stream",
          "name": "stdout",
          "text": [
            "               Country  AAM due to War (2002)\n",
            "0              Albania               0.128908\n",
            "1              Algeria              18.314120\n",
            "2              Andorra               0.000000\n",
            "3               Angola              18.964560\n",
            "4  Antigua and Barbuda               0.000000\n",
            "       Country  AAM due to War (2002)\n",
            "0  Afghanistan              36.083990\n",
            "1      Albania               0.128908\n",
            "2      Algeria              18.314120\n",
            "3      Andorra               0.000000\n",
            "4       Angola              18.964560\n",
            "               Country\n",
            "0              Albania\n",
            "1              Algeria\n",
            "2              Andorra\n",
            "3               Angola\n",
            "4  Antigua and Barbuda\n",
            "       Country\n",
            "0  Afghanistan\n",
            "1      Albania\n",
            "2      Algeria\n",
            "3      Andorra\n",
            "4       Angola\n"
          ]
        }
      ]
    },
    {
      "cell_type": "markdown",
      "metadata": {
        "id": "elePCLpHto4D"
      },
      "source": [
        "# **Importing SAS/Stata files using pandas**\n",
        "\n",
        "### **Importing SAS files**\n",
        "\n",
        "You'll figure out how to import a SAS file as a DataFrame using `SAS7BDAT` and `pandas`. \n",
        "\n",
        "* Import the module `SAS7BDAT` from the library `sas7bdat`.\n",
        "* In the context of the file `'sales.sas7bdat'`, load its contents to a DataFrame `df_sas`, using the method `to_data_frame()` on the object `file`.\n"
      ]
    },
    {
      "cell_type": "code",
      "metadata": {
        "colab": {
          "base_uri": "https://localhost:8080/"
        },
        "id": "TPtpZmROJYSJ",
        "outputId": "914db2c9-c4c1-47df-bdab-c272361f9d74"
      },
      "source": [
        "!pip install sas7bdat"
      ],
      "execution_count": 3,
      "outputs": [
        {
          "output_type": "stream",
          "name": "stdout",
          "text": [
            "Collecting sas7bdat\n",
            "  Downloading sas7bdat-2.2.3.tar.gz (16 kB)\n",
            "Requirement already satisfied: six>=1.8.0 in /usr/local/lib/python3.7/dist-packages (from sas7bdat) (1.15.0)\n",
            "Building wheels for collected packages: sas7bdat\n",
            "  Building wheel for sas7bdat (setup.py) ... \u001b[?25l\u001b[?25hdone\n",
            "  Created wheel for sas7bdat: filename=sas7bdat-2.2.3-py3-none-any.whl size=16309 sha256=dde9118b3477b34b6098a810e2aac81a3fde3fdac894117bd53e55b242efe15e\n",
            "  Stored in directory: /root/.cache/pip/wheels/69/dd/ca/1fd7bf96640d87457056b763e015e20d8e566041bd3273d966\n",
            "Successfully built sas7bdat\n",
            "Installing collected packages: sas7bdat\n",
            "Successfully installed sas7bdat-2.2.3\n"
          ]
        }
      ]
    },
    {
      "cell_type": "code",
      "metadata": {
        "colab": {
          "base_uri": "https://localhost:8080/",
          "height": 390
        },
        "id": "EQ35FMEHsVwo",
        "outputId": "efbf77d7-d4e3-471f-a989-36f9f043180e"
      },
      "source": [
        "import pandas as pd\n",
        "import matplotlib.pyplot as plt\n",
        "\n",
        "# Import sas7bdat package\n",
        "from sas7bdat import SAS7BDAT\n",
        "\n",
        "# Save file to a DataFrame: df_sas\n",
        "with SAS7BDAT('sales.sas7bdat') as file:\n",
        "    df_sas = file.to_data_frame()\n",
        "\n",
        "# Print head of DataFrame\n",
        "print(df_sas.head())\n",
        "\n",
        "# Plot histogram of DataFrame features (pandas and pyplot already imported)\n",
        "pd.DataFrame.hist(df_sas[['P']])\n",
        "plt.ylabel('count')\n",
        "plt.show()"
      ],
      "execution_count": 4,
      "outputs": [
        {
          "output_type": "stream",
          "name": "stdout",
          "text": [
            "     YEAR     P           S\n",
            "0  1950.0  12.9  181.899994\n",
            "1  1951.0  11.9  245.000000\n",
            "2  1952.0  10.7  250.199997\n",
            "3  1953.0  11.3  265.899994\n",
            "4  1954.0  11.2  248.500000\n"
          ]
        },
        {
          "output_type": "display_data",
          "data": {
            "image/png": "[encoded data removed]",
            "text/plain": [
              "<Figure size 432x288 with 1 Axes>"
            ]
          },
          "metadata": {
            "needs_background": "light"
          }
        }
      ]
    },
    {
      "cell_type": "markdown",
      "metadata": {
        "id": "gcjnUvhLJjSy"
      },
      "source": [
        "### **Using read_stata to import Stata files**\n",
        "\n",
        "What is the correct way of using the `read_stata()` function to import `disarea.dta` into the object df?"
      ]
    },
    {
      "cell_type": "code",
      "metadata": {
        "colab": {
          "base_uri": "https://localhost:8080/",
          "height": 521
        },
        "id": "FszSXrC9tL_5",
        "outputId": "f99a43cb-33ff-403f-ec6b-b92514b0990d"
      },
      "source": [
        "import pandas as pd\n",
        "import matplotlib.pyplot as plt\n",
        "\n",
        "df = pd.read_stata('disarea.dta')\n",
        "display(df.head())\n",
        "\n",
        "# Plot histogram of one column of the DataFrame\n",
        "pd.DataFrame.hist(df[['disa10']])\n",
        "plt.xlabel('Extent of disease')\n",
        "plt.ylabel('Number of countries')\n",
        "plt.show()\n"
      ],
      "execution_count": 7,
      "outputs": [
        {
          "output_type": "display_data",
          "data": {
            "text/html": [
              "<div>\n",
              "<style scoped>\n",
              "    .dataframe tbody tr th:only-of-type {\n",
              "        vertical-align: middle;\n",
              "    }\n",
              "\n",
              "    .dataframe tbody tr th {\n",
              "        vertical-align: top;\n",
              "    }\n",
              "\n",
              "    .dataframe thead th {\n",
              "        text-align: right;\n",
              "    }\n",
              "</style>\n",
              "<table border=\"1\" class=\"dataframe\">\n",
              "  <thead>\n",
              "    <tr style=\"text-align: right;\">\n",
              "      <th></th>\n",
              "      <th>wbcode</th>\n",
              "      <th>country</th>\n",
              "      <th>disa1</th>\n",
              "      <th>disa2</th>\n",
              "      <th>disa3</th>\n",
              "      <th>disa4</th>\n",
              "      <th>disa5</th>\n",
              "      <th>disa6</th>\n",
              "      <th>disa7</th>\n",
              "      <th>disa8</th>\n",
              "      <th>disa9</th>\n",
              "      <th>disa10</th>\n",
              "      <th>disa11</th>\n",
              "      <th>disa12</th>\n",
              "      <th>disa13</th>\n",
              "      <th>disa14</th>\n",
              "      <th>disa15</th>\n",
              "      <th>disa16</th>\n",
              "      <th>disa17</th>\n",
              "      <th>disa18</th>\n",
              "      <th>disa19</th>\n",
              "      <th>disa20</th>\n",
              "      <th>disa21</th>\n",
              "      <th>disa22</th>\n",
              "      <th>disa23</th>\n",
              "      <th>disa24</th>\n",
              "      <th>disa25</th>\n",
              "    </tr>\n",
              "  </thead>\n",
              "  <tbody>\n",
              "    <tr>\n",
              "      <th>0</th>\n",
              "      <td>AFG</td>\n",
              "      <td>Afghanistan</td>\n",
              "      <td>0.00</td>\n",
              "      <td>0.00</td>\n",
              "      <td>0.76</td>\n",
              "      <td>0.73</td>\n",
              "      <td>0.0</td>\n",
              "      <td>0.00</td>\n",
              "      <td>0.00</td>\n",
              "      <td>0.0</td>\n",
              "      <td>0.00</td>\n",
              "      <td>0.00</td>\n",
              "      <td>0.0</td>\n",
              "      <td>0.0</td>\n",
              "      <td>0.06</td>\n",
              "      <td>0.0</td>\n",
              "      <td>0.00</td>\n",
              "      <td>0.0</td>\n",
              "      <td>0.0</td>\n",
              "      <td>0.0</td>\n",
              "      <td>0.00</td>\n",
              "      <td>0.00</td>\n",
              "      <td>0.0</td>\n",
              "      <td>0.00</td>\n",
              "      <td>0.02</td>\n",
              "      <td>0.00</td>\n",
              "      <td>0.00</td>\n",
              "    </tr>\n",
              "    <tr>\n",
              "      <th>1</th>\n",
              "      <td>AGO</td>\n",
              "      <td>Angola</td>\n",
              "      <td>0.32</td>\n",
              "      <td>0.02</td>\n",
              "      <td>0.56</td>\n",
              "      <td>0.00</td>\n",
              "      <td>0.0</td>\n",
              "      <td>0.00</td>\n",
              "      <td>0.56</td>\n",
              "      <td>0.0</td>\n",
              "      <td>0.00</td>\n",
              "      <td>0.13</td>\n",
              "      <td>0.0</td>\n",
              "      <td>0.0</td>\n",
              "      <td>0.00</td>\n",
              "      <td>0.0</td>\n",
              "      <td>0.06</td>\n",
              "      <td>0.0</td>\n",
              "      <td>0.4</td>\n",
              "      <td>0.0</td>\n",
              "      <td>0.61</td>\n",
              "      <td>0.00</td>\n",
              "      <td>0.0</td>\n",
              "      <td>0.99</td>\n",
              "      <td>0.98</td>\n",
              "      <td>0.61</td>\n",
              "      <td>0.00</td>\n",
              "    </tr>\n",
              "    <tr>\n",
              "      <th>2</th>\n",
              "      <td>ALB</td>\n",
              "      <td>Albania</td>\n",
              "      <td>0.00</td>\n",
              "      <td>0.00</td>\n",
              "      <td>0.02</td>\n",
              "      <td>0.00</td>\n",
              "      <td>0.0</td>\n",
              "      <td>0.00</td>\n",
              "      <td>0.00</td>\n",
              "      <td>0.0</td>\n",
              "      <td>0.00</td>\n",
              "      <td>0.00</td>\n",
              "      <td>0.0</td>\n",
              "      <td>0.0</td>\n",
              "      <td>0.00</td>\n",
              "      <td>0.0</td>\n",
              "      <td>0.99</td>\n",
              "      <td>0.0</td>\n",
              "      <td>0.0</td>\n",
              "      <td>0.0</td>\n",
              "      <td>0.00</td>\n",
              "      <td>0.00</td>\n",
              "      <td>0.0</td>\n",
              "      <td>0.00</td>\n",
              "      <td>0.00</td>\n",
              "      <td>0.00</td>\n",
              "      <td>0.16</td>\n",
              "    </tr>\n",
              "    <tr>\n",
              "      <th>3</th>\n",
              "      <td>ARE</td>\n",
              "      <td>United Arab Emirates</td>\n",
              "      <td>0.00</td>\n",
              "      <td>0.00</td>\n",
              "      <td>0.00</td>\n",
              "      <td>0.00</td>\n",
              "      <td>0.0</td>\n",
              "      <td>0.00</td>\n",
              "      <td>0.00</td>\n",
              "      <td>0.0</td>\n",
              "      <td>0.00</td>\n",
              "      <td>0.00</td>\n",
              "      <td>0.0</td>\n",
              "      <td>0.0</td>\n",
              "      <td>0.00</td>\n",
              "      <td>0.0</td>\n",
              "      <td>0.00</td>\n",
              "      <td>0.0</td>\n",
              "      <td>0.0</td>\n",
              "      <td>0.0</td>\n",
              "      <td>0.00</td>\n",
              "      <td>0.00</td>\n",
              "      <td>0.0</td>\n",
              "      <td>0.00</td>\n",
              "      <td>0.00</td>\n",
              "      <td>0.00</td>\n",
              "      <td>0.00</td>\n",
              "    </tr>\n",
              "    <tr>\n",
              "      <th>4</th>\n",
              "      <td>ARG</td>\n",
              "      <td>Argentina</td>\n",
              "      <td>0.00</td>\n",
              "      <td>0.24</td>\n",
              "      <td>0.24</td>\n",
              "      <td>0.00</td>\n",
              "      <td>0.0</td>\n",
              "      <td>0.23</td>\n",
              "      <td>0.00</td>\n",
              "      <td>0.0</td>\n",
              "      <td>0.19</td>\n",
              "      <td>0.00</td>\n",
              "      <td>0.0</td>\n",
              "      <td>0.0</td>\n",
              "      <td>0.00</td>\n",
              "      <td>0.0</td>\n",
              "      <td>0.23</td>\n",
              "      <td>0.0</td>\n",
              "      <td>0.0</td>\n",
              "      <td>0.0</td>\n",
              "      <td>0.00</td>\n",
              "      <td>0.05</td>\n",
              "      <td>0.0</td>\n",
              "      <td>0.00</td>\n",
              "      <td>0.01</td>\n",
              "      <td>0.00</td>\n",
              "      <td>0.11</td>\n",
              "    </tr>\n",
              "  </tbody>\n",
              "</table>\n",
              "</div>"
            ],
            "text/plain": [
              "  wbcode               country  disa1  disa2  ...  disa22  disa23  disa24  disa25\n",
              "0    AFG           Afghanistan   0.00   0.00  ...    0.00    0.02    0.00    0.00\n",
              "1    AGO                Angola   0.32   0.02  ...    0.99    0.98    0.61    0.00\n",
              "2    ALB               Albania   0.00   0.00  ...    0.00    0.00    0.00    0.16\n",
              "3    ARE  United Arab Emirates   0.00   0.00  ...    0.00    0.00    0.00    0.00\n",
              "4    ARG             Argentina   0.00   0.24  ...    0.00    0.01    0.00    0.11\n",
              "\n",
              "[5 rows x 27 columns]"
            ]
          },
          "metadata": {}
        },
        {
          "output_type": "display_data",
          "data": {
            "image/png": "[encoded data removed]",
            "text/plain": [
              "<Figure size 432x288 with 1 Axes>"
            ]
          },
          "metadata": {
            "needs_background": "light"
          }
        }
      ]
    },
    {
      "cell_type": "markdown",
      "metadata": {
        "id": "jOFg16DxKKRF"
      },
      "source": [
        "### **Importing Stata files**\n",
        "\n",
        "Use `pd.read_stata()` to load the file `'disarea.dta'` into the DataFrame `df`."
      ]
    },
    {
      "cell_type": "markdown",
      "metadata": {
        "id": "iQnpPzQ6Kt6j"
      },
      "source": [
        "# **Importing HDF5 files**\n",
        "\n",
        "![image.png](data:image/png;base64,iVBORw0KGgoAAAANSUhEUgAAAvwAAABhCAYAAACqP3U7AAAgAElEQVR4Aey9Z3BcR5Lvu/thI/bjxou4X/a9+2Lf3t2Z3TsajaSRFylHylASSdFI9B4kCAKEJUAAhCEcAYLw3nvCexLee6CBhvfeu4Y3DY/fi3MajpQ0I81IM7tziYgT53R3naqsrMysf2ZlFf6OF38vOPCCAy848IIDLzjwggMvOPCCAy848IIDf7Mc+Lu/2Z696NgLDrzgwAsOvODACw684MALDrzgwAsOvOAAfyHAvwlsXZvC/cXfT+fA3xLftuXhp3Php7yxKcraL8i3nap3HkQx3/Ppp5D785T9qzb+53ZBIH5z21L8uZX9H/q+goc79vavyIVfRhR/mVr/imx60fRfjAN7ZWdbT/Y2vvf3vd+/eH7Bgb8NDvxFAP+OGm0qpqFfnnXbLQrgYfv5l2/1l2tB6MNWP/4i3dlt7+dtbrfe5wGJApz/VA7u1rfjRz5HsDj+u8V+agM/ovxWg8+1+yNe/IWK/KKd/YVp3qZ9r97+l2HsL9T3n7vaXR7u2Iyfu4kfWd8v7nD/SDpeFPvrcWDHLv+iJPwUG7G37Lau/KLEvaj8BQf+y3DgLwL4t3srTACr6xssrW7+opd8ZQP56ibLa5usb2y3/t/1vtdA/YX6sBMZ/+U8NEWvfu6+fbc+QeZ2QP/Pzr7n29tk13F5/refvfG/oQq3eSXc915/Q138i3blvwIPfzkahJqFv+371scXt//SHPilRuun1Pt9Zbe/277/l2biC+JecODP4sBfDPALoGt9Y5Np+QZDM+sMzQj3X/Yam1MA/z+LQ3/1lzdZWZIjX1xidW39F6dmc3ODVfkCU5OTzM7Ns7K29rOvkqytriBflLO8ssrGnxsC2txkfW2Z6alJpmfnWV5d2wHdGxvrLC3Os7i0uvPdz8/ATTY31lleWmJ5eeXP78+fRaAwaW2yuryEXL7E2tr6L9jvP4vQ515WTLbrq8vMz04zNTXN/OIS/+199ed6+Zf4KOjvyvISS0vLrK799Tgo0iGfZ35xWbT7P1vfNzfZWF9lbXWdjY0/DaStr6+JuvGnvv+z9eVvvKL19VXRzi/9zHZxfXWFJfkSK3ts/Y9npUJmNtfXFPPq0soL1/HHM+9Fyf/mHPiLAX6BT2sbm0wsbNA7ueea2vO89/uf+NzzPeUFh2JhRQGCdiOv3x0xAbCtLMgoKipAUt/JxOwiAg7d3FhlbmqEKkkZRdIOZhaWtwDd8xON4vP6mpyJ8TEmpmZZWd8us33/brs/5puN9TU6akvJK6ihb3hmT1Tr+Xo3WFqcY3x0hMmZRX54Lnz+vV0qhIl0RtZPQlQY7m6eRMRl0jU8weqPAuXfV69A0yyysVGm55cV4HNzjZG+FkoKCmnu7Ee+uu3ECO9/Xx0Cfdu/Pfv75uY6i7NjVOUk4+3hzuOoWApLy6mpbWBwZIKFuSlaq3MobR5meaed3f7+uKdN5iaGaZAUk5WewtOnT7euJ+I9NaOA6pp6JBIpNY09LK6sPVftJtPDA7Q1ttEzOPnjQcrGCsO9HbS1dyGbXhDH89neP9eM+FFwPuS011dQUlLBwOgUazty+H3l//h3Ao+XF2fobK2mqbWNebmgA3/8PUGB5PPTdLTU0NDcinxFcBx/6G+TjZV5qkrzCAnww8cvjNzSeuRiQz/81g/V9ke/365y+/7MCwKgXGFidJDxiWmWBbo31kQ70NpUQ2tnN6u/3MLXFiXfS9gzVP7QB8H5HeiqpbahkQHZwg8Ve+57ob0/vU1hrJfmpxkbHWNqRiGrayty+uozyKnq3NL955r8iR+FMVicm6CzWcrTpHhiYxNIepJCfpmUroEx5HI5MxNDFBXkiXqZkppJYXkdvUMyllbWRCdhbnKYutI8khPjiYuNJyUtG0lNMyOTc6w/Z+ME+memJkVbvrSyLjr18rlxqiWVDI5OsfyzOVN/Bt//KA9/wbp/RNULk4OUFpZTUd31PXbxjxL/gwVmxzqoqaulvW/su07t5gpdLQ20tArz+JI4jz9bkUD4Jstzo3Q011FS1c32DPTDOrCBrKeTxsZORmRzexzYH8GE7ca3dGRyQsb0vOBkCH/f976Cvq0Cf73b5gbyuUlkE5PMLPwhen8kiZubrC3PMdA3xPTsgogFf+SbP8CnH//2i5K7HPiTAL8Anjc2NsTrDwHp3WaEp01xkCe3AP8OQH8G8K8/4wzslJncoGdija7xJVqGF+mWrdEz+WzZ3mfqUTgRzwL+DTY3hJSLbap2FWtDiBD3lvHtiaOcU7tPjqRZNFDLCxPUFURz/eI3nNT2omVggtWNDYRKNrf6L/JBrHQT+Ww/mUlx5JXUMrmwFWl+vuwzNGzT8t27gsfrrC4vkhH2CD3jIIprBhXAT4xyrbO+IUS5NkQgvbm5wlB3PUnhYeRLOxEmqY1NIcIn9FkxVhvru+W/2yKsLE7TWBzLR5+f5NIVFUwf+FLfOczKuuL97fbEOsV6FSksQv0CP4T7XiO2ubnMYFctSRHhlLeOsiq0v75EbWECFoaGxGWUMb24stOHnXcFnu2Rse1+7Py+Rfz66gI9jYVonT3BpatKGJmbE/Q4FC9PX8rqupgY7SEl2BiHhDrm5KviSsUOL8Tx25YBhVDsiMYzzNlgpKOOcGcLtFRvcvnCGY588Sn7P/iSK9euc1PDBFefx3h5B+EZnI9sdomNLX4pdGOD/joJcUFRZJR1KAD4jkzsjsfzbW+uzVFXmkFUTDJNveOi7mzzZP2HxlEY59UJkkMcsTB/SEldtyjHwkqHghZFx0QerK+z/gyd279t67aCNsEJnJP18iTai9DoeEam5xF8iB1aNjbECXBXr7brWWd6rJf4cE9CYxKZFCO9ChnZqzsKujaZH2nEyFCfE6cuoqZpwuP4fObXtvVsixZRLgQR25a7bdlW9E+oa2/dO7qxR1fFMuKw7/ZzW65FWsQVLhnZsSGkZpUwOjHH2uoyI901PA50Jykzn8X17fYFvdgaQ1GvFd/vpe8ZO7nlKDw71op3hHLPj6uCVjEhbUsit9vd+rilgwINwrtC+dXleaQ5QQRGxVDRLttjpxVa+7wOKWhV9OP59oVWhHFV8HSPrG7Zu228IjhIA20SYqKTKKluZ2ltg+WFKUoj9bjnn0Pv6OyWrG3Rv/2iQL84Nnvq3u7anrtQv2y0h9y0WB7cv8uNm8qoqKhw44YSN7WM8ArPpKunn7aqNM6ePs25y9e4dl0ZZY17uAXFUdfaw9hwH3nxQdxVV+HGzZsoK99A6co1DE3syatoRr767GrIwuQA0pIMMorrGJmSi6uIE0P1uD2yo6S+l/llhX0XeL47dlv9e65Piq7sjvMzMrHVz+16dn/bw4BnHoV6tu25cBeVUSyxU8cevRa+27l2+K7Q353vd/RmV88UTe55d6ce4Zdt3VHQIdazTeMeeZF1VfLIygl77ywmd0DudsG9d1Ehd+yzUJ8orVttbpfcpneoKYvg8GCelLSIq7cKnim0anN9jsz4MMKjkmkemBYDdMJ7oo5s6apQfnakgZS4cB645rPyPbq33abivkZrfgahIclUNg+JToaiTkX/n9Wbbdq3f1OMkdD+UGsJBXkZVLSO7c55O3xV6IKgD2LdAs2KLokkbPd9L1/Efj8z1lttbtWxo+tiG4rfxHeE+VqUhS2ZfEaGFXqwub5Kb30emXkFSDsndmRop85nGbT1abvv23qt6LtI+8Y6cyMNeLkHU1bbsas/Ah0CfYLO7O2Lotff28qLL/90DvwkwC8MnBBJ6e/vp6qqCqlUikwmY01I+3h+xv8OTYr8/fE5Abiv0iVboVu2Ste44t4zIQD4dRHIdwu/b13dE8J3G3SPy2nq6iWlrIOG/gU6ZavPgH7hfUV9ineF9xSAf0MEzWNDfQwMyxQRu+0Ja4vGjVU5Y63pvPLSr/hfv/4PrDwj6RqeZKyvEV9LNfb//n/z0hEzqjpGxGXEpYUZBno6kFZJKK+ooLN3CLl8kb6mHIw0bmJm60VhVRP9QyPMz03S1dyEpKJcLNvcJkRs51n9ocirADiW5YwP91NdJaG4MA9XUzWuqLuTXdHHivDbUA/VlRJKy0qpqmticHyKudlxyrMjUb90FkuPSKrrGhgYm2ZxcYHhgS5qpJWUllVQXdfM8PgMa+Lmhq3JQlS4VSYHW4lw1OE3B28RGB6HpKaN0fFJxkcGaK6rpkJSQW1rj7jSIYCgudkpRkfHGR4aoq+7m54BmQjqt43JyqKMkvQw1C6dxzE8k8amJkZkY5SkBqN74zrufhFIpAo5auseFKP9gkFals8x0NtFdVUlkkop7d1DLK0+C1phg5mxXp4EPuK1V/bjHhJDXkk55WUF5GTn0tg+wPhwJ3FedzALlzK9sIIQtZMN9dFcIxUj8nUt3cwuCA6HQLHCWH1HbNlkfnKMZmkZBTlZRAe7oXX1JG8dVCE+JYOM7CIqK/LxdPfF0iEWaV0j5eXlSGvqGJucE9OwJvrbkJSWUdPcz+rqKkuLM3S0KMpVSWvpHRjdSjvabX1zY5H2hnKKS6voGZ5ieXmJadkQzfXVlJZWUNvQwejE7Faa19bMsLnB+so4UW730VLTIjIxgwqJBGlNLX1DE6LTsLq0wEBXmyg/ZWWV1Da0MzI+zZowSWysMz8jo6WpnvLyMqprG+gdGGFCNkx5QSZ5JTVMzstZXVlhamyIlsY6yiuk1Df3MDGzIMrUthkQQMnMxAhlBTnkFEmZk8uRjQzR39tLV0czDbVVVNc1MSybYXl5gfq8x5y7qsHtew6kZRXS0jnIwtw0/W1NSCvKqappom9kUozWrq0sMy0bZ6B/kJHhQTo72hkcHmFwYICe9nY6WluoqRJ41MLo+Dh9Xa3UVVeKst83MsWK4OysLjLS3420qoqy8jLqGpoZGptCviRHNlCLueo5dI1sycwrobunl+6OZorzcympamJ5Y4OVpXmGelqokUqQVNbQ3jWoAB9CZGx2nIHBIXq6O6ivq6GyupHufiHSLMQSt+VMIXPra6vMTo3T2dSApKyU6ppGBsemxZSsmakJxsZkLCytiZPi2vIM/YMyMU1G1JPFeUYGuqmtllJaVkNHzzDT0xOUPPXGyduH6CwJtTVSyiT1DMsUsrgrYcKTIj1mcrSPqirBPpRRXd9M//AE8uVVRara4ix9nS1USYR+1tHVO8yCfGXH3gu9WZFPUpjsg7KyOo88I6ht7qC/t5tcfzWU7WIpKJdSJa2muq6NwdFpkf8Idm5plv6uZqSVEqqkNfQODLMotLuXSGHOmRmhMC2MCxcuclbFhMSMPCokZeRmJODmZIeVfTQ19S1I8yM4cOAEnhGJJCfHYm+mw8UL13AOjCM/J5nbp45xRd+e1NxCSksLSAgNwM3SmvSCGhZWdgG/sJow0FxCoKsJ9+z9yCqppaNniKmJTlLiE2jqHGZ2foHpyXH6+/vobG+ivLyCxtYeRkdH6e1sQ1pVTU1dKyOyWYVDLOjW9BidrY1UVgirkPUMjU6IqUXrayuMD/ZSL62iUlJFkzBHTM3vSQ/c5sgma6tLTI4N0lJfjaRCQkt7LzPzS6yuLDMjG6a9qQ5JeSXVtW2MTy+I88XY6DCjsinFmIpOoZyJkUH6R2dYWVlmbnKEzpZ6KiUKukYmZ8RgkRBsmpCNiX0a7O+lt6ePsakFluQLdLU3UyHoZXU9fYPjYt0CqBVWmbsFfpSVkhnrh4qKAaaOKchml/eO6p5nhT6I7y7MMjLQz/S8nDUhCDc+xujwGPPyFYQ0UNnYCEPDE3RUJuHq7YF/fDY1tTWiDWpo7hP1ZGN9AWlxDvlFFfSOzbG+tiau9Ha0NFBWVoa0pp7+oTGGu6uIDPbjlmE0LW0tlJaWUt/Uimx6dmtu3EviJiNtNeQVVdHeO87S4gJTsnE6u3ppbW6gtLSE+sZWpmaE6L8QpFtgfLiXupoqSkslNDT3MDY6QmG8CzaWhrhE5dHW2cv41ALyuWnRRo2OjjDQ00N3ZzfDQ8MMDQ0rMgo2hMj4AuNjE8gm58Vxnhgbpre7i842he40NLczMDTMQF8HtdUSJDVNog0RVrYEIC2fm6KvvZmqigok0nq6tsZrZWmWkZFR0b61tjRRVl5OY2sHc4tLyOfHyYmwxcTKBq+4Ijq7+5maFTIHtmVxD3/2PAp2f3Fukp6WRqQVEoXNHZpgcXGe1pJwjnx1BnufSCrq2hgamWB5ZQX5/BTdrfWiXtTWNzE4OrG1IqyYlZ81CHsae/H4kznwkwC/AFaampowNDTkN7/5Da+88gqBgYGMjIzsTAA/RIGQmjI7PUljey+FVe0USDspqe+hUNpBaeMQDQOLohPQ0j9FWW0n+ZJWCmv7qOmZpX10hda+MfLzk9B6FE6apJea7gkx2t8lW6N7YpW2oWkq6rvIkzSTJ+lC2jlNz8QqC0srTAw1Eexgjq1XgmjkhL0Ee/82VhcZa3nK71/5HR/u/y3fqBiTkFmCpCCZy5eUOXP6OK8es6G6fZSF+WlaKjOxN1Xj04/f5Y0330TT6BHVTa3EuGjz8Tu/46U393Ph+k2cA2OplWShd/US7771Fq+/8QYXle8QlV7JyIxcJEFwlESveytCuL6yyHBXDUHO5ny0fx+vvPwSv//3/+TwJWtypb1MjnYT52POwQ/f45VXX+WDr87jGJCAtKoEX+vbvPHyr3hp3+coXTuPZ1wJvb0dhLje5/OP3+OV197kwJELPPJNZmxmUbE0ucWK9eUZWkrjOP/pO/zb21+idPMmQQmF1NVIifWx5eIXB3n37ff46qoBifmtTIwPU1n4FEcnb5wdHDC7Z4ipUxITC0tbRmEDWW8dXmY3eO23v+b3B4+jqqLE47RScpMCuH3qOJfPn+Xyqc/5YP97XFJ/QG3vNAuLc3Q0lmJvrs/BDz9g3/sHUL3rgLR7kpW9y+gbctokGdz86A3+x//1Pzh5VgkrxxAS42MI9A6kuKqVsaFO4r3vYhFezdTsAqO9TUS6PeDC5wd4772POHr5LmnF7SwI0bodILZXMoTnrSiIGB1aZ7ithAA7XU7phDErX2VtfR35dBehQV7c1DRGU0udV197lQ8//Rzv2GzGZhcZ760lMy2JjLJmFuemaKlKR/nSaV5//fd88PHnWLmE0NQ78exS8doc0twnREclU98xyGh/OykhTlw6+SWvvPouX36rTUhiKRMzi7sEi4B/ggQPcy58fZwLZ77l6Cf7OPDpYYzsHjM0vch4dz0eptp8vu9dXn11H18eV8E1KIXReTnL86OUZEZx7cIp3njjdT778gQ2riHUNDcTHxpAQHgWgxMzjA+0kRDkzJVTx/j9W5/xzUVj4rKrmBJWa7aoEVKBZMM9RAcH4ReWhWxqlARfZ8wM9NC5fYXTh/fzyVff4BaeQWd3E94Wauz78BM+O3ISM2snsksaqSt6itnNCxx863XeP/QtVp7x1HeOMjnWR0qYPxZGZrg426GtoYmbfxBOD23Qu66EmtIFvvzgdQ58fR5Xby8s9K5y+JN3+fCrs1h6JzEwucDCRBuhzpZ8+tEHvPbaaxz55hKuwcm0dPdTkerDl+/+B79+7V2OnzzOQ2cvUtMzCPUPJjq5jIXVZXobinEyvMEXH+/jrfe+Qk3PicrmPuRLy3SURGNp8whjA02OHznEW/u/Qd8mivbBmR07KcL9zXXmpobJfxKKxpmv2f/aaxw6fAqXx7m0dvVSmBJLUEgcTX3TYlrRVG8J5o9iqW4RAgxzdNaX4Gpxh0MHP+bl1w6jpu+OpKmN7Hg39PQ1uXxTmS8+O8BvXj2KXUgBIxNCus1e2yc41zNkR9jz8Qf7eOXV33PgyDms3CJo6hpGvjhHa1kKFjpKfPj+Pt7edxQDq0CaemTiKs+28zIz1oy1+rf8/je/4s39h7iuYkREYjaZvhp8dUMfDXUlPv7wY97/7DqOgdkMT86ztrJAZ1UW1nevcuCDd3j/o4OYPfKisWvoueX+DQZby3E11eDyLXPSJR2iwyAAxLW1Febn5pgYn2RucojqgigOHb6OpG+chaUF2iU5WKtrc9/ak5AgF7769CM8E0sZHp9mUb7EklzYG7WoAKsiW4QACKyvzFOS7MOZLz7irfc/4ZySKoaPYujqkOBsaUNRdSdD/V1kJwZjam6GntZl3nzzDb6+pI2nnw+md9X4cP9HfHxICY/wImYXV0TnpjQ1hLsqZ3j/3Tf47Muj2PtEMTA+ydRoF362hpz8cD8fvPcBl1XvEZ9T8500RGG1bbS3hTh/O64cP8C7773LdU0zsiQdDA90kxXlieq5w7z15n4OfnED/7g8+vs6iQx0wyM4mfYBGWtCHX2tRLg9xCGimMH+LgqSA9FRPs2+d97g8y+P4BWeysT8EpP9LSSE++Dk7sWjB2aYmtkQni6lra4I3VtKvPXmG3x48DDmjiHUdY4yPz9FizQT3RvneO3V13jt1//KS69+hb5dIhNzPwT4FTZWAMlddUX42D0go6ydqckhMqKDcHX0pqRpgOmJYaIDfXDySqE8Nw6rB0bc1NRA6fI3vPbGRxw7b0VZ8whLS1OkRwTx+HECDb0y5mbGkOQnoHrpW1555Xcc/PQwDj5RVFXmEervwOentFC5eY2XXvpPvvjmAlHpRcjmhJRehSwozNkmI82FxCSmIWnsZXyghbS4UNQ0TLh25Sy//c1/8vnxszwpkDA9P8dgew2Pnc04fugAv3tlHycumRAdG4ep6jne/f1rfHLiIjrGDjzJb6ZDmo2Pny9uHu5Y37+HsaEJXi7ueLr6UNQwJAY4ZgaqCQlJJCJZimysl1hvB+6qaaBz8zIH9r3O0XM3sLJ3wva+Ol8eeJu3Dp7EJjCV7tEZ5Asz1BQ+5f6tS3z85tu898kJdK2DaegcYaSzAk93b+7cNUHp6hl++7vfcvLyLYrrOxhoL8Loxgnefus9Pv/2KvrmHuRW9rAiBsd2p5znn9aWZqnIiuDeldN88vZ7HDxyCUu3aGqbGvA0vsp//ss/886Hh7h4RYfAxyn0D48gzU9CT+kYH7z7BkdOXMA5+Amdw9Ni1VuQ//lmXnz+EznwkwD/xMQELi4u/PM//zN///d/L14C8E9NTRUjl3+IhoXpUXJjfLj67de89fLrvPLGR3x65DivvfUuh87q4pNcT0P3ELHRjzl+4AAv/e/f8tahyxi5PSVb2k9WTiG2D0w4fF4TMwdfnHwfE5NTR3XvAh1D0+SlJ3H12Bf857//mn/7j09Rt4ihoGGChaVlhrulmGurcN0kkPaBye948EK0b6w1lX0HVHB0d+b8xdMYGOnj7WLB/UcO+Ho95M1jDlS3D9PXUspDTVVua5oRl1VEQUY05z/Zj7l3Imnxvlw4fZzr2ibEp+VSXd9CT1MJPoHRpGXlk5Uaw319dS7efkhWZa8YDViYm2N2ZoaZmVlxEhrvb+axoy6HDx3noWc4xfnpGKud4ry6PTnSHqZkQxSlJpL0NIuysmIRfB47fgy/iBgigl058sUnqJo4kpmTQ03bIOOjgxRnpSLktObmZuBtZ8B//MevSa3uZn55fQfobq4LaQsVuJtd4HN1B55k5lJVLSXUy4LzF89h4exLQV4KdnoneH2/KkVVUuLDHdn/7pu88fY+7pnbEhRdyIx8d+Pq4swwSaEOHP7iMwwdAikoLKS5q5eytDAuHTjAZ5+cxc4tgEAPWz597WVsIypori3C/t5trqlYEh6fS2FaNIbnj3NcL4bxWfkeZ3+NsYF6fKxV+fdfv4x3dArlFeUkhrpjoK5BXEYpI4MdJGwBfuE5zNOUi1ev4xEST1lRFp7WOnz6jQFNw7OsPucE/pAsj7SX4fdIj5PqkcwJ/NuE5dkeAtxMee/gN5y5/YjIuCgM1U9x9NtzlDb30d2QQ3CwC35PS+lvr8Hb6DzfKHuRU1RGcogTQX5eVDT17ln12WRzZYrUYCceWNmRL6kiPyGY618e5UHgUyorCvH1DiE0tlCM3O5AOGGpf2WCp16WfPb7Dzl7RR+/oBDcLPQ59flX+KY1MtzZQPbTRNIyc8nLSMbBUIPTX31LUHYTHeXR6CjfwOxRKNl5hSSFuOBtb0Z6QTEPTfXRNPWlqbudcEcrTp9QRsMiQNT9R/dtsHeKpF9If9kCTsL+l4HuBiyMDLlt4kvfSDeud2/x/su/5YKSKv4hwVgbaXDqog6JhTVkRtqgrHcPK69wissqKMh+gqH6eY5dUhdlMcbPjONHL2JgFUJLWx0eRmq8/H//Tw4cOYuxuQ3RCTHcU7nOx799G7W71sTEBHHjwhH+n//3X7iqfo+QsGBs9DVRuqpNQlkX87I2Up4kkZKRS15OCq7WulxT1sInroLupkIuHT/I6evahEXHIamWUpCThL6uAeYu0chm+rC6eZkzyvcIiEvnSXwQuprX0LZyp6F/ivo0Zz47uI8L6ob4hgSLzuu3Z7QIelInypnAIuESAg3NlWnoqF9GVf8+RRWVpER78Cg4k8raFhJ93bhv4U5pq0zMQR9pTef4BU8ySzvo76zGxeQex77RxCk4mdz0BJTOaPM0t4LEMHsunTnKeVV9wqIeY6d/lVc/MaKsYeCZ3PNNNlhemqEkNY4n6XkUlRTiaWfMqW++xiU4ko72WkxOHUXFxI2MglLSnybgF5RIZePAVt6zQvKWF0dJCrTk5NdfomloRXpuMXWNzWT76/Kb373CbdNHhIT4YKh+k3NKluRWtjMxVI3Olwe5YeDE07wi4sPc0VC6jK1vPKOzSzvqt7mxQn1xMvfVVHD2jWdgUi6mtCzOzzIzMy3azfkFuRiRFAH/V1coax9kYlLY2xPDvZu3sXQMJT01GeWvv+D9r1XwDYunqFxKe1efYr+VsLl9p0UhhWmFztpU7M1VuGVkxeOkLIoldXTVZ6L09VHicqro7qgnxFGHzw99jvhOHhMAACAASURBVLaFMxlPw7n48cv8+uW3uaRrg6+/KwaaShw+bUFT3ygjHfmoHPsWQ1t/soqKCXK14tLxE7jFZFOW6sFb7+zHNyKR/JwUHocGEJlazsLS6pakKIiTT/Tw2MuC46fPYOEaRFFhBl6uNgQklpIa4YvKRSXuWnuRmpWGj8Nd3njjTSJyK/C00+Xq9eukFlUzNzdBTV4MVw4dITyvkZxYX9TPX8bMPpDsglzCPK349tBXxJR2MdQuwfbuOd7cd4DjFzVw9AwkODyOR1rfcOqGC9lFElKCndC8pYOVRzK1kjweqR/jgy+uE5eaRUKIAxeuqGHikvxHAD+sLS/SU5+Dme41bINyaW0o5YHBNT48fA6b4Dz6u1qwMr6HiVu2GGi6o3Kao2evYusZSFiAC5dPHMPIJZPR8SE872tz//5DCmo7qC9LRU/pKN9cNSQxLYMIrwd4e3uRnfMET/u7/Nsrn6N+34fYKB8unjyI7n0rajoGtpzOXanokUTy0MuXp2VN9AuOn7UO//LSQfQfBhId6c2VU5/xwM2XmpZGkgNcuHnmCj4JeUhKsnByDiLhaSaRnvroaF/DxD2akooaugfG6ayI5eqpz3n9o6+5rmWCl6c3jsYm6GqYEF/WKwajxjqKMDH1x8o1n8G+Zhy1r/Py//wt1zWsiAz14PSxT/jXf/sVp6/eIiw8jAcaVzl9zZj08jbaqp5gdOcGNzRNyCkuJzvBnyNfnsE+JJ3q8mSuXDjFb945jo6FO8G+tpw8tA/7wFg6uxqI8byDmo46lr5xlFXWMzgmrPwIPNnlyx61EVchh5vTOPT5AdQMH5KWk09skAtnzlzH2juG1BgX3n3z92iZWJOUnk9tbTVl2ZEoXTrJNX1b0rMziQmywz0ogYrmsWeqfvHh5+HATwL8Y2NjmJub84//+I/83d/9nXj90z/9E1FRUaysbG/s+H7C1lcWaK3ORvPmVS6qGWNpqsqhU0YYWLtzQ90MzXuuPA734dsTV1A38SEg6ikPHxhw/MwNdG1CiUvJ5pGNCYcva2Lq4I2jVyhRWXVIexSAv7AgGxvbhxhaPOSm0ik+PGaBR1Q98ysbrK7IGR8dZnB8mmXx1JlnaRQj/K2p7D9wnej0XIKcDPniowO8++kVAmNTyIt34a2v7ZG2DFCWEcylM6e5oW6AV0Awvt5e6Jz/Eg3bcCors7C5q4m7Xww94wssL8mZHOniSUIMXp5BeLq7oqerzQVNB9Ir2pmb7iHMzRl7W1vs7RxIyMgnPysJ01tKWDiF0TU8La4oJPrdR+WuN9nl3czIRpAWZBHq542fjx82Zjp8cugrXELjyE6L5Z7yFbxj88Vl0eXVVXG5VpKbQXiAH14ebpgZafMv/9+/EpzdxMziyh7V3WR+op/cCAtuuOQyIJthoK0KD2sDTB2CkbYNIV+cpq8pmzP79hOdkkHE40BuajsTky5lcmaORXFD564x2Fibpzo/DkNlJSLymlgQTlZYmacy8zEGN5Txe5xG39g0Q90NBN8/hUVoPnnJIdw8dpSbKrq4u/vg7+nCfR0l3jxkRPvY7BagFMZvk8XpAXLj3Xn9fSUahyZZlE+Rl+iPofpt4tJLGBns3AL8UhorczHTOM9ZJQ1s3X3w9fXB0kSffQdOk1U3wqKYbvGsXOx82u0Sw98B/JssT3cT7BeAmV08bf3jTE2MkBPnidKpC2RWddBRmyuuAAQ+qaCvrRpP/Qucvm6ET3A4ySnp1DZ1MD0vrIxst7jJ5toUKaGOWFrakVdRSeHTEK4fO4yWuQtRsUlk5JbT2TcqRie33xLSJDZWZMR7mKN3W4+0wlpkUzN01RfiZ6eHgUs2Q0NdlOQ+ISw0CG9vdww1bnDqyEk8n9TRVhyHkeo1dO9Z4x8SQVpGjpgW091Ri42JPhom3lRKsjA3MsXcMYy2ESEFZon52Vnm5oWNWEJuqOJPTIvoasD8ngFqRj70j/bgrHsTU1Nb8qo7mZSNUlOQhJmlNTFFXTQURmLtE0FCcbu4elSUEoauzh18n9aIS8lzEx3Y6ahgrGdMgaScAGt91JT1yJN2IpucYXq8VZzodW5qUtU1xszkKE99LVHRsyGzvAnZxDgVmRGYmxjjEStlfnaciuJcAv3D8Pb0xspUl+vqRvgkVDE91YXt7Qs8sPOlpXtIjJI1VmZxV8cAU/swupqyuXhBg8CEAnHFY0o2SEZ8ABr3bInNb6M62RZt20CyJR1MTcqQFqeho2WKQ2A2sytCjq6CRxtrS7TX5HBP5xZXlLXwC4smISWLhs4hxseHSA5yw+KBO+Ui4F9hrDWNY+c9yShspqY4AQtTczwjcxmdXRRtzdTkFLMzkxQ/9cbBy5/U8k7mZifolCbx2r7rpJS3Mbe8Z1O5cKLP4jT1RTmE+Xvj4+2Nsb42X3x1GHPXIBqbqzFXPsVFVUM8/cNJSBYckVbFoQa7QsfG6gLV+ZGoa5ngF5PLzOIS89Pj5Adqc8UynJr2YaYFHiWEcvO2BZFpZdQUhvHGK+9i+MAJb/8g3B1s0VVTxtg5nL7x3c3GAviuLUzCSFUZ9+BkhmaWWF2eIzPKD/uH1hgZmeMWkERTeztVecF88N6b6FvaYWf9AI0rl9DQsSartAXZhIz6wlRMbt7k/NkznDh2hMOHD6N57yE5kpY9hwcIlmWTyb5aksKdcAp7SlPfJPLFeQZasrl29Agx2VV0tdeS8NgVc+94mrpHmZkYxtdKnXO3vSip7WVqrJOkcE+OntKhqL6VsiR7Dhz8GhNrJ3wDgnGwNEHj2jmMPROpSPfnwAefYWzjyOOYRHKKK+kekrEu7Bfb+dugrz4fRwsDTBwjRDsjpPnNz80iG2whwtsOLQNHcqvamVuYp7e1koeax1B3Ticz4TH31TTwCkmjsVZChJsZxy5b0drTib+DPkeOnsbkgQN+AcE42zzg9qVTuCTW0t9ciq+rOfaByTR0DjI1OUhVbiQnf/871PQfEujnj6/LA25cU0Xt7iOiI324fOgLwgs6mZlfZKi1EGNjG8xdUsW9TTtd2bESu9+IG+WHWnCzvofOPVfiQ7wxUD7FB/uPck3ZlpLSQqzuaBJT0EZzeTJO7m4EPikVU5WGe5rxc7bkllEgnUN9uJloYmpqTXaFlKx4X1TOXyWjZoC5BTmCozg/P8dYTxURgb7cMoxlXJi75gbwtbqDmfkjyhr3Bl8UNPZUxGLnFUhKWSv9HVICPL25qh3FxOy8+G7gQ33s3AMprqnlSagrSqfPYOLgS3TcE7ILpPQOjlGfE0iAjyMRBR0iXlpbXaW7LBLTh45EpFcwOD7JaH8nyb526OkYk1DWw8LyKuOdhSLgF/YbDPU342aohoaqISX1fUxOjRHtZMzdO4ZE5jQwMzlGdYY/128bE55WRpSLHkoXTqN89wEBoaG4O9vx2UefomcbRGFuLGpazpjYpzM+M81IXw12uko89Iqkc2CYynRPXP38RcdjZWVV3Iej4IbCgCnSuLeeBa3ZWCEr0IhPjl5Cy8we/+Bg7KzMOPLlcbQt/agsjufQV9cJTCxgbHYB2WA7cV5mqGmbUFDbw9zCIvKFORbmF8TUa7Gt7QllV1RePP0ZHPhJgH96ehofHx9+9atf8Q//8A/i9c4775CTkyPm8f8hOjY3FBs4rQ3NsXCMIDLAEtUH4QQm52Jm6oCmhgUO1voc/PgoqvcceegSiIWlIReFzZiO4RQ19JOfm4Se/WNSy7uQto/TOLBAx+gSde09PA4PQEtLmQtXr3L48Ke8ecQIl6ha5rZO6RHSZoRUnu3Jdi+tipSeFPZ/eIGEvCoqS55yV0cTFSM3SmuaqHjqzNtf21HV3EdWnBunTxzj8IkLqKpronJLDx1NbbyjC2hrKsLOQAfvoHiGZlZYmp+iIjmAk2evcEXZBAdHN0zv3+eargdpJR0szA4RF+CHt7s7Xp7upOWVUJCZgInKdWx94hmZXRbzzp8GWYiAP72wnsbybIyvK3P5ohK2ju642Jly/NhxPMPjyU6Px0RFiYDEIhaETbtry3RJs7FQV+faZWWs7Rx4aHWP3/36VwRnN4i77/fyY2FqkNyoByi7FDI+I2ewVYKrhSG2PnG0DM6IG24nB6WofLiPyOR0IsIfc8c8gvyq/j1gdQ9n1xeoKxBoukFMUZsYwd5cl4uA31BVlfDEPCYXVpgd6ybFUxWL0AKy4vy5/uVnHP38CLeu3eC2qgr6d+9y1zyQwenFrVQCRRvy2WHyk7x544PrtI0tsLo2T0FywC7gH1IAfvPwSqqLUzFQOsGXR09w6ZYWN2+po6xsgIG+M7W9U8+mC+104bvWRgH4dbci/Iq9K8sz3YQEPOaRexZjM0K0cZLiJ74ofXuOrMp2EfCHBHkR+LRSdAYqUkNQuXiZixfOce7cJey9omjqGd86UUdocxvwO2Bp+Yh8aQs9bbUEO5tz4dIlzp85z8VruoQm5jMyObs1fQpL0Ousr8iIdjfDUPceBdI2MSd6rKeWGL8H6NgmUpQRxj3tq9xQv8MDJ3fsrQ3R07qBx9NmZkc6eBLijtZNZS6cO8OVqyo8cgmlrKoCG5O7aBr7UFKQiIG+KQ7+qcgWVxXBnr1CtE2NkAfduQ34vRkY7cFe9wYPbFyp6hgTc33ba/J45ORMdFEPTcWxPPSJ4Yng1E6OUpgUgv4dQ6JL+lhcXmdteRxfIw0s7hqRXVqKv40Bd3QsqO8VTkxZZ2m2Gy+LO9xVv0Pb+CLLi9PkBT9C18ydsoY+MYe0rjAOS2MjbP3zaavMxEhPi8tK+jx46IqDrQWa+g/xjqlkbrobe41L2DoF0DkoY21lkRZptgj4TexDaSyP49QlYxJy6kSneWl+krKsWNT1HhD0tA5JgjX3POIpbxlleWmBpsoc9HQMsfF+yvSysJleIWCCUzQl8DzMCXXlS1y6eJ5vz17BISiT+uY2kgTAb+1GWcu4eHLQeGs6X5/3IKOgidKMUMzMrHmcKmVJwIViBsImq0tzlKX64REUSWGTTFxFGG7N5tU3T5FY3MyMGDVWtC/sXRrvqsLkugrXrijxwNYJc5O7nPr2JDYeYXQNjlDyJBg1VRUuXbzI6dPXsLD3p6a9XzypaFtNNtfk1BbFonnHnKDEYnFTs8CT/EBN1JzT6RyeY2VxkoK0KFRuGxOSlEthsisvvfQOSrc0UFHV4OZNHQyMLAlLLhZPV9mpe3OVlvI0jG/dwNIhlJaBKdZWF6nMTibIyxnl85dR0XOnsKqBqvwwPtj/Ptom5tjbu+AfHEdZTbu4v2R1dUUEe0O9PTQ31lGcl467zT3OnbvAI78kxndyzBWDMzXQQHKEKy7hGbQPC7ngcgZadwF/Z3styVFe2Idl0jc+L+YhB9trc00vjNoOGcvzw6RE+3PslDb51U2kBxnw3vuHuHJdFRVVTW6p6GBsYkV0RjWDHRIe3VPh6pULnDlzBiUNU2IzKll8xjlbp1MipJLewyEojeHJLadoc5PZ4Wb8HS3RtwqlqmWItfU1ZAOtBFhc4OL9JGql5fjbWWBq7srjIF/M1C5hFpSPbKQLF3M1Pv/iay5eu4mKqjZqqgaYW1iTVt7NUGsZQT72BDwpY2hykbWlCeryIvjiV/+LE99eRENZGa3bt9DWNcXNL5TEaB8ufvYFTxsmxZWkie4y7t+3xcI17RnA/12rKgSHhRPXhkn0f8itq6e5o6WNuZEZdvdNuHPxPFZ2jhioG1PZNUFXVQqe/gHE5DeyIF9maqSLx142KN91p7W/GzcTLRHwZ5VXkhHjheoFJcq75xQ2XtCTzXWmh2qJDgnmjmUWq8Im1jUZQQ/vYm5uS1ljz57VVoUk9lTE8cgzkFQB8HdWE+QbxC2jdPEEu81VGWEORti7BSJp6aW1phgnS33Onb/ImVMXuKpiRHKuhPI0P4L8XYkp7lXo68Y6XWUR2HoEkVXVhXxlnTnZIOmBjty9Y0xCaY+4yiPrFCL8fli55jHY34SzoRo6OubUdo2zuDQnruhamFjypKKXlaU5WovDuKp8j5CEAvwtbnHm8EG+PKPEbS0dbtzQ5Mo5LQKjcqktS0ZT15eHXqWsbq4yPdqMk74yNh4RdA6OUpXhg7t/EMmSQcWctGPnv3cE2dhYItFJkw8OHOLEFRVUNXVQuqaFmrIJgZG5NEuf8uWRm4Q+KWN6Sdgz2E6UgxF37j2ioXdy99hxoR2xLaGd7WvbIry4/zkc+EmAf3l5mfr6eiwsLDhx4gTffPMNAQEBDAwMiHnof4gQwfsb7Krj4T0rHjjHEh1sjfqjKB6n5/PAzB5t9fvYWelz5NgFTF0iCIzJJDAiBkePQEKTS6numaCiIgsty2Cyqodp6JmgqrGPyuZ+svJzUVXXQN3EkeD4NOxtdPjkrDlOEVXMLK+xtDBNR101tU29zAt5xjuCq6B4G/Dv+/A8Cfm19A/3U1FaTElVI8Ojw1QKgP+orRjhl+RGcv3qbe6YupCSW0JFRRWlhTmUSDvo66jC3lAHJ89wWgYnGR/sJuy+CkeVzYlLLUYqKSbE1w0lTXfSSrpYXV1mbGiQwf5+hgaFZWgZjeVZmKkqYWoXRMuADNlID35W2lzTcCM1p5ycOD++PXkb14AE6hobyE7y5dqZU3hHJJGXlcz9W0o4BqczMTPP3MwURXGuqCgb4h6YSKW0gpQ4Hz54+TeECdGABWHz3e6oCceo5UZYccO5QAT8Y931eD24h4GVJ8W13czPyWguj+PY2x8Tm5pNVEQE2iZR5FcO7Nazpz425DSWPMHk1g28n0jFCIt8cZbyjFAMVG8RnpirAPzjPaT5qGMRWkT+03Axv1/XwJr4J1lIKiooLy0mPbuKOSFdaJdc5DMKwP/6+9doGZtndW1uF/BnlDCylcNvHl5FszQfa92rXNcyIjg2hZJyCWXFFRTnV4ipQtOyYTpbW+kfGmd5+8SOvczZaleR0iMA/nBmt07q2AH8Hlki3wSwU5zsy7VvzpEpUUT4FYBfwqRsjMbyQvLzi8hOS+KhvgbaWiYkFzaztN3uDuB3xMrSjoKqZob6uynJLyQvL5fkSH9UlW6gbexEU/fIDoAUNjKvr0wQ42aGroYeGaX1TExN0FiSgoPBLUzdEgl3v89NpRsERD+hvLKC5MdumOvfxi25icmhHmrKSigqKCQ1ORIrPXVULt8iNDlLBPxChF8qLcDS2Jh7lt5Udw6zMD/P2OAgA4Oj4karbd3aG+FXNfIWI/z2d25gJQD+9lGW5HN01OZj5+K6A/htfKJFwD8/M0FFWhR3bmviEFEkbn4eH6zD/LYyBnrmFEoq8LPRR1fXnIY+AVwoAL+nuQ56IuBfYGVxSgH47wuAv5/FhQUEwG9hbIS1Zwb54U4oKakSHJNJZWUlqbH+GBja4hVVyfxMP266Stx/4E59ex/zc9PUl2eip6OPqUMYPW2FXDyvhsfjdHpGJhkf7iI+1I1betYkFnVQlWSDkUc8FS2jrGwDfm19bLyTmVre2Bkv4QjNiZFuaqpKyM/PJTczEWv9Cxy5akdyTiXJIR4YGNmSVNTK9MQIFU/cOXTagcziFurLn2JhbIK9bzJ947Pi8bfdbe0Im/8Kn/jhFRRFUbMA+OUMt2Tz2hsnSSxqegbwry3N0FYSxVefXsEvIoXKmmqSorxRvXwWW49QuodGqauUUFhURE5mKm6291FR0yM2S8KiIndL1AphpaK2KIrbmgZ4hqeJOdCzU2PkB2qg7pKhAPzyKQrSIrl1+x5hTwqoK47m/XePY+kWJgY6hI3upaXlVDV0Mre4Z7V4c4PRrlp8rfU5c1kbz6gchmXTyEYHaakpwslcDxUdV3JK6qjKj+CzQ+dJKRM22faJ0d/FpRVxE+XoQAcFxVV0D4wxO7fA5Fg/WfFBaN+8ioV7JKPTu2lEQqcEwB8TYIe5SySVLcOiDPS3ZO1E+Dvba0TA7/BYAfiF4E6wnQD4HysA/9wu4C+qa0OS5sYXR5Rx8Isiu7CM8tJSSkpKqKjtoL+tirz8fIRV6qggBzRVr6P3IAzZ3F6aNhhsLMbpvh761p7UtvezJF9kfHSI7vYGwr3tUb9jS1pxA9Mz07RU56Nz+XPuehYwODJI4ZNgdG9d5tKlS1y8qEphywhCwOSxuxUnz2jg6BtFTlE5FeUVlJYUU9c+ynBbGcF+jgSlVDA0tYiwabyxNJHz+1/HwDqArFzhwIIyCgpKKJdUkPc0DKVDh/DLamF8cpLmkmS0NUy57yRs2pWLujDQ3USpRCpuKBaO6d7922RleZba7AjUzrzHgaPHeegdR2FaLA91zvHWgaNom4YwOL1Eb02aCPhj84VV42UmRzp57GXNDT03Wvt7cN2O8EuqyYkPQOX0BSKz25mcnWdKNsLwyAh97RVE7QX8qzICbfQwM/s+wL+JEOHfBfw1IuBXNcpgTTjwYlVGqP097F0DkDT30NfVTlF+Abm52cQEu3HhzCVs3MNIj3XD3UHYBFsj0r2yvEJXaQSPvELJlnaLgH9haoTccDe01HTF1cah0VGqs0LR0LTjgccW4DdQRUfbjNquMRaXZp8B/ILD31b8mCvXBcBfQqy7EbeVr6Jv7UVucTnl5RLyUnNpau2jqy4dLT0/bL3KWNsC/I76yjz0iKBrYARJqhfWj1wJfNoopkYLTvPq4hQlRfm0dA8wvyd4IIyjgPHyQiw4cuY6Zk4BZBWWUVZSTnFuKQ1N3fQ3pfPVV+fxjspkcHKWicF2kjwtuKWqQ0pJA9Nz8wh2Y3hUJm5SHu7ppKW1SzzhaXte2ZWXF09/Cgd+EuAXlnCEU3oEgC+c0FNTU8P4+Pgfzd8XCBNOZGgsT0Hz2lWUdF3w8XzAWQ1LnEOiMTMy57aqES6eLmK0R8PYERuXQB7YOWFu60FYSiV1/dNUVuWjpm6KuUMgDm4+2DkHEZlWztPsTFTVtLhy25RHbj6Y6F/j4FfXMXgUT8fQJJNDzQRaGWHl+gc27bam8f7BayQWNTIp5ITKF8WTMoSznytT3Hj/lD21Qg5/WyVOZsaoqOjj4OZLWFgIXs4PCE4opa+3g8BH91FVv4uzfyRP0nJ5bKfLkXPqOLj7EuDlgJ6GCpc0HMgs7xEnfoUjqzB8QuRhrLeRMFtjlK5q8MjZC09na85/8glnlO3IKpJSkv6YS2euYGjuQGhoALZmt/jq8GG8olKQVpbiYaLNZTVjAkIjyC5rpCDZl9s31blnZk9gkDdWxir85lf/RljuVkrPHpsrRPjzoqy5KUb4l1iYGhZPWtDRvIOFrTthoYE8MFTn7KW7lFdLSYyL5s79aAqq9gD+HSkUvPRV+pvLcb6nySVta8Kj4ymtbafgSQjGt9WITMpnanGV2fFe0n01sHxcTmNNKf4PDVC7dQdbJ2/CwsLw9/XELTibmcXlrfixohEB8Av9e+vjW7SOC4B/nuInwRhrahKfUcboUBeJPgZYRlQz2NfBk3AX1NRVMbJ2IDg0jNCgIAKDnzI8s0h3QynBHq4kZFWKJ/qILXwf4O+oINDRkHN3o5gTTkEQcvhnugkLDsfBexfwlzz1Q/n0RbIrO+moyyMsWIjwlzPQ3UKkmy3OPiGEhgRgoauJoaENmRUde1YZFBH+tDBnrB84UFBZQ50kD2ebR/gHhRDk7YCaigrGD33Epf3deVORw5/oacnVk6cwtrQnINCXR+b30FDWIKmwRkwTUrl2DQtbR3z9/TDX1+DG5Qt4PqmnrSqfYA8XfAJCCAr0xkxXC201feIy8nl4/x5a9/1p7mojNsgdHTUdzK1dCA0NxsPVU3Rox+bkO+eZKwB/owiwb5v40T/Wi9NdFR7auiPtGBNPYuqsLcDe1U2MeDWXxPHQV4jw94ingPQ2lWN/Xx9ldWN8AkPxdLLixnUNHIXVkJZaAmzvYaBvSWO/cOrOBkuzPfhY6mGgeZd2mZwV+TSFYfboW3pS3tgvnlZVV5yI1X0zHvnlIkkNQO2mMjaO7vj7uvHASI0bqob4xtcgX5wi1dsKVTUdHN18SM0uJCstGX1dI0UO/2Qvjmb66Oia4u4TgL+PCwb6ujzwiKSxV0btU1tMPOORtG4B/qpc7uoa8dA3hek9gF/YqNgqzcXfyw1XTz/Cw4Mw1b7MxTte5JS3UJQSwW0lNXQMH+Hn7cJ99a/54KRwbHAHQz31+Ds9QE3tLi6eATwO9eehjSdldc3kJvviHRxF8Tbgb83h9XfOklQiRPh3U3rWl+fpqXnK2WNnMbN1JzBY2Ah9i6+//hJrjxDauloI83DDyydAtHOPLPXRvGPM08Ja5HtOGdvYWKGjNh09DSXUdQzEfQ9lVVJyArTQcBX+l4cQ4Z+iMD0aVQ1TIjMqGOqtxejWLa6rGuPi4UdosD++Ph5EppQwuSeHX4jwLc3JqCxIQkdDjQs3tHD28iciMpxAX2f0tNTQvR9IeU0z1YUxfHVMFenWqo/CSmyytjRNa2U6eneMsHjoTHBoOKFBPlgZa6FyW4uI1BJxA/7/z957RlWZrYmf/aV7rf44/ek/a830+k/PrNWre/7dt7p77u2+t25VXS1DaVlVWlVaRoKKAcWIYlbErBiRDAKCCJgAFUFAQCWIIjmnA+dw4ARyDv5m7f2e9yTQKm93308X13GnJ+1nh3e/+937eaxTF9BvaORBpD8ea705cymauymF1FdksGHJYu5mlsgjPamJIVyKe0qbYUB+zY29vB+P/fFywT/S38HjpCh+WLmXghoN2rpcdnl4snX3cQLDbhAVGUxo8FVupbzgeUoYfqevcCMmRs73O7d54XftntwMscn0jn5DCymxV9i6ZSMn/K9z+3YcYWEhpOW8IedxIgd37eLoCX+iom9w6ewRlq5yI6WwhQHxzK5+id+ulXw2ewE7z8Rj6B9lcnyAV1l32eu5jR17TsijVTejwwkNDiC97ccesAAAIABJREFUoBldXQE3Iy4R/aiIju5h+YVXGJS4fsCD9ZsPcS00ipsxNwgOi+He41xKi7I54+mG+xZfQsKCOL1nMwu+cuXI5RSMvUPSTO+dyLPsOHiJsmaDna8apZbiBVhf+5JDm5bw7aqNxGe8pq2pnPjrR/jtb/6Af3yhNOfYXvaEkMgb3LUu+Ju4FXqOjfuCqNO2EnhsN8d9z5FbWi830Py2bWTzzlNERN8kNDCQ2IQUCgqzSYyLxufsUybEDv+4keiz+zjhd4HCSo3TDv87Worv4B8cRVpBHe2Nb4mJjGabr23Bf+viYS5dj6KgvIqC7Mdcu3CZqJtxhAecwt19g7QU9Tw9Dv/DPmzYeob4e9mUVeuofRHPheCbZL9pkVa8Rgd7KM9JYo/HBtZtPsb1wGv47V7FD6t2cC7ScqTn4Db27vGTOhQL/sdhpzh1/DQPX2nkF766l/F4eB4jLrWYkucp+J/wYdNOH66GRhIXG8OViyHkFlXSUJbOnoMRXAgvYHxK2eG/esCT80EJNOsMlOfc4sB2bzbvuEBich7VDR101j9n3bqtxKQ+t9y1sVtAvJtEU5rB9i0ebPY+yOUgMa6jCQ6MJqewCn3rKzasXsIOn8NE3LxN3vNc8rPucHj3RnYdPkXUzZvcCLtK/P1Mil+X8fR2ONdCE6ho7bEzaGEbEX+OfbwGPmrBb09eHJFRznDZ574/LuwyF2XE4bN9Iy67rxAWE8umHXu5dOM2AdeDOep3jdtPCom9GYbHxs0sX7OOFS7r2X86mOQXDdR1DlPd2EDopfO4um9g+er17D56naTsCgqr6ogMuYi7mxs/rVrL3sO+bFi7lb2+kbyq0dGtr+P25TNcCn+M1qCYSbOXdGpylJ62V+z0uaYsDqSTJqUjizfm2qJk9py/T3NHD0MDPVQVZnLl8D7Wr3GROybr3F25mfKSLoOJ/PS7eG/zZO3mHVy8kUpBzkP2bBb2211Zv9YV773eHLtym5K6TutOn70sY0O91Bc/44I4brBqNS6rV7HupzUcPhdHaZ2G9oY3RJzbzzrXNbi7u7N733Y8d+wkJec1Wq3YyYlj4wYP1m7wJOh+IbUVBYRfOCzh165fy3bvrSxbvpynpeKohO3hL2QYGTBR+iyOS/fK5KJXTMAdrVXciQ5gyyYPXFzdWbfem/vZpRiNHRQX5BAc+4zKRqPDQtxWH3EvQEfm3SjWuLqzyWs3sRlvef08g6irV8ktqJAXh4d7uyh+dJ3YrDrM3SYayp8T4u/HhnXrcHV1Z6OnF4F38hmQXhFt1EcHzZTlP2br3hC0fSNMTo5QVfiUqIDr0kqP2BUVC+/Y7AZ5PlDXUklc5FU8PNbh4urKhk1enA16RFf/EG01xSTciOBxbqm0qmHjYjehAWZdLRn3b3Ah9oW0Ny5Kxwf1ZGdmkfT4jTziIUw2VhWkccXvDG/q9HQ0lZKZnkJaQTVipzEx5BRrXFxxc3Nls9ceYu5m0m7oc3DK9W5S2FO/T3zcHcrqGql6k8XZfZ64urvh5rYG7wPHpY1wcfbfJuE7psb7KHx4i30b1uOyerWs5yavPVyPfYJpYIDmypdcPXOItWvdWLd5N3t8DnDR/yQpBY3y5SzU/zgbPNbj5ubONu/DRN95SkNzPbejbxAUnY7W1IO2sZxbARfY5u6O+9r1bN3jS0KGsNIzinqKX5j4NOpbiYmM4np0OsbeLmmlJyEhmcaOXml6VtdYStL9B+RW6Gmrek78oxxpaUMcSRgaMFGS95DjB3bJfr7GZQP+IQmU1rdLKz1PbkdyI/wWGqNyd2B8qJPHsaHcCAyXx+kmxgaoyE4k/FYqNa0GadZUvNTFxcRxJ7MKQ1u5PAbhsXYtbm4u7Nrlie/5INLymxifGKP1bQ5+h31Yu96D09dv8vhpNiHBUcQlv2RoTCxwn3HhyD42SB2s49iZqxQKx2sjozQXJhCV8pzatm7Gx0bQiIvawVEkpBUrvgUsnUuYiW0qf0nAyUOsc3HB3X0t7ut8SMwoQWfsQ1NTQpDfYVx/WoWr6xoO7F3NlqNh8kz80GAf1a+eySOEHq6uuLm7sfNYEMXVjZS8fEhK+jMqNeIY3iim9rds2naWguo2Bu0c0EnHgsZGYi8LayNuuLm7s9lrI547dhCXmolG28SdQD88N67H3d2N9Rs2EBxzl2ad2eny3hQ9hgaSIk6zxWMNW3Z4k5T+jOLH1wm495oO8zATowOUv8rh0rUYcksbGRoeoKYog1PbvfBwEceZXNi2cw+Jafl2jn4URYm+1N9roKwgg2un9rLWXRk77mvX4X30PHfTi9DqO2koz+XAkevU6oXZY8s5J8vlaF1jCRFXzslnhKuLKy5rVrN5yzaik9Jo1dksZKnPtPHhbsqfp3Fq907cXb3wOf6ApvpXXDpymLySJjq0zRQ+SyEp8w2G3hG5e/0s9SbnQ7Np0vVJU6VFeekcPhFOjbabUfECmhLHMS9P1ornhssaduzeS3Lma15l3MJr3VpFNrdN7DkSSO5r+w0ARQ/iiGZ7YxlxYf54rF/H2nXr2O1ziOw3TWjbGklPimSv8BXi6iLnzKCETGltRxxlHenT8+BWEHsOHuVhYaN8SRYmFPuMbTy7H8sRry2sdXFlrfta9uw7xItyLcb2ap4+TuRJYQ3mgVGxhcvYcB9NpTmc2K+MS/HFYOeBk9zLfE2Xvp2iR7fYsmIVa9aswmXZj6z12Efk3Rd09w2gqSnm9I71bPe9RbPwzeC0oSLaebhbQ2LkdS4ExFDRrGdosJvyl2mc37uf3IoO2a6m5mIepqWRV9bKyJhwjtlB5sNELoU/ot3UxcOYEG5GJ1LRYqTPpCM/LQ4fr3W4u7nj4urJxZAk3pYVk5udTvidN1KOdxO9ZCWGE3czkWpxvNK2iyKPlXTW5ZGU+oSi6naMHY08zUgn8NZrK+6zuze48yCdqsZmXmXf48jOjbi6uePuuob9fv5yo0vfWkVK1HU2rF7PFu8rpGTW0VyWSWJqBm/rO+WGj2hjg6aK+Ctn2LBiNWtWr2bv7jXs8b3A7fRSTIY2kiMCCA+LkzocHRviVVoc8XHxFNUZ5BHg9spnXAyIJbOoUZ4aeP0yjWOHvFm5eg1u7utw33KctBfK5eOQ6EckpVcx8W6CwW4NyRGXSUwRFr3EPQdxMf00Hqs82LE/mKfPayh8cJ3vfvLhblapw9dCy0hlbLiXl+m32b93B6vXuOC2dgPbD1wmo6CW/n49DyJPsG2TO5s8vYi5k0Krro389ES2e22W87yHx3pCb6VQWlFN7oM4ImKTqWnv/fOC3/LM+M8Gf/SC/2MZi8E8NDhAU7uBt03d1Gj7KGsyUNnWR3VbL5WaHmo7RqjT9fGmqo2C8laKa3SUt/RQ3zmq2Oc3jsqH6KvqdoqrOyht7qFWP0KTYVSe7SyqbOZleTulTWbKGozUaHrpHhhH2Loe6hcXC4cUW+HThBf2qEcx9/Qz6uSuW+y6j48N0dM3LCcb8UAQdsD7uo1oNRpaW9ro7OxicEgsOIVn2QHlgrBOh6mnj9HRYcxdOpqbmmnXdiie6/qHpplcs4ok6Y/Iy7ktTQ1otHoMXUZ6+wcZm5hE2Gzu7zGiaW6itVUr6XX39EhzgMJEpODfqdei0WjpHhhmbGyE3m4Dba0ttGq08qVE+E6QNnpnmHCFnXbxSV18QhN1Fabghvp70bdraGxsQWexhS7M4okjXoNDo4zZLSKs9bBEBJy4iNOha6e9vUNe6BOfoocGBhgdtfARtEb65XlFeddiXNTRhK5NQ0tzGx16I/1iMTmDvMIvQXfPoOV+xjvpLl0cMxkdG5fOVsTiW9gxF7jCNOzQQC+dHVpaWlrR6rpku4rLcaJNxbGP4ZExy+RiMwhmW1Aj+9Lw8CB94muDWiDsT4+MSFxFb8pF8f6+Xum3Qbw4jYwMy4eTcDc/2NeNsGvd3NyKrkPYVR9xnNAE3XfvGBN6GhqWNGQ9jV20tbXQ0qqRXmCFrXRnnYiH8qiwE20ySp23tmpo13VJ/Ynd0snxUbrNXWg0rbRr9ZjN3fT39zE8OiEdTPX1mNC2a2huaZN2kkX7CpmFbgYGR+T4UfpED116HRphC7/LLM3fOj7A3zE5OcHg4AD9A6J+UwwP9Mv6TEwojtpEXx4aUsbC5PiIvPStekQWfU8sls0GPa1NTbRaPDSOTwjnbRPSFvbgoGh38Yoh+uokI4MD8oiReFiLxcz4yBADQ8PybKgct+NKGwvrJ4LGQI+R1uZWNG06DEYTvX0DUg+CntCTydgpbfsbzN1yl3RgcFD2d9HuQnZxQa6tpZmWljaMpl7F66f0KDko23Rc1FOkx8eQuM5eit+JfjeCVedNLbI/CDv3YhwIXxe9ZgMawaNNHPkzYO4ZkP1B0pW4RnTaNlkHY3efvOwm+oq4TC3M2Aq4SeE5WJRJXxb2I1RctBPj20xrUyOtre10dhkwdwvzuMIW+oTsq2LstrQI2TrpG7CY87WcrlXP2E5NjUu/CZ06HR0dXfIS9+hwn+x3anuMiUumA0NyHEgdW3TYrtGg0bRjMBjlxX45hixiqkNMtKfQx0CvGZ22laamFjnHmcy9ypidnJRHJHt6lcW+iifJCB1MjDHYbxn7Tc1yXhEbNHLedlrcCRzBb2x0iB6T6AM6Og0Dsh37e3ul/BMT43JuV+cLAS/s04sxIvqo6I9i7u/tG7S+fIjjXaI/C18UbW3tcu4WR45Evjiao7HM0Qaz4KF8PbRvLRFX5zAx9oQ/HOEJVTpZFHPQYD8GMbc1NaPRdjEonA1aFCHkEbbQe/v6FNpim0AelRamWQcwdenRtGpoE/3M1C370dTEuG3esupI0WWPqYt2TSua1ja6DN3yiIpwQDU2PEBnewtNzS1odXqMJtGXRhkZ7qUiP53dK9aSkFM77YuKWk/xZVCsEwYGhyx6FHPpCAO9vUr/RYy9Ufn1XXrBlmatJ6XuxaVcOc+IecCKPyn1K2zXt7W2oW3vlG0i/A+MCoMDquEK4Ql3SMxPFr4O/RvE/DQ4rMzFYl4T8714Tkr1CtzBASnT+MQEo8ODmMS8JfSjaVfGnvT2bHv+aDuM9A+OSYMiwkSseIYqbfUOofch8YzQiGd2OwaT8GDdJ/1fiPZXL7aK9YYY34KfmAsVGpb1Sf+gbGfhY0bor1vMI62ttGra6OgUxhbGFbO24iKz3Eh7xztJu0+2l3TKaHlW6Tt08hlsMmiJPebD0UtJVDRPfylS+pPwGzBMt9o/NFoMxh6LD4gpRoSvhQ6t4megb0CatR4fGZb6EvOA8Asg5hhxSVisE5R+YH+QV+0pfw7/GA38yRb8QjhhRt00+E7xptuthlOoXnI15inETzjRsnnSVRxytZoV77lKaPOy6+CNVzjukg68bJ52HY6DyhHl8ChQBqxVc3IGtAx1ezgRt09bUpZFsUS30lZoiIEoRrD4pw4EBWvmi8NWESwRiSnpCyxJxQYiSSt0FKlU+SyQlnIbPwGr/GzVcKyPA3EbkFUXgrJ1cWmtqw1rppgqlayBxc+ACmfjrsYUfanlMrTUX62HDFVwKZmaUELxv9S7hYg1VwVTiVt0Iash6yoxLVpW2ksFVUJnAmqpJd+uWKGplivyWIutpG3tIbuJpYVtsqsYauhET2Uii20wtphFams9VcYKhPhfJaHoVsDLXOV/Bzwl30LRgqj0M/m/UgGHHmOTVsUSkOLPIoc9SSumQ6aFhIAXulIW9SoJh1DiO+M6py3k1P6hkJXyyHFhLRZ46p+Fr1SUkm9fqkA5tqOKKUMHYIeEHZgjXalKUV9rnSxcLO2htpGtzUS5KoMStxFX8q3qtRVMj1nb265IEcY6b8i+aVcNW1Tlb2tbS5cQy1Olze3IqvIo9Oxw1QIrrI2DNcsSUTymq1+YLY1pYe8Mq6RVWkqo1sVBzyqIykOmxX8WGe0Iyy7h1EYSblqeyl0lrraJvbB2PGQ72DH6QFTtK9NBVJ2KEie+VmBLvlpsyXegKcvUvmhFtEXEmHyPvCodhbz4/x3Dg0by81LZsO0EzcahnzGD7CSYRa8qPdl+VpmdYW0i2scUWS36d2gnRT5VV++npurCHt4+bs9NxNV2UHnaylVZJE+VhLXYIoHUrdCxOoacAdW0BV7iq3kKf7tJXqnxTOPcAU/Bl//LTq7SE/11nAFzE76HfEnJq8A04Hi81iq+GlE6gV0fEbQsf0IOaxtYeFpkU0HUUIqhJv4c/qc18Cdd8IuvrL0j7+jom7L7TaLvm0Lf+46OXhFOyVCBeaeUSXi7cgd8Gy2JK2hZyg0DU4yol8usHVgd2tN1JweizFY7ukioHVUNbXhKjgorBrZSpnRndVJXQ8dFltLhbbQcYzYcmS8Hjx3ENFFsGao0Cp74X81RQzXPjp5T1EbNqWBa0p7mtEIb6xllUOBtvKxas8Oz0bSf5G25auvYqNiXqaVqntIFhG5tvJR2sOC/j4y1DyiUbG0nEJSfI6rSfjLP+p8jhE02uweDVU+CrCKjjbWKbwnVpFo5GTplWiZRW66IqT+BoOjCkYQCba8hh3IrvkJHaZcZ6Dgi2fFV6Fu420HZy2WXLaOqTM75Ij0dT20fWQfLoLTvPyqGCqdQVWqsclBSCl9bW6mlamhPSY1bRJJyCThLvtIl7Eip8Gqo0pwpFDDqnzO8WqbkW9vDsuBQsFQYO/YqOTv5RKnAlz+1XKIq+JK2jZQKYX14OxfZ0raYQLKlHFvASvBnIgq+jYoEtyatEVkPR1Ify89CSwYqXRGqP0fq78tX20QJ7XFUOipttUzNV9P2oaVMPhPUTiXKVRyFlpJS4hLbvlhmWyDsQOy5CHqq3FZ8a8QeyRKXgZqv4goEy0iSX0EHMaqeh+16gTPfmYvUtlN5KLRVDkr9BTv7cguMvZocmf3ylDNZK6Z9gYhbfg5Toj2MRSaJb5+v4qrlljIZqGVqqGhV1a2ss/Jws2szRe+qmA5qsZBWy6wyOylecrPQFS/v4stuT08vI+LLsvWLj42KElOJq+F72kTVkxrK551KS3JWeo4dGbX0z+Efr4E/6YJftJ3oJ+IT78QkCKMkE5NKXKTV37h9noCZUmFVGDscS7mKaw0FjymxKy2Uo/YaMRG9X1nqhOww0TmAvw9ZzVdDFUmkxc/5Ld0ZToWfKVRpzFTmmGejqsYUXHWqFNBqHR0xZ0hZB7qtzJ6qLfcXxj6keOucoHKYiaalFh8CcUD7hYASTPz3Ifj3lan5amgvwEx59uVK/P3tMR3fOcc5PZ26yPllUBJXgn4EvKT9S5+mH0PXUpP3oUxjaQ8o4upPxOzLFLpK3vR8C1e7YDqMbC/Rl6cViQw10zGUKQuKWmLHxEFeKwkrgA1DxD40jFQ+VtRfGHHWkY3jLyRgBZMSWvXwIVlVlPf3fxXCORSKtCwofwkDZ/TpCp4G8b6MP14vNooz07DPtY/b8GaOfQjWucw5PZ2i0hYCTv0pMI6Yzim7tGwaS1oGapkIlTZ7/0LRWR4VV81XaKgp21iz5SgxJzhnMs7glvTP9UNrV5MRlahzOBNxFca+TOSpP1UA+3IRV/HsQzU+E6x9mYhb0vbZVjS7cmveTBFnZNGGUx+ehFS+08iptOxDNf6hdYkNZhrJP2d8tAb+tAt+cS538h3D4//1vxFnmhPv4TE29QH+HypT6Ak+oxPvrOe8bRr/UMcUZfY/G5YSc8a1pFUUZ/D/krQzTxtR2wLAEcaWb4O1j/3yhZQ9ln38v6HCjlWwZ/YRcSciTklb276PpDOCSKt5auiM65j/c7p3xv7laYWPI7eZsAWE+rOV/zyeDXZ67COwnUCdktNJT8tRMGx4Iqb+pgFbMmzQNoiZ8kTp+/JtmDL2C8GcsD4y+bFMZoZXc2deDKmlzqKJfPsy57SA/7lyZxhnHv8daUUme8k+mssvQp4BaKb3x59hbluc/wzgB4uFLPby2Kft4x8k8t9UaC/Xf5aFbfacuS//Evr/hfI4vDS8j/dM/GbKE/j2+SKu/t5H2x7HHtcOXpJwKrO+9djB/cmjat2cZPsj5fjj+8PHMvwYeT8G9uPk+JMu+IW1gN5h5UiPrm+K/6qfOAqkHAGatB4VUmnbHx/S9U2i61VgRLla5hxX0yoN+1DgOBwV+ih9i4nHuTHVtH1oiVsuzfaYTfJylrA5PP1Lmor3IUFUGDUUsPZxe1yRP3OZMt5nLlMoWHDFhcmxEXlxSl6CtifvFJcDzkrSgv8e/k6ovzBpJW4H75g34zxmuejX39tnvSRpR8AStZfXOa5Cq/lqWoSO/O1L7MveIS7UDUk9igvb9mUKjn1/momPI+WZUkp//JA8Fiz5yXUmHiquGqrwM3Gzz3OkNX1c2MPOFHfiNxOIU97U1ASjI4o+hVfg6foUCPZ07eNOxN6T/HA9Pp6ewuZj8ATsh79kThf9w/RnHB8OehIU30fDOX+mtMibKX+6pO/PmYnG+6F/nt9M9FQZ1TI1/BCf6WXy4uXQEP0Dw5ajESrd6bDKJx3HciX1cbxtOMrlZ3H5eNRyqVvhqtJTIBX9qHFnud6Xr8LNVC7yHPPlJdGhIXlx2nHh5QinUv2oUFyaHhlmYGBwmjUgZzqOY/Z9vC1flZyR35ueiY59nnPcPi2IirfAKYYGFQ/2E3ZWp5z1OL2PONNyFlKUi8u9w/SYjRgMJvoHRyw+buxwnQe+c9qZ7H8ybcdZyieOEMkLykPCC71oJUXuafX/Wb5/LJ4zYUVCRzmdYaanxXiXF5Cl0ZiZnuMqjj1lNS4MK0xKQxxGgwGDUTFDrZaqmL80/BMv+MFsubQrLtv+V/zUS7zNxgmausZo7BqjWV76VejL8m5xmXeUylaztOrTbLS79CvKxGVfs3I5WMrUbbsgPJOMut4pxGXgD/d/xZqBWddITnYWGekZPM3MpOhNKZoOIyPCadO0VlI6tZI/xeT4INWFWcRGhhEde5s31U3Sg65EE8wloBMVpzwFTGTa/xwZCwsb/cIqgFZP3+CIpWIqXTX8JcNM4SEsf7Q1VZP3/IX01jkuFeVMR4GVVkrMXeiMA8rDzwprg7cpyi7PsQqW+k3LfE++jY6Uwpa0EBCWEkYxdzby8O4DWjrMmDv1NNY10dphRlh4GOg10tLawYi06qTyldQkT9uLzDTiKjCTY4O0NlbzPO8Z6elPePIkjbS0NJ6kp5OekcPb8koK8rLJe1GIxtBvuzRt35qW4w3WyVAVwcpFiTg+UC15cgp9D4K1v9gIqTymJkdoa6qjsqKKHuFt1/nvfSSFhY3xYdqb66mqrME8OMrIQC9dXQaEeVFlEa4Qe6/WrAXWiDN3W5s7gIiLg2ZqyovJe16EeVCxcCS7mwMFeyT7uEJWGU8WBKfi90v+Tpoh7WxsoLyyiYEZLE45iPChhHV8zAwkRJqanGSw10R7Y520ZDMsLIDMAC6snfR0aSgRMgnLQLJykwz2GWmpq6G1rcNivnEGZLsspV+Il9N+TF2dmMx90mKR+Pw/3KulrKwEvdFkWXipksjzH3ZzjchXywRx57gy39naayZ4Zxw7IR3oqfn2NBR5xMO1u6uZ2toqDOaeGRaLKo4SKnVX5bXnr/JQQvuSkT6jdGiW8axcOhO0zc32OCqGRU9SfsFNzbfwtCRtuYqeJCVLX5kcH0KnqaOxqQFzr5nO9joe339As2HIYm9eYAu8KQa7TdS/LaWhQ5ivVl+KbdSn18aCay+6NW4rE9Z3hgd70WmEwybFatrEkIk3r8t4UdQgneeptG11dOZrJfyzkanxfmor3/A0K5e+0fctssRiSvTbPgyGLnrFHCQX1tPJi/lzpjnUCinVbpPcmm9tL5suRJlKS8FwLFNwhdWcQYpy0il+W02H0Uh7ayNVVbX0j4wxOtBNp8EkLVRJWnLs2rW9TYAZYu8YHzZTmPeUqIhwwiPjef6qhlHR3JY/x5pYUpb+pIC8v20cca0E7bq5pb4OJBz1K6xK9XV3UJSbScHrKukxXjEaMpOuVKmdQxXWPrTBqG0gBFPiKpyAUeMitKWtcGq2tX0tYA6BAiRM0teXFZOT+5qu7kG7MWwlYqFiS6v8hfVIg66ZrLRkggNDCI28j7Z7wMlsrAPTDyY+esEvKizMb42Pj8ufMB/3y/6UYzCmQbEQty24Ha3v2Bbavzx/kqauIcrqWnia95qUrDLetvbTaJywLuJbzeM06EwkPHjMk5I2qnQjVhlajOM0dAxQ2zlCs2lCsSDkYBFoukzii8LQ2DtpOk+ar7I+hewbTNi1N5N/5yK//c3n/P7zWcyZO4fV6zZy/UYStc0diilJywNa6HNsXJjKmpQL36nJMfq6avD+4Svmfzmb5S7rSXjyUt6OF2ZGx8cUePHVRP57Jy7VTMm2EQ98YVJPnJcUcbWtRJ6Q1/HvHeMj3VS+ziEo8CbFNRrGxwWuYoXBvq1F3LGG9pQsvMaEmbl+sh7Hs9t7L2kvXzM8KeqkyDE2NibpqybFBkxairPvEpkm3KSPSfnEQkHWQehE0BsbZ3LqZ3hPTTJh6ZOynhb5xYQu0urgFqGomzp5yHKBJ+Ual/oT/MdHeqkpTuanr74mvaiWqsKXhF+9QfyTUswmvbT/f+7iTVoNwtzhBJOy3VTLIUIvgo+ot32eRV8WJY716bgfe40VP/3ArC9+z7998s/83d/9A5/PmsOX835kv+8FDnl74bPPl8xSDaOqjJKmQksdj7LuY+PSzJlaV/vWkZPalNI/JicmZJ+YEHJb2kbgi/4n21jupji1gSxTvMROjBi5FxPIKb+zVLb3Sd2KugpzdcKGvehv0vTmDJ1lbFBHSlwIZ89e5m2LkbaqF9xPTuFFeSu9g6OyzyptpLSnaH85JiwPNLVM8FLae0IuTAR/0c6St+in1jGp6nwSc0ctccFn2HeH48eZAAAgAElEQVTgFFW6fkZGR63jRBFVTPyiHmJus/RTtR/Jr22KThReattOWfq2gBeyKosZZ90PdneRfSMEvzPRtOi6FfOmUmaFl8Rz6CtCIuUn+Mn5QW3/mepnYSh2k0z6Vl48ScR/3y5Co+6i7RY7ZAJAqaUq2+iAiTdPwnDbdY16rVkxOzw1Qmvlc64e2Ut4bAqmQaVOQj5hilKGss/YzyNCb+N0tFTwMDGeJ89eY+gbkWb/dFUP2b9vN8+K3zI8oehK9DFBS+knwsyqMDcs2s5Zf8pYFTwFrDB5qD5vpi8qLLCWOUPRpwXKYrpR6tAyx4r+ofQlIZNlXIiy0UHKnt/i3PlTFFbUMiJMH0oTqcpcpM6NcjyJeco674w5yKfq2BYqZmqFDMbWMsL8z7FueyTtpkHZLmLOUXSijB+hI+VPmVeFaVdFX3Y6kM9ii27Gxdyp9HulPhbZxO5in5bM5FCCw0KoqK/h1bMkVn39DWlvdfQPjUi6AlfsqLZXviX04BHC02sZHVP6uNJeKh9xYdPW9kJu+TyyyCdglRcFW82FrsZH+2iqFHNoEBWabobHxhky1XLpUjQ+Jx9hFuZMZds4Xgi10lf7vt3cZ89BGSoWHY+NM9zXxq2oq2za6o2mT5hQFhtwSh3E80TpH+JrxwgdjW9ITn7AyzJ1DlLNBk/I54/slx8Yc1IOqYcJ+VyW9bCOEcvzxm5sq/3O2gfFeLA8u9Q+Luo9NdbJqR3rOBcQTWHpW5Ljwzl/IYBGfQ/aqlzupabRoOmUl2hl+1meN+o4l7qbFP3A6UXg3Ts6a5+xzm0Nn342hx9+2kTwzSf0j4u2tI01ZW2hvJyIfi7mXLUviD7gOJvIEWEdK9axLOHEXUpL/x6zG/dy7WLp5Wq5ZZxPTgyjqSvk+M5N+F2KptMsTJw7zw8OPUCOI7FOEPpX1lLqXCzq77gWEvVQHhFKmUgLPLXtRNuIP/v1k6i/ki/mDsucYYdnKxeYyvNf0DNra7gffo4du6/xtt5gt+C3ya/2c2V9JNY7yrpB+M/IeRjFku++5bM/fMXi5Xsp1xgYtXN8aKPy87GPWvCLygrb6x0dHVRWVlJdXY3ZbJaD5+dZWRb8A8Ls5gRNhjGaDOM0G8dpFqGMT8hQmuWUMKJ8ghaTsuhW8cQuvsBVTHBOUtOsJTH6Ej8tmcs/f7KE6PRKKvXCdr/Am6TFOEJZXa10/nQy7gWFTf2WrwCT1LX38OLFGzJL2qnVj1n4KeY95VcDi1yClypne8+E9PgndrT0HV30DY4yKc1nOWpBeIjMveXHb2bt5eadp2Q/Tea0jzvfL5pL8O2H9I+KCXUcc5ee2ppqKquqaWnrkJ/XRod7qX6eyP/6X58SePM+JVVNGM099JmNtNbXUllRQVVtM+beIal/YYvX2GWQu6Vdeq208d7TJ+w+d9JcV0tVZRUNTa0Yuwccd4rFZ0NzK6lxV/n+x7WE38ukoUEj6yTsSnfq2qiurqKquob2DgMj790tHKfX3El9VSWVFa+5HRXG3p0nyXhRzuDoKP3mTmorKqgoq6C6usliC3gYfUMxMZd343bmHpV1TegMvdKecY+hk8baaglfWd2ArtOs7Bo6TTOiT4rJstugo6G6Ssra0NRMR6dJ2iEWNqY72nWKjX9xYXxsmP7ebnr6hxQ78b1GGmprKS8vp6q6VtqsH5S2sXupLX7AqtlzSC+qk7aDK8orqGxop6utmqQQXz6bv5b0glJaNMKusJ4uQ4+0iS1kEi9svWajtFE9Kr/miAlE/SnRqbEhOtoaKS0p4dmTO5w84MV/fLGC1Nwiil4VU1NTSuDxPezZvpe72a9pqK2iuqaODkOPxaa6eFkbxNjRRn1Vldz9aW4T9reFHXc7XmLimhJ2583o2ttob22mrqaKugbRDgZMhg4a6qqorK6jvdPM8Jh4gRmhx6invqaGivJyamrr6TB0S3vKkxMD1FUU8/J5PvqeIWnn2mjQo+vQ0tBQR0VlHVIOO6+u6siYmuijoeoN+S+LaNV2UPwomP1HDnI9IZOy2na6+4bkcbAeY4esb3lZGY3NGmmbWey+ifYUvNqFX4iGGiqr69F1dmHo0tPUWE9lVR0arXGaUzmYxNRRTVyAH7u27ef521qqqsqpb9Rg6hW20pUJWtqJbm2iuqKCypp69LJNxUNwlB6Tgc6OTgxdndJmubGnT9oMN3Vpqa+roqKikhZNu7Rrrb5QqvUWX7J0jRXkvyqjp3+Y8fERuk2dNNTVUlFRQUNjC+a+QWnEQHnUKJji5aO3u4uGumrKy8qpqhH1VdpBpW0fjg538+TWFVZ+8zn/+m+/5siVGDTm6UcBRR8d6e+iKPkiC1b6Ut7cKXdZpyaGqX+bycldm7kUcpuu3n462ltoaWmmuVn8WtC06eVuqP2ie2p8mLd59zm4bSO+/uEUVdSjN/fRo6shN7cQjd7AkJij9B3o2ttpbRRfiCpoadNjNHbR3tIgnyf1ze3SeZ143ip91khrQx1VFVXUNmgwdA8o96fslSRts49J3yjNtUp/bWxuwyx9pwg/KsMIO+xiHhNt1Nyml/OB9I/Q143RaMJo6JS+SrpMvWibyil69RatsYexCeHYyUhjVbXErWtqo7tvWL6wyT5h7KSpRpSV09TSLr9UiYWS/Z8yR42ga2+hsrKC/KwHnDxyFJedUWhNg/Ilc3igW+qgqrKCmto6uozipVC8GIkvjTo5r1ZVVtPcqrXMXZPyq5FoG8G7qqoGrd4gj/8N9PWi0xvp6TahbWtDr2ujtqKEt2XVdBq0vM6OZ8UXf+B2VjmSX00dWjHuR8cZ6DZQWfyCN/VdchOkv7dH+pkRPgKq5DO/li6z8pIvFilivIj5RLSl0K+mrZ1OiyUeVQcCrr+7jcw7Afyw4FtuZ72mvlVLZ1s5p89GsmV/AnVNzXIOrq0XXyHEOBALnil5pEPX1kp5hdBLA3qjsMevLrxUDsqiVPjd6NJqqK2spKrsBSGXL7N9y2k0vWOMjw7R1dYqy8rLq6hvbMNo7pM+KMpz4jl0ZB/XEzMprW3F3DsgfTboWhulTBVV1bLPyC9zTm2rSCD8vwzS0dpMTUUlNTW10ueNoD8xNU6vqQuzqUf6NhAvj2PDg/T0mBkQ/kAmRjHptXKeLS+voLa+EYO5jzGxSTXWxdktq7lwNZKSukbqq0spyH+F3tDJm0cB7PP1IzXrBfXNWvSdXRiNBjm3KOPyHcMDPegNZvksV/c/5LNpfIj8pPMsX7uXC6FJ8rmr6KIHbUsDVULXDa10mRW/RIo/ECOdeuETSC992Jh6+qWfBPXlQuhBfB3r7zZRJ8ZgRYWct7v7lfWJ+LojxnFleQUVFbU0azroFUfaxIv3lKUfNddTXVVBXUMznYYuGitf4rfFjcPHryGeA2LsNIoxJj2629pejU0KJ4MGZS0lxnljk0ZuIonF8/jIAF06DbU14jlZTbuuU2kP4e9mZJDOjjZqxBqsuoE2nUHxqSP8l+i11FRXS5w2rV76mxAvOxMj/dKPT2dnB7W1NXLtptV3KT5G5Iv4GKZOnRwThTkPCTp7iE27rs644JdfvwZ60Gka5BirqGxQ+sDYGIbmEqKvHGX1xkPceZRLQ2uX4l9FrfRHhh+14BdvH6WlpezZs4d//Md/5JNPPiEoKIj29vbpO2ozCCKs5givhGX1WjJzi8l+VcfL0gZyi2rJe91EYXm99DBYrR2mqkFL5osqckt0VGtHaTaIRbuWtJzX3E17wZOX9ZQ099NkFAv6Meq0Zl5XVuPrdZh7uXVUyAX/JM3GMSqb9aTnFRMcfke6n67sGJUL/qbOIQoK3nBhlzdHrj4gp1RLSYOJ2o5harW9vCptICu/gpzSdur0fbx8Vc2zggpe13ViMJmof5OF78GTpBfWMCgcpdgv6ITn2n4DzxN8mbXUn+LKdgYHeynKSmTXBhcuR97F1D+Eqa2UoLMnWPLdYr5asAjPXb7cz35Nc1MFV7es5H/8b3/Dtz+s4vCpMNIzs7kbHYDXTz+yaP4Cvl66kasxWfJh2lRRSPDZU/j6HueM3yE8N+8gKeOZ4rF26RIJ77ZxN+F3XzA4Ytstfzc1Rkt5Dkc3fc8//D//k7mLV+PpsY+8klre5Kdx6uAuvl7wlZRt1yF/Cmq00gGYw0AXA0NXz81rx/lx1mwWzJ3FnC+/4tsVPjx8XoXJ2EFuwjWWzJ7Nl7Pm8fU3rhw7G07+mxJePIpi1fxP+ec5y9m2Zx8BsdnU1taSGn2NtT8u5ss/zOOrhWvY5xtErdYsjxjYdy0xYRrbawk67cOyr+bx3beLWO2+keMXIqnRdtJcnsfxnfspqOlgaGyK7vYqMh8nSA+ZfT1mCtNjcfthKV/Oms3Cr7/F++hF0gtr6es3ywX/sj98KRf87c1VpKU9JPlZEW/y7rNx0a/5H//H/8UPKzZz9Ngpzp25iP+VW7xpNMmdun5DC/duXOdK0D3q28yo1mHtZRdxMdmJHbKejioSIi4wb8lO2gcmpBOVyTEzt/2P4PLdYlzXe7Bh5ULmLVjEoQsxVGrMjIwMUfnqKVeO7GLlVwtZ+N1SNu65QEZ+rfRWqk7ywkrUcL+ZnHtR7NmwiZ2bN/DTN3P45seV7Dp8kivnD+G2dB6fzVnM7tM3qGjpotfQQGpsACu/W8ys2bP57odlHLsYRWFVO/39BjISbxJ0MYgqjYH26nyCLh7nwMF9uK5exmeff4fb1gs8LW51ej2DseFOMu/HEXI1hPzXrwk47MG//+bf+XrZKrYeDuBR7lsaql4RG+DHmuXfMesPn+Gy1pP76S8wdPfSWPacoEvH2L57B+4uS/jD/MXsPuLH2TO+uLusYNbcxWz1CaCgXOfkzGyS7o4abvofZvHseXhuXseyb2exeNl6wu7k0GYaoL9HT35GIkc93Vkyfx4LvlvJ0UvxFFdp0Lc3kBQSwOG9Bzh/7hQ7tu0g5kEmeVmPifA/wuqfvmPOvDms37Kb3Dc1DAwru4pqe48P99P46jGRt5PRdvWgbykhOvA8K5b+yJdz5rDGbROxj/Mx9ts7mHvHYE8nmXdCcVu+mFmzZvPV4pXsOxVCUXkTYzPs8rybFC82GrKSY9mzaS2nr8bQZlZ3+FVplFDMT4Viwb/Mh7zXVWg79HTq2yh6dp9DWzdwISiOtvY6gk/ux3v3TrZv98LNZT0btpwg7UUNY+omNDDYo+d2wCFm/+4TPvn9PDw2exJy7yX1JY84cyaU56+rqat8RfDJI+zcuh0v12XMn/U7lm86wNlzJ9izZQVfL5zH9667Scqtki+d/eZ2HsRcZtvqn1j01SJ+cPHiYsRDjAPKmV61NuIIYVd7LYlh/mz4fjHzvpyDu+debqW9RttpoLE8n+vn/Fi0aBHz581lo5cvWcWN6NqayEmN4by/P/7nz+KzfSfh915SkHWX4JDbFFc2066p5V7kJdYt+oav5i9gmfseou+/oL3LTFtTOTHXTrF28TfMnzuPDdsOc+9ZNd39Y6pocmdRbDJoqp9xcMdGvpzzJZ//+7/wm3+bxY9bgtGa+hkdMPLiwQ18vNxZtGAOi7//Af/AGFo6jOhbKwg4vpfVXy/gm4WL8PT2435WKSaTkYa3WRzc5sEXf5jFVwu+5uiZAJ4XFvDsSRI7fU4TEniBAz4HCQyPJyE2ipj4h1Q3NvI66xbf/eqfWL52C2uWzOPrhd/ic0J4adZg0DXx7EE4t57V0m/W8jQlnmPHTuG5ZQtffjmLOfPm4hd4m77RCUYGjBRkJLJ7y3q+/HI2i76ex9bt2zgdmkWP6pRK7pKO0lKRx0mv7/jf/8//yYKlqzlw4jwpj1M45Huahcu24+3tze8/+5QF3y4mNCmNju4+Bns7KXiazIEd25g9Zz7f/7iKU1dvUdbUxYgw8Sf+5L7GO8ZGB6h8lcFZn60snjeHJd/OZe78JSz3OIfGPIihpYKg43v44av5zJr1NctWbuNqWBIV1W+JvejNb3/zG75etpKt+8/z4GkRxS+ecHK3O599MZu5CxezdocvT56/pXfQ3rO5IsLU+BCVxZkc2rKe7+bO5fulS/HceYCg2DRMAwYeRARwIzqJujYDwhFkS+VLku7clp6D+40N3Lx6luVLlvDl7NksW+HKpfAHVLeZmRzt4pTnas5fieBVeRlZyQmEXguhtKyAgANu/O53n7PKzRXvo5e5dj2I0JAAEtKLGJ5UHOoJD7zngxPJfN1sPQIiFpcj5jpObv2J334xjx9WrObCtXCe5ZeRkxKNz7qVLJrzJYtWeHAmNJmKRj0GXSN3w65z2Ocg58+dZMvm7cQ/eonWPGyd38XGZZ+pmTtRISxbupS5c+fivkF47H5BW6eZxlfp7HZfyYI5c5n95RI8thzjbnoBvcOjDPcZEV6qd29YzjcL5rB8zTquRiaSl5PBiY0r+f6bZexY/wML5/6e5W7buPWwAOOA41FS8WXWoCkh4uoZfli8mC/nzsV1nRcpLyrp6e+hOv8Rl47vYun3i1iwcCHeh05RUtvGyOggFc8fcfbQLhZ/s5i5C1zYdfA6+eV16JvzuXRsL4sWLmTe/AXs2H+S9IIKevr76azNwXvvSY4fP8Z3ixfxxezZePueo6S+jfGJcTpbX3Hl+F4WfDWfz/793/j0k1+z2OU4bxsNDhuu4tk8YNaR/yiOg1tW8dX8ufxh9nLOBt2muqFRrk82Ll/Irz+3zKl3i6QzQ8ctBaUf/pL/P2rBL3bzAwIC+Nu//Vv+8i//kr/6q7/iV7/6lTx3LD5dfPhPnKHto7TwJedOnmG961q27NrP5q1bWL56Bz5+YQQFXma7zwUeFraRlZ7Cjh178T4dx6PiDmrb9CTdjsNj/WZ+XLGGVev2cj3xJcUtw/IYTotpnAatkUsHTpD8ooEK/Zjc4W/U95P3Mg+ffcdZ+q0b1+8W86ZlUL4IlNc2ER0azJqvvmKJ6x5OXY3iSkQqWSUaisurCDh3itWr1rDleCSvahs5s9cLl9WbOBvxhHqNnqbyLE4dP8iz15XyAWVbYCnNIXb48+KP87v5W0lIeUr+y2yCr/jhvt6DuEe5GIxaoo+5scz1KFEJaWSkJnLuoA9bDwSQXVhCVuJ5/u+/+yfOBEWT8TSdW5EX2LBpI+eCYsl9nkNC2Ek+m+vGvexCXuU+ZM+aZSz6eglHz10nJjqau0nBzJu/kNOXgsnKyuThg0TupL+WnmdtHWaS7s4abl4/ypez5+J39QZ5OS94XZzHxf0ebN1+jJuJT3h0N459G9fjsi+Sju4hh7OtQ2YNz5OvMf+7n7gUlsCzZ+n4n/Jj3abjPHpeSXePmar8NBISH/A4NYVrJw/ivtyVi2F3KXzxmCtH3flhfxBZefmU12owdnZQVpBNanIqqQ8eEHn1NF998mvCH5bQPaA+TJXjFwPdOp7Gn2LeEheCou+SnfWIy6f92LnnPG8a26jIT8Zl4bekFTfJLyrGplfcibvK1bvPpYfZ+tI8bt1+QHJqCtHBp9jiuZU95+6gM3QqC/4vZssjPS21hUTHRhCa+oKGmiKCTnryq9/MJTIhlcLiItKSbnBozzEuxubR09dLbdFj9nu6czEmS362t+l7+igRO1l9XbUkRl5k/vfe6IYUc7LvJnpIvHSEn+YuYr3XcRLv3SPY/yiuLhu49bSC5tpiTvvuxXXTbm4/SCfjURK7vTazef9VSpu6bAvCd1MMdOu5e/04C/99Nrv2nePOnXgO7d7AZ7//PSs8tpFw7z6BfntYv34nyTnldHY086bgGbdu3+fB/SSCz+9nxRpP/KOzadM1EXX+CLs3elFUq6XxzSP2blnB2u0HuHE7kYgrx1nvvp1dJ5MZddoRG+1rI+7KcfZu283z8jqybp9m87aN+AXF8iT3DVUVr0kK9cdz7VYi76bzIjedU7vWs+/YRV5VNFH2IoWDu9xw3+3H3ZRUQk97s3DOPFZuPkjwzUQiQy/h7rYd/8gsBhy+Rk3So68l1v8wC347l0PnwkhOucfONd+x4+g12cblRWn47NzA1n2nSX/2nEd3Qvl2yVpOXr/N29IiLvt4Mu93n+O17yQhoTd4mvUI3+1b2bppD5F3HpPxKJFjXq4cvBhLg9bscB54dMBMeXYER6+EUqvR8zTmBJ6b9nLySgLPsjO4G3WNh5nPMfQKb6FqbxFzZjcVRbk8fPCAhw9TCb98jNmzZ3E2JI6OvpnnXPF1pqEsF/8DO/EPuPnBBX/BvYv8x6/nsN/3FFeuBXA94DKHfLawcNECjgXG0WEyUl5cyMvnudy5GcTa5S4scznOszctDi+x4yP95KVGs27VUjx9TpKSkUNZXRsNxfGsXOPN3acFlORncMBtFd8uciX05h2Sk0JY8MV/sODbpVwIjOR2TAg+m9bjefIWHSYzhY+u89OK1Zy5ekPqKOLaKX5Y7kl6WbvlS6Oip4lhMwVPY1mx9HtOX40kP/8lyXdvkZz9lrev8og4f4j1G48QdzeDlzmPOeG5ip0n48nPzycpzJcVq1ezYc8ZYmJv8fRlOdkPQti+5zT30p6SnHAdN/d1hMY9pCA/h2tnDrJy3UEePM3jQVIoq1et4FJoLPkvX3Av8RYPn9di7h+1DnLxMtLdUc+lHd/jsfUQcfcekZoUxu6tW1i9K5xWfRct5el4fPs9vhdvkJaZRWzwOXZt2ULgnWfkpgYya84CIuLvk531hAcP7pP2vJTqty+4uOsnXD2PcudhBo+Tb5MQF03ei2fcvuHPv/5mLus2eRIRk8ST9DTCr1/g6JkQCiur5IJ/yT//Cys2niTh3gOirpzCc/0WAmLTaawrISn8IOfultBjaOZm8Fm+W7aJ3b5BJCTe5OJxL+bPmUeFzkzFy8ec9N6Gz6EL3H2YJut1wGsFq/bfw9hvWxiLxZipo47bwUf53W8/I+BmCi+K3lJfVcTRQwf47Vw39p4K586dGHy2Lmfz9j0UVtVTlJXEUe+dbPK+xpPMbO5F+rN5nRdXbubIO1/qBps452xsr+Ls0a2s3rCD6IRkMh7Fc9jnAO6bztHaPUR3RzPPMx6S/OAhKWLu27wO16Vu3M4opOBxEFu9PDgRdJMnucU0abS01FWS8eAOySmpJMYEsvL7BRw8G0Bla5fD+BRHXYxNBZz328N+3/MkpaTxOCUB30OHOeAXQVePjlC/PfidvkpJnZaRoV6qXj3ievAV7hVq6DO3kfcsk/vJqSQ/SOSa/3FcNvoQ9uAtw8MdnNi8knNXwil4U8St62fYv3MfZfUNZN8+wead27lx+x65+W94kfOYS6f2sd/3EjX6PgbN9Zz38eZCyB3KWk22RaY4OjNq4mG4Dx57jxJw8y5FxcVkZ9xnl9dath08S1ZuLrdCj+GycjPXIpKpqi7h2oGtzPndF2z18SM07AYFZQ2YByyehsWG0oCBzJuncHf3JuJWKjnPMgjzP42X9znuZVXQVvOGR8kpPHqYRmJMCNtd1rBr72lK6jTUFCaz5Mel+F6O4ElGBo8e3OJO6hOys59wcuNKvvz9dwTHJJFyPxafzWs5dDacN03d1jEmIhNjQ2TfPM52r31cCnvAs6w0kiIukfHyLdqWVxxa58ruA2e5nZpOSmIkeze54heaTGt9ETtXrGbTztPE3HlMyr0HXD4XxpOsHAJ9fmTp6v1EJTzhyYMEjnnvZseRQPLL6ml++4BPv1iC6/bzRMUnEnDhAOvdVxOTnEmXUUeU71pWrvEiLO4+qXej8fXewNpt5+WCX+m3ivhTE4NUFjzh4JbNbDt8idTsXFJuB+O6+idCkjIofJFG8PldbDpwkruPsyhv6JCbgfYbrg6K+JnERy34DQYDfn5+/PVf/zV/8Rd/IX9/8zd/Q2Jiojzr9iFeYidZHIUIOeXLKrd9nA+JJyg0kNU/fcNXy7w4FZnNk8wMdu4PITGrkeLyWm7dDMI3IJGE3FZqWrUk3Ipj5859bN2xi2/nz8bLN5zHJUbL0Z0JmvRmrh46ScpLdcEvdvhHqWrW8jA9i+1LFnMh5hlFjX1ywV9R30x0eBjrFy9m5YaDnAuM5XpUBjllOipa9NxLvMnKH5ew+UgIrxs6uOTjzkr3Q9xILaOzZ5ihPhPN4iJUn/jMLD5B2mvgHcN9JnLi/PjVJ7PYue8gu7a6sWTJDxw4F0GF+OSsK8Vz9r+xeJUX/v5XCA24xIFdXix1Ocj97GKqihL5f//le5LzSqiveU3gCS++X+7CwbOXCQkP58KJQ/zTP31OSGI6uU/vccRzA6cuRlLR0I6hq4OKl4l8t3Ah230OExETT/LjLErEGX3h2MD6947Rfh0Z98P5cYUXd7NL6B/op6roITvXrCAoOlUuXgzaBh7HXOS3c7dS1tZjWUyKCk+hb3hN9MnNrPEJor69i/5+E5mpSRzec1Ye6TF1d1FR8JjwkCCCwsI5fXg3q378iZOBSbx9W0RqlC9eQc8wdPcxMjJGv0knFwfxNyMJCg7lynlfFnzyD1xMLJBngxXRxS7GGIbWSgK9l+NxPJ7aVj0DfXqe3k/g5JHLvGnQUF5wnxVzv+JRUQP9IxMYmopIvHmNK0kv6evvp67sJRHhN7geGM7lc0fw2LSNrX7xtHWKBX8yS/8wm/RXtTTXFHAjJoLQlEK07fU8ivfni6+9KGkU52AH6Wh4zQXfo6zdep6S+kYexV7E1WUHT4sb5SU161aIVe/2kXfKgv/GJeb/YL/g7+WW/2F2e+7i9tNSOru6qCpI48ShXUSllVCQmYSnhwuL3XZyLeIGAZcv4rJ8Bcvc9/HsbSvD6i6Y2EXo1pEU4IvHivWk5pSiN3TxOOoSOzzWcSLqqfwcXPEslv17fbiZmo+mvYXi/CzCQiO4di2YS6f38cMqT06GZ9LS3kD46X14uW+goLqdxtePOHHyKIF38miWX1WyODnIXrgAACAASURBVHHElzVbr9M77jAoGO1vJdr/MDs3bye/to2q3JucvXiOW5mlaA29tFTmcPqAJwu/XYF/UITkf9DTFa+9J8l+VUNZ/kMuXz5LaOprzN3dVGRG4ubuzdXodJraOigvzsZ7hzeH/BMxjkzaWbVSdvhvXfNj++a9PC9vp7unh0dBuzl6IYQ7Wa95khDAqmVLcNlxlOCIaAL8z/D7//iSXceukpefx9WD29i2ZT/Zr+vRdeipfnUft59+5Puf1nExKIKgawHs27iGzUeCqWzukmfi1VYWC/7SzAiOXAyhtlXHk8gTbF6/kZ0HznIz/japj9OpbtJaNg4sOns3yUB3F2X52dwMuU5IaBiXzhzk17/+V/aeCaLRMKySdwjfvRujufI5/gd3cuHazyz47/vz6e+XcPjEOQICgwkOCuDo/m38uORbTgbH09U3wtDgIPrWKqIDT+K5Rdnh7uy27e4J5u+mRqgqSuOUtxeXQxNp0vcyNDxM65sEflyxkzvp+bx+mYbvFg9OX4mjvt2AUd/AibWL5O5yQUUL7Q1vSQzyZemWq9S1aog4tpo5365hr58/waGh+B7Yy6xZ3xKVVcOgndGDiZFuirNusXrpErbt8+VmnJjrsqlsaOFV9j183Jazcs1mrlwOIDwkkKPbV7N8w1kepWeQFH2eoxdDyXtbh9FopLvbTF5qKJ47jhMVG4f/0c18/aMr54IjCAsL48Du7cxf5EJE4iPuJYSyevkyvI+cIi4+keQnudS1GRm2+/QxOTFEe10OK3/7L4Tdy6OtsxtdYzGBF8/itvsGDa2tPL/vz//3r5+z3+8CgSERnD9+hG2bNnIsJJW8hyHMmTWHI2cvExWXwKOsl1Q1NFD87C6uX35KxKO3ct7s6zZhNpnkM/ZuXBhzlx7jZWmNvNhp1NUQG3qJQycCKSyvojg7ntVfzCLmSTl6YzfN5TlcOnOCUwH3qawsJjH0IGeSSukxNBIVEsyOg9HkFjfQ1dXCi7QbfP/ppzyvbSU9PpA9W3ZwO/U5HQYzmtpCwk578cP2u3Keto38KYb69bx8HIXLtz+QWdpGd/8g/YZaTp8Kwn1HFJVNWgz6RhICj7B983ayXr3iTuh53BZ/zzqvI9wIDeLaucOsXuHOgXO35Z2TScsDV9y7aCzJYo/XRk6FpdLUbqDX1MTtcPFidZZW8wA9nY1kP0rgRmQEIaGBeK9fyarvfyLqcQmNr5O5cPEM8Zlv0Rn75MZkS9UbkmMiCbweQHCAP4vmf87G/acpqmm37paLRZf4wlyREc2B3d4kPHxOp8mMrq2GW6EhHD8WgqFHS9CxHRw/cVHZUR7sparoEdcCr3C3oJ1ecwc5mWmEhUYReD2Y0yePsnL9Xi7ffmVZ8K+SC/78N0XEXD2B91ZvKts6qcu7wekrVykoq6enbwCTvpnUqAB2bD3A7YwSytNvsWPzQZLSCjENCq+4amuIjbIJStOucOx6DOmv6hFHErOTY9i59zDRaW8kvc7WQnw913P2bADPX+UTcHgHXlsP8vRVDTp9FwNDyrE2OfbfTdBvqOfqTlcWf7eGC+cuEhESjN/hfax02U1IQjYNtW+4Ex9JcHgEgdcv4rl6KVt3HCa3uIL0mLN873GU3Df1mHv7EF/eu82d1JU959QWN3bvv0BtaydmUyfJEac4GxDFyxqTw5w3MT5I5g0/vDZuZp/vRWLjE3iUlkG9poOagni+mjUXD699XAmK4Kr/BXZ7rGHbqSjyHwfy9TeeRN7Lpd3YQ29PD10dWprrCnH/7BNOhqZRqzFh1rfwMD4Uj82HSHhSQN2bB3y28BgPcyvRG/QU597lyPZNXL95n5aWt2ye/yknAu9LufWt5SSGn5Vfnksa1DP8SnuMDnSSlRzDhk0HuZX2CvPAIOauFq4c3ciBSwnk5OXxKOEKp8PuUK0Rxl7Gf9FpGgfl2CU+asHf09NDeHg4f//3f2/d4f/000/Jysr62XP8U+ODNJY+Y8+2/5+9N/+KKtkefP+E99b79a3Vb/Xq7vftb9/b9/u9VWpZ82jNg9YkDjjPoqCCgooDIiiKqICAiAqIMggyyjzP8zzP85SQkEmSyaCftyJOJiTqvaVVdet2v27WSvLkiYgdO/besc8+ETv2tuPA2SCy6wcpa+jgqtMB9h915mZiE+W1dZw9/4CItFbqetTkZkXhfjeW4NQWSiqq8HC/xs7tNmzftVdu72y19ySycGDBV799YNHgrxsQK/zzdImIPaMG6tp6uLjDgivBGRQJg181R+uglvzCMtxsrTlz7SHp5V2UNo3Q2D9N+4iesqoarpxxYPPBS8RmF7B3w2acvGLIbxxDa1g89CX84l70xmXy4V/2zlbcPf1wcdjD2tWWOLmHUt8xwGhPKRtf+298vXo9tgcPceKoLcePn8Llyl0Kq5torYjmz69byNXHjpZKrp/ax7fffsfOwyewsz/O4cOnsdrtSHJeBfnpUTgdOoj//STGdXOIrTvhJnLr8gkOHdjDrt072WN9nJthmWimF4VGYD47NUR6bBAWlnYkFDYx/3SexqJYDm/aSPCjDEa0s+g1QxQm+PP6Wxsp7VBhWAgTNk9XdS7XrTdj65XEpIhAMj9NYWoc5+wvkZZbQXtLOZ6OO9i61wbnq37cuOaKg60VV+7GUVVdQdK9Cxy6WahEb3gyQ3djIb5u9lgdtMHpig+3bnljt+kjrj4sZnhCvyC+YmWnv6WcC5u/wfFuAcMT0zyd15CXFM1lJy8qWrukwb/+0y9ILFFW+IXBH3HPi2vhudJvL/jqGSy22mDv6MFNb3eOHD3NwXMR9AwOLhr8xU10NhZyN+g2/rElDPZ3kPLQk4++O0rjwIRc6ZybHiX67lW2r1+Hq08wLnb7OeQURsfghNkDYgH1JRdCfuQK/3MGv5rgyyc5cdSR9JpeDIZp+luKueFxlsDkSjKj77LTci1fWOzA/qwTRw7bY7X3BG4eIdR2jEpfPymXcoW/n3DvM1jtsqagtgvdjIH8SH/O2R3hRlwt87N6eipicLS353ZkDsVZiVy/cJoNO2xxdvEiwNeNzbuP4+qfQWdPKwEX7Dm4ZbfR4H/M5atXCM9qZkxrYKynHHcXZ9btuohKzBOz0UqD/4ojh/faUNjcT3NBGO7Xr/Ewp5lxrZ62yiROHd7O+6t+wuHUaWztTmFva4/HzTBqW3qoK07Ez9+HqMI+xAHVjuL77D5wnvvxZag1U7TWFeFgZ8+JSw8YmV5q8I8NNHLf+zwOx5xoGtLJlbrKGDcu+gQRnlJMzB13fvzyY77fbsPRE44cOXKSfTuOcff+Y8rK8vE8fZiTp9xpHZmWBzSbCx6w/scf+fy7jTicOout7SmOHzuJV3ASPUMiysniyIXBX50WII3L5u5h2quyuHnJGeu9+9izexfWhx0JfVwkV0ZNhoyIrtJdX8w1x5Ps2rIXNw9vbvpe4tP33+bERV9afsHgv3LiMO6e9/7OCv8whdHurFpzjIzCajq6uunpbiMvJZzje7bh7hfGiEZEBFGR8dAPK6sDXLsdSYc4dGw2NsHep08MNJelcNnhML6BMQxOinMks/RUhi8Y/KX5iTjZ7MMnOIFR7Qz6qRFuWK/F7UY4jb0TaEbaSAi+yDdbLlHb2sqVA9/w0Rffs+XgUY46nODgweMcsXYmvUqs8C8eGnwyJ85HlBPkeQabA/vYv28Xuw84cC8mk8cPgzi0/nu+/WoN9ocOY29nx9lTJ7jkFUp+QTbRDzzxComnZ3RKut+IyGj5CbfYb3MW/4AA6dbx+VdrsD1zDjs7ew4eOMnJE9dIL6impiKfgCunsLbay769u9hj40hEarXcpVE4/1RGWuuqS+W7f/sLD3MamZieY0LoZa8rbLW9S1NbG4l3TvCnv37MPptjHD3miJ3tSVwuXuVhaiUd9flcdjzIAat97Ny5gwPHXAhLyCA9LhiLt94ivnJwiXvL9FgnsREh/LD3LuN6xdd9ZrKL0IDrODr7GA3+UDZ+8gnJNUNyp0TdV03ADU9cvKKprS0l4uZJLkRUox5uJdA/kDOXEmjoGGPWMEZVTjg/vfM2OfVtxAZ6YG9zVC4gaKZnGO6qItD9EN8ffNbgf4phapiS1BB2ff8z+c2j6OfmMYy34OYWjM3px/Lchl47RPydC9jstSG9sIh715xZ//nnrNu4k7NH7TjhcAz7E+cIisykXyXOoimKZWZaQ11eAkf2WXMnoQKVODBuGCI2JAj7A660DQ1TmRmG4+GdHLA9jvuNm1xxsuHEkb3ceVxFZ2USVz2vEJnThFprQDvaTlygD7vX7uCsy0Vu376J5Q9fYu3oJg1+cd5H+RP81VEY5oXD4ROkFQpXtBnUI11EB9/F5awfIxP9+Jw5xDlnDyqbetFPTdBQ/BhPH08iC7ppKc3A6bQju/Y7csHtBteuXmGXzXk8gouY1okV/g24XQ1AMfjPccTKlvreUdoLQrjk7Utlc588zyV22OrFSvFBG2wdLnLe+iBH7K9RUtdlXHgw4axgXpfqg7NvGFnVfWjGh0iPvMtRxwvEl/ZimH2CXtuJp90+LrleJS0/H+8zR3A8c42mAe2ShQwBTRzYnxhswHXnWr75fDW2+6w4bmeLvf1xnC/eICYpnai7bljt3429szu+AbdwPXmAMy4XScuvINr7DJuP3ZAGrViMFOaU0Cc9zYWcO7ANp8u3GBFnFWf0FMT54Xk7lLyGUSMPlC+ha7prs/FzO4fVnj3s3rUTm8OniMmuJD/uOu+//xnrt+7j2InTUk+fOuXMzbA08h6e5/OfThKbU4fOtBD6ZAZVbwVrX/sTvtHFDE7omdGpyE4IZvfeYwTFZNFYHsOHq72obB5mdm6axpJEzh2x4kbgQ9pbS7B8ezneEfkMqqfRjLQSG+yB9fEbVDxzaFev7iP2vh97DnuQXNTKnMhVZZjiwTU7rM8FkZKRQ9JDHy7fjadjWGsc81JeLiHEL/x4JYNfHNgVh3VdXV1Zt24dGzZsICgoiL6+viUn91/Up/Bza6/O5pj1EfY7+pNZ009xdRMuJ/axx+48d9LaqKyr4bSjB7ceFlLW1MPDIA9OXwkkIL6C+Oj77Nh/Gge3cILDH3Fo24/sOn6dsLweaby3D+tp7Brg8lEnwtPrKevU0DpkkIeC24anqW3p5OJuCy7cTianfoTmQaWspr4FP+eTOPnEUtI6RmVzL/lVXVR1qGnuVZGeGs/OnTbsObifby1dCE1vom10FnGwc3y0n6LiarqH1M9NAkGDaeHSE3qW99ecJ7OojvqKHLxOO7Jp/TH8Q9NobS7j4OfL2bz3DA8iE+UWc15uHjl55XR099JREcOfXv+ZxKJGersauePuwJZdVnjejSCnoIiC/CJSEzLo6OqiNDuas4cPcitUMfiFMTTUUUVOTjaZmalEPfDluM02NllfpW9MHBRbFJpZ3TAZcXf4ed0eHiQXMzk5QUNJEnZbN3AtIIrG7hGGuhuIuunCO1/ZUNunZtakbXlCf1Mp/o672WTnTWPnIKNDnUQG3sT2oDNJOaVUFMazedU7nPaJoLC8ktToIC6cPor7nXiqqsqJDXBivUMEfcMTaDVjlKWHcmzvDrk9n1tSRm5qDKd2fMnViGcN/lmGO2vxPmTB1pPeVDZ10NddxwN/T04cu0RFaw8NxfFs/uRz7iWV0z0wSHFGBBddT3EpOJ2u1lrO7FrLHqcA0vNKpO/ueacLWJ0Ko1ca/NH8LF16mhWDP9Bo8A90kvLwOu9+voPiph4mtDpmZvQ0lSTgarue5e9/i8WPu3iU2yoPeNZX11BV28642Tb30jliNPhvezzn0hMkDf6TZNT0SIN/oLUEn+vOBCVXUZwexZGDe9l6xJnolCwKC4vITsumuKSWEfWU0SiT2hPNeD9h3mex2nXQzOC/KQ1+X6PB31sZzclj9gREZBEb4MExq73YuAVTVFxKbmIQ+6xOcf5GGh09bQRccOCgaYW//DHuV68QkS2MdgPj0uB3wmKXC6PS4F+UNb22i0Bp8FsrBn9+GGfOnMXvYQEdfSo663JwdzrBz5ZHCU3IpKColILcTHIKK+VhqrriJGnwPyoSBv8sHYUhzxn89nYOnBQGv+7FBr+9mcFfleCOm+89ItMrSIu4ye5tmzjs7E1Kdj4FBcWkJaRTU9tEc30x108fxvH0ZdpGRPi+OQYaUti3bR+b9pwm7HEmhUXFFORmkVlUz6haeaEw8dm0wi9Wk5u7B2mtKacoJ4eMtDQignw5stmSo84BNPYKXaLQa3Z6nPL0cPZtP8SJ8wFy0SMnJYS1n33A6Ut+LzT4xbwWfsJ1pak42e7Hyf02zf2KflrkgoKVOLQrffgtnKnrHFV02BPx0pWBy+F9ePg9YFCloiwphF0/b+K4qz855Y2MT2gxzM6arRqKjb5Z2qqycD9+hMve92nsVTGp1dJZrhj8EckFlOQ/5qzNXm7cE374IiSrucE/iWaknfjgi3y1yZ36tk6CnHeyxtKKK7cekF1QRF5uAVlpeTJErcjQbvoTxk5fe510O8rOSicp7gFHdq9lt70P94PucHz3JvZanSIyNoXi4mIK83PIK6yhsaaYuDAvfB4k0qfSyUUbk8EvVvgD793H89wh1m+3Jjg6mcLiYvKy88jLKaG1rYOWxmqlz8w04qMCsdr6I/vPhtLUM77wkvtkTkdfYy6WK1/DNzKX9r4hmsvTcXV0ZKPNLbnCXxjvzTvvrufyzTBSswspLMgnL6+AwopmOuqLSU/PICcrTbrqWO/fw+GzN0l4FMLOVe/hcb+YgdEJ1Kph+vv66GmvJfJBCN/vuMek8VzZzGS3NPjFCn+hXOEPZf2HH/Ewv4Ux9TiNRQlcPOXIJd84GuvLifA7ycVwc4P/MY0dKmb1Kiqzw/jx7bfIbewmPdKfI3v243s3VoYQzk4K5cjedfxs+7zBLwymiswI9vz4E7GFrYyqtdJIvHgxiENGg39aM0TcgsFfRuQtd/Zu2MAxJx+ysvMoKS4gIyObqroO46FxRQKEgdRcms7h3btw8YuhqaOXntYSfC9f4sB+V5p7u4jxd2a75VZ8H8RTUFxMhJ8LTg423H5cSUdFIs5nz+D3MJ/OvlF667PxOHuCb3+yJ6uolKrSdOx2/szRM5cpaexZmJ9iMUW4z9UkB3Hs4H6Co5Lp6OmhvjIHT1cXTp31Z2RymLvnj3LCwYWsknp6u5qJC/XB/owzjwrayQ33Zp+VHVdvP6KwqITE6FD2HXTmyl3F4D8vDP5r4rxbEUHXz2FrZUdD7yhtBSE4nnElvVCEj9Wg108z0ttM8GVH1nz6IW+89z1u/nH0DE8uuvOYJsxTqE314ZxPmDy3KEL45sY/4KCNAz6RBYxNaOhuyuLErh24XvQht6QQrzOHOXX2Gs2DGrPxGwGKFf7RNryPbmPjxv0EP4gmN7+A/Px8cnIKKMhNwfXQFg4cO8/jrEKKC7IJcD/JOdfLZBbXkh58mdWW1qQU1KAaV8uV/P7+XmrKsnA6sBWnS/6MCoN/Vk9Bwi287oY/b/DPz9BZX0FhTjbpqSmE3vbCau1aTntGUpgWzHdfbsT2jCfRKbkUFhaTn5tLdnEdTYX3+PqrrfiEJNE1qGJcNUJXawvNtYXsW7WMk15R1HUOMdzXQlSgJ7v2n+RhWjHNFbF8tMbbaPDraBAG/2Fh8EfS2VHN/lVvc9Y7WnqXtNXk43fhBDutPahcWOE3yu7UCJmx99i12547j3IYmdDI80hnD2/h+NVw8goLSXzow6U7cWYGv4mRr/79Sga/eJiIcFZarVYa+YODg0xPi+Qh5i4iL0ZC+DKO9DTg63KKdev3cf56EB7Xr/PFZx/z3bbjBGW0U91QzZmjB7A+cQmfO+KA4QY27bHnStBjwsMC2HXwOPaXH3DjZiBbvv6SHzcfwzuymPLWEfKKKgkNj2SvxQ4cLwfiH5ZMakkLFa1DZOWXyW3e3as/YYfdRTyD4ogvaKWqW0dDaxdB11ykD+fN+9Fcv+HNRc8QEgrbaVPNUN/ajrfLIf7zf/kr9jdSKWiZpG/iCRrNBML4EL6hUVkNMmrP4iNIocG0ZoS8cGdWbfCgvGkAEfWmsTiN43t38/M2Rx6l5RHqtodvvt6K8xV/IiIjCQkO4satR9Q0ddBRFcu/vWFJUkkLY+Mj5MTfYe8uSw6ccOFBZDTRD0O5esmHioZWynLjcLaz4XZ4MmrdnPRpK473w9nNm+CwSB6F38b5+AH2nfClX61bCC8lMJ03qCnOuI+lxTc4OF8hPiaGErGNd8pabrv53g3lwV1fDm3bwj7nMLkKqUQhUcapVXWREXaJz1d9x8Ubd7gf6IP1zh1YbHYkIaeSmtJUdn3zCTbnvXn4KAL3s3Zs+HkdF/yiqKuvJdbfiZXv7iMo/DF5BdXkJIbhYLWb406XCI0Ix+vSWb5c8ReuL3HpESsLIm50P6n3nfj0049x8fDE3+ciOzauZ/NuJyrbB+mqz+fImu/Ye/wyt+8F4Wi/j29+Ws+Fu8nyJcrtyEa2HL5AUGgYAVdPsnXzdg6cvU/v0BDNpbGs//hTUkpa6GwsJij4DgFxpYyM9JOXeJOPPngPD79A0nML6B4aQz3SSmTAOf71P/0Ji/1e9KqnGWqvxMPJmePn7lLboVJWL56bIorBH3H3Gl/8ZL/Ehz/kyilO2Z8ms1as8IsQcqX4eroQnFJLR0sNV8/b8dOGTZy9FkB0bDR3b/oTHpmqGEVmL2Xa8QEifJyx2XOIwrpudGK15NEtXByOcjOhTomPXxXL6eMnuRuVS0q4D45H9rDr2CXCw0PwPGfFt2u24nIzla7edu64neTQjr3yEHd7eSIe1z14mNuiGPy95Vy5cJ71ey4yahArNmKVX5kdBm0PYlfFzuowxa1DtJXEcHTPXvYedCUoNIOy4iLCb13B8uetnHD1IyY+ntC7nvjejaCyvlPOOf8AP2KK+3k6P0tXSTj7rC/yIKECtVZHW32JXGV3dA9j9LkV/iZCfVw56XCelmHFV746wYNLN0OIzW+msSyN07Y7WLdjPz7BYUQ/eoiXuw8p6UU01pfifdaWM05XaBvVy/B00+Mt3Dh7jA0Wuzh58SYxMVHcv32d64EJdPSJKCuLGsEwNUZN+h3OePjT3NlDfKAPPt6+hETG8PDBHRz37uW02z1a+iaMLndPmTNMUJsfzaE9+7A+doGHURF4XrBh5Yp/w97Nj9bRxd0uk0iJiBqdDRXc93fj+9Vfsn7PUUIeZTCgFrGbl+ppcWi3OPYq31i6UC8NfhEaR09bdQYX7Ky46hdCe1sFDhu+5L//ZTUO57wJj4wmOTWdxo5eY2g44xifzjPUUcPti47stTnJzZAosspbaSwM5acNR4hIKaS0IBHnI/vxvZ/A6JSywu93ZD3ufg9p7ptEM9rB45DLfLf9unSNKU+7y3qLNVifPEfIwygehofi532HBkEjY3hh0fvUeB95j+9x8bIXIRGPSE16xKlD2zhyPpi0jHTuXD7ORotd8ixAXEIC94Nu4heUSGV5AQkRN/ANTaJfJdyjlBX5/Me3sTriwqOkTJKibrJlkwVHzl8nOiGe8Pv3uBsQRkFREYlRgVzyuEFoZAyJ8eEcs9rE0cuPaO1TL8i79OHvb8J9xw9s23+Km3cCueZ0jO8//RGLg750D43QXZ/OttXfs+2AEwH3IoiKCCbglh9+Iakk3XPnzAVfHsUnEHHPG4djh3H0eEBRYRaetptYbeFAUGgU4feDuHPnHikZGYSFhPDT7hA0M0pwBmHwh93x4qSrH4W19ZRnhLJ25Rs4uPnz6NFDrp8/gdXuw4TEFdLVWkWk/ykuPayRLj3Bt4NxupJIU5dY4VdRlRuOxXvvk98yQktlFq52VmzbZo2T8znsbLbx2rIVbHSMZOSZxY25GS0t5ZnYb7HA1sWP2JQ8qsrzcHYNxPZcIhPTMwiDP+GuG7b7D5NZWk95dowMy2hheQT/e8KHO5wbPreJSS6VBqBpdj2ZE7sLNbge3cn6zfvw9vPn5rWzbN2wlY17LtHa18vjIHe2W27hgtctQsTK/95NbPx5A8HJ1XTXZnDSaj/7rF0JDE0hJzWGa+cd+Gb1TkIiHnI/4CLfrlrB3hOuFDf1mi12CbfSeVQdJVw+tYtDR+3x8hXujyfYuNYSm9N3GJ2aJPW2B1Y7DuB61ZeAgBvs2bmJH7fZkFDcSWnibazFTra7Lw8eBHL53FF+trTGU7r0DHLBajOXr9+hqKKEEE8Xjh20p7F/XO7GHtq5H5fL/kTG5dPcNiQjDpUmBbHuy5WsXL2PmJw6tNPKOR8TrUx6ojbNFxffCLKr+5jR62iuyML+4H52WZ8hKiYOHzd7LC2t8L33mIbGCnng+YzzdVqGzA1+E9SnzOjGKIi8yuafNnH20g1Co6IJDwvF1/8+j5MS8XDYJ+23wAfh3PX3ZJ/lWg7anqWorku6hG5c8wnHzrkTHhVJ+IM73H8YQ0pKEi7WOzh/JYDRSWHwGyhMvI13YIQ0+JVFSwWHOcMkiUE38LvhS3h0HBHBtzi2bTsX/RLkmbvTe7ezYcthLnoF8uhRBIEBnniHpNHTXsbhzevYd+A4/oEPCHtwj2vu3iRl5hLivIsfLA9x404oocE3OW5jja3TTcobO+msjmPV2htUiWhWczoaSxPleRbf4Dj6B/u4ZbeVny2P4OV/F2+306z/9Ct+2upMdcfogm4Q+uapbJsio5sdPOZMaFQM925eYM3ajQTE5tPSVE1ypB+XA8UKvwjh+9v+XsngN+9KPsTNVonNy158LUJ6TtNQXYqzzT4+evNt3vt6C9989hFbrU9zO72Dpu4BIkNu8uVnn7D8jZX8vGEjayw24+DmR0xKOsf372TlX1fw2ptrWb9pG19+b8H+szcJTyrA/aQ9L9E5XgAAIABJREFUH7+xkj//+a/8+d+XsfytD7C74E9sWh5OR6x5b/kK/vznv/Cnf3uN19/8gD1OgdL/v31wkuzsVFav/o6/vr6CZW++y2Fnf1Iq+2gdMVDf3seje16sWHWKRwVdNA/P0j/xFI12ksbyDI7YuZFQ0KL4lD5DD4NOTUWSPztPBFHfNcLs/DwzU2OUZz/C6sB+7K+E099dz60Lx/hq1YcsW7aMDz/9huPu96jv6Ke3KZM1G85RWN8rt0AnVX0khPux5pvPeP3111m+4k2+2eZKYW0bjRVZ3HRzJSa5EI1exPXVU5sVztbvvuStZctYtuIDvrWwJyKlRmZYlK4epnWop+JUeRm3XPey6oM3eee9D4jOr6KmOBUX26188t5K3nzvMzYeukJlp+kwommyK9tvI72VXHOw4K03lvHBhx+w1nIfe2yvkV3exvBgJxE+jqxc+QZvvP0h363dzOGjh7j9KAMR6qohN5YtH37Im+98i9XxCLmifMfTia8++4iV73zM1xZ7OWnzM0HJ1WaHdoWUifCXelQDdbg7bOP9t9/ksy8+5esfNrJp3wUqu8ZkuM4Hnqd57523eOO9z1mz1hJbh6PciS9CPT5CSuh1vnrnLVa8/jpfffE+lrv2c/ZGAkMqFZ212dhv20lebQ/9nTXExETyMLMOzZSGnpZcTu35nDdXrmDzvsOkljWjnhgmP/Yu2z7+DM+YKsmzse46fN09OH8llMbu8WfOeSgzRRjD2rEOkh7dY5fNdYb1xkO78xoS7npx44oXZa0iTJ6B0e5awu/5EZ3XKncMOurycTtziBUrVrB8+Ure+vhnXHwf0z2qMTtY/RTd5CipoX5cOutGdZvYyjdQk/GQW9fdCc9rk76og41ZeF/3Ijq9GuFCFnTtLJ++uZKVb6zg+9Wr2LTfHt/wfAaGeokJuM4lx3NUdQzTU5/D3eBAkks7mdTNMDlUz13/m9g53WHCtE1qlLWZqSESgry5cs6N2v5JJodaCL3ixA8fvc/7X9hzK7SIjpZq7l85w7dvrmTZ68tY9vprHDlzheqmLtpq8oh4GEZ6zbB0WxtuycbZLZiE7EYZzrantY4rl724fieFcb2SN0Ch8hMmRjpJfHCLG1f96R43SJeb5uy73A6LJ7tmAJ1mnIrceKx3b2DZ8uUsW7aCj36wJTi2mM72BkK9L+HrE0yPeka2Fbto/a1l+J87yjdvKbiuXLkS5xvh9AxNLHHpmdVN0FIYhVdgBJ39Q+Q8CmDnxu9Zvnw5b73zAZZWp0gta0UnV2WNciG2lvvquH/Vge8+fosVK5bz/fof+PCzVbgHhNOrNh1gV+qL/yL3R4yvC+u/fJ9//7e/8O9/XcF7H1uSXSte8oSLx2JdkRCmOjMEqxP+tJncdJ7M0NtcTMAlZ4JD46gve8wP337Gv//1r/z1tdclvl99+wO3ItOYMIv2JaAKGcuIDmTd91/x1vufYOeTRnVhDAdt3UkTK+rV+fhfdObh43zU03PMTI8R6W5H4MM0Okd06Mb75MHfA2cf0D0yhU6rIjHCh7U/fMXrry9jxVsf88NOZxr7J4wvU8pgRLSYoqT77P15NW8Kvi1fyXfrTpOY38KERkNfawn+lxxY9cE7LHt9OW+/+yEXbydQ31BNTtJ9HiTkMqwWB22fooQXjeLcxQAKqjsYHe4hJsSL9959R+rcFW+tYs/xm+SVVpMadYft33/NymXLWbHyHX7a4kpOVa98FizqV2WLvrUwjq1fruLNZct487XX+PTj7znsGsqwCEOr11CadB+r1V/xrsD/9df5ccM2HiQUkBHhzXfvv8Mb4v7KT9lidYn0kg654NRZm4Htli946w0x5g/YccCVlMxcUhLjOeIaz5TR7WlG20/io/tcFyEY2zuoL3zMjk/eY9lrr8sxffTlWlx9oxAusSLaWkr4dQKSm9GM9RAXE4NvSA5dwnVxRk1zeSJHLbdQ3qVhenqS2sJEHKx38M2aH9i+Zw9bflqFpWPMcwa/2I0b7W0lwO0oK5a/wbcbbbgVGoOH70MuB+SgNcxgmBolJ/o27ucuUVLXI8+CVeVEc9JqE8uXLWP58hV8t3E/oSnl0nVwUZSfMGuYoDIjCNvt3/DuW8v5Ye1aLHce4/Cp2/SPa+iqz+XM4e289/ZbvP3JGiw3reecswMxBW1oRzp56OnMjx9/yPur9nPVL5rEh37s+/Fjli1fwefffsHHX3zMSXc/ajqHzdzZBAbC6NdRVxjDvi0/8/Zbb/LFt9/y05aDHDp9l2HdLL0NRZy23ct7777Ne6u+Y9PO/Ti7u5NVM8h4fyNXTx3i8/feZuWKZXz97ZfssXflXmINev0Yt52Pc+deNNUN9SSE+OPhcpXOUR3CdevexVN8/dFHfLr6OHceVsoogK3liVht/4lD571p7DXu2pme88apL543rQWh+IUmUdo0JGPk6zSj5CfeY9/mH3hzxRu8+fY3uPlGykAoI33NhPmIczT36VZNm41/UZeIg9mzukEe37vK6q9WsXzZct758DMOnrlObkUTZWmhrP/hK1aufJOPvt3E7j07uOrjR23XGIZpNcUJt/nhuy94443lfPDxKs5dvUlBcQG3XBy5FRSNekrP/NwM1TmRhDxKokIe2lXoL7AQrlX5MbfYsX6N1BVvvfsRWw+5UNLUj84gcotkc8FqO5+ufEPK/IeffIrn/VTGJ7U0FMThsHUdH7zxBivfW4WlzUUyK1vlDpSH/RY+++AtaYdsOuhKUlErWnFmrymL3cdDae4RCzt6Outy8Xc7T1hsDmOaafrrs7Gz+J733ljBytdfY9W7q9hn701zn9j9W5RcIT9ip7Mo9QH7LIT+WsbKlW9xwT+KzqFx+czKSwkjIDpLRkVapPivu/rVBv+v6U74faq0IiPuNDVtPUQnFeB29jB7RXSTyGpaRmboGJ6hoWeCpn4NLYN6+THF3RcJsmo7VTT2aWkZnJafVhGTf3SOtmEDLQM6msRncIrmQZ2SdVck1hqeNt6fpmlQR/PgNLKd8O8fn6dDNUPLoIaGbjXNA1NGWBpKaxsJDb3P3u9Xs9s5loJmtQzn2T/5BN2sSGihJNpYSFDxHFFEbG+RvENxLTC9JCntZmR4S8H8ubkZpibVqMcm0Wj18hT2U7E6+/QJMwaREVRZmRPtRQjHaZ2WsfExJia1GES5ODAsEmPMGRMnGQVK9KPXTzExoWZ8fAKdzsC8WHU0yZv8FhgIPJ9Ig1I7OYlmUsSoFzkC5jDop2Q857FxNdMGETJw0XdWKjvZWjnPMGvQMyaypk6ILUaDkshJ4qbAFnGhx8YnmNYbZIILU/Itcd7AoNcwMaFhWmRhnBf19UxOTKA2HuQVxq4Sm/k5Ikvf2xkR639Sg3ZylLTYcM6dukx1z5hxXHp5EGhiQvRtTPAiVwhF8owZmWVYxEnWTk1jEIlB5pSkHCJkpkjIJWLai90EQZMFXj+ZZ0Y/zeSEiMUuXDzmGe0o45bbET78ah3Nw1rF4JYJRURCKlMSkKX4S5lQHhsyL8CM0eAT9wV9BU9lkhjjKrnEw8hnSX+RaGRGj1YzgeCRdsog+1Lam/UlcwMs4iF4LpNXzZkS3SirVaIvhS8iKc20pI1qTC15JpOZGBPQSLxmlbZS9uZFQiBFDgSOShKhxXjZoj/xt6RfmfxIZJTWo9Np0E6ZZF/0bZCxsMfH1Gg1U8yI2NsCvjFJkmnzQsiOpI+cL2LKPJFh0QQ/TH2aqCDnj0jYtcALZX4qsq7gLmgiVrzEwTG1iLM/LeaMkAclfKqSXGUBopyjwrdUxD4Xc2xqSmeUH9MkM9aV8aZFXHXFR1UkuBE7fhPqccbHRT9GPpg1E5divgn+ToyPyXrT0waZC0WMwayqCSG5myJ4I+aDXq83fpRQn8/SQ5EfEQJ2qWyaxipoKKKQCFdOwwIsvfyt0GQpBpK+s7MydrqYiwYRJUnOIZEcTVyb6Sgh30Z9JnklQBllVPJ6oXxO5jpQj49Lfac3zCzZMVIGLl78hQ7RMTEh4uqPy8P/poRDCg4GpibHUanGmRJyZkyUJ5N+GZPcmIgoxiwSbCmBGATfZ+RBTpVqjEmt0BFK8iuRI0HRrwKu2qiLFSobhyMlXjBKjF2nUaMaG2NCOyXjfM8K+hjfwOaFrpbx2ceZmBDBC4TciURvs3JujI+PM66eVOKDy4RFQnbnlTGrJ5ic0KLXKwl7ZPKhOVN2WSFvQneZ6RERC94g4ArdrmZycgoTLqLuE5FkzUgT0Yeid+WIjPpUyco8a9DQ2VpDdlYOiYnJBPtf5+AWC84EljAhzokJgsp/Ri4JWTAoc0WrnZY8ELyX8I0VpU4y0V4+l+YxTE8zOT6Gely8ZIjngIluSyVayIBOq2F8TPBYuFmKRErKPBEyoBfjHRtHMzmFQW+Q+VsEj4XciXwHOp14/k4rIZHnhRxPMiblZVrKvIiNr+Q3MQ7MqKPlryfzTE9NyedBb1cLobf9cDztybBOkX2DbkrO4UnNpJLMS+hZ4zN+dkYn+aBWi+efeG7OKRG+BN9EwkOhM54Y9bVwpTP2KzJlazQaaTOI3ASTY70kPLjG5u02BD+uQj1liqKj0N+cGcpcFPPbuOsnY8fPYZjSoBoVtoVOsUOMOlroc6lzjPL6HERFPGQCymmNGrVqXMqVeJ4JmgneTGmN9NRNSxos1cOCzxo0E8JOETpUmX/yOTJnlCWjPMh5YS5Xpjk0P8+0lGkxVwQtFdtJVBXjnDGIHDyKTaEzHjoWtBQyPmPQS1pOaqbkPJJ0kTl+DKjHxxgbU6Mzy28jXnAW9abyXBL5gBS9KPoT45mUearUGu0CX03z3ZwX4lrqEp2GsdFRVGrxvDPKuCkJqcxLYaK6lDjzHy99/Qcb/CAz7armKCsvxPrIGb74+ie+/nEn5/0SqOmfMYbYVBJfKQm4RFZe5SN/y0RcxsO4qqUZe0ViLqWN8duYMVcc3u0Qxr34iERcYyKj7mJbkaDL1Jf4FmViZV9s/W7eaMHHn37N2qMPyGkYk3H/+42ZdiXZjcJmmoQKI82kUZgd5j9NrJEGnIQgFY5QSELIZCIK2UBp9LyAKIaJECg5kV4I3NSJAK0Y8wK2uDYDbawk+lE+stxooCuFor4Rr2ceios9LF4t9qXgaI6aqcz0EBW/zYVeKTfiJ2n2LN5LlbuprQmOxFOMdU5LUXY8V728aBqekEafqe9FGpj3rbwsKWVmNBLDkvQSdeUP+dv8KbaIs8B7jpaSNG6cO8Np72R0hsVcBy8guhGm+ZfyImYaj7HHBfzNa5r4tVDHqJQXxicrm/B+puUzdDeyXuGFtMFMdFZ4r8ilonwU3BR44lr+XmCyiaamb4VcJhyfwWIJ7xU6m9FeglD6l2OSLxLGJgv4m8ZnxEN2oPS9iKdC06V9P/PL2Jf5XdFe9Gui57Nli/RX+jPhv1B/AUfzlubXJjzN5pbxDUaUGG0fY4NFOijwFTqZQ3v+WqGJMidEffFQl5DNvk2tRN2Frkw3TcSWv028Nv9epIGoYgIgLhV8hdyY4Jq+zYArcM3+K2UCjpA/M3jil+SFYpws8tYcmrHdL/DNBEfQY2kfRljm3S4Bb8LBpJ9FoZwsz+lX82byegGmiY9i8cco60vGKV4KTHKn8E+BpVwr8mh+31hqHLN8GTYj9EK3C0iY3zHCNLWVPBMVRZ1n5oy8ZbyvdKnMe2BG0y/9i7dv3c5XX6/juzXrsD56gYZB0/khYwOzLylD5s8iU59GWix0t9BGwVXh3fPjX6hmvFDotKivBElMZBF9L6GjGPeCxCnzRMqGsZE0shdwfaHEGGkmOjfJyDxqVQ9xj4Lw8AlgTCxgGeeE7HuB94uYy3kqZdw41oUiM+TlPXM+GDGXsEXfc4z0N3HL5zKOl27KPC0zMkqbqGf6M7U3/zaVKd/P0WhJsTks84Kl903jWZRJpVzcF89/YbdIOZCMWZS3RdkwzU8Fz6WUN9JEglzsV2GZgGvSqUtlRUIStHqhXl/EZ9H+Mo5vQWaUuW+kkvwS+CpzxpwWi9cLuJh4tIiu0t5UVUHuGdxFoTJWpR/jb+M8MTV91e8/yOBXRiqeaRr9E4Y1T+gdHCa3sIrE9HxSsssoa+inT/2EYe3Thc+I9inKR9xXykY0xnLNE2PZYn1THeV7KSxzuC8qF/2IOsr3E/pUWmobmsnIzudxeh4ZJZ10jegZ0jyRLy2GuaVi+HKEf4bjL9fod6u1pPclP363Ln4ToEXB/nVgJEeezsowY21t7UxOL7o8/KOGuwj3CWNDvTRUVdPSo154KP66kfzaViZsxLfp+tfCepl2i338Vt69TG///6hjopnp++VHpbR49XZ/v4ffG97f721J6Qu7FjdfWLCk6cvVeabJ/8Q//8eaXwp/RFbm/q5mCnKzSUpKISOnkJauARmy+cUcfPHd/3HYYoaf2eXL4WdqoLhwDfZ10dTSLt1nTSXPy+xiycv18XdqPZ2XyRVbmhqoa+oyuhj/nfovVSTwM31eqsE/sNLvSKtfjeWzODz7+1cD/sMa/kEGvzIeYZAJTwoRhUJs94rtcq1Oz5TOwLRhTmZuFGUv/oh2SltRLrJMKvVM93/NtwnGs/Ceyu3GacMMUzq9xFFsuQsjX/QpXJOMC3K/klH/ZEH5J3f/K4n2ks2UrU+RCG5x+/Ulm/6mamJbeFZuFS/Nc/CbgL5i48XVklds+ArVnxEe04LLwm1xsfDjBXDNy37NS/MLQP7PdkuuDL060grlfom+rw73n9FCjsIors+Tw1xG/hZ2L1Pnb7X93/d/FwoI173ZGfTTOqamppie1pv5d7+IP5Lrv0vXvx3IIn6/38uUAlOuZAu3uhnhfvML6vC3D8QIQXGbEa580i10cXi/sgcTgH/0AEz9/BKaL1vvl+D8lvJncXj292+B/ce0/UMN/kVDwJxQi9spypBF2bMfc2IoZQumwrNV/9ZvAUKUPfdnDs+sgpippo9oaFb0HIhXvqH0+crN/neDV6PA78qzV+v6n1FbzInf7+H1t0awVHZFfwvTRDZZWv63oJiehMo8/l+LUb+WR4v8fUka/03i//ML5Aikin1W/wvcnpWHpb+lEfVcnX/+mH53DJSBvoAev3tPvxKgwpdF7pjrn8W7i8DN75lfL9b4467M+1+8FleLv14VG1Nr07cR2K8H+GoICF0ssf9HdvhbYb9ie6MZ9lu48mpE/Nu1n9fbrziWvw36Dyv5Jxj8ZkSSSQb0TGl18jCSHLWpWHybro0FinFhZoib6rzMtwBnBk/AEgcsZo2HUcSKsDhEMicOzMyJw7gGpqd08pCQcrBH4YnsSqBg5lf60twy8wd7XnheGspvqqiMe+khvd8E8Lc0XvBtEwT9LYBEW8U/U9L1b8J6kXHx6/uVPnryMM3f7PDXA3/llmJs4hDfNFNmWRBfGcwvNBCH7sSBOHG4WRywk6t7Or30SxbXIkzvnDww+PcACV4pB6VENlbh2/oP+ZOqQnkE/kPgvzLQpzydn2FSozMeknwVAOJ8ijhgPvV8DPxXAfNMXTFfBP3/GfpI6FCDCEAwNiYP2enFiqg5fs/iJleU9UxMThkP1C6pbd7ypa7FmJXPS1WXxtSr1H8RVJMP8S/JvJxbOi1T0+KQ8rOQlGeggPV82bN1/zG/JUqic3GxgJ8yr/XTBpnQSwndvKSCpLf04f7HoPWLUAVOJj9tidnCgoWCp8Eww7RhVjk0+4vQllYQzwPZXq8cajYjzNKK4pdJN/2ODFyktLj6dX9CW4qdGv2McqhYyLvJ514gLWn360Av8v4l0BOyPWOYYXJSx9iEjhkZhOFXdvw7NFvUFcaX2gW6/A7A/0AQf7DBv3Rk4qE/3FlPcWE5dS3Di3rDXIfIJiJaiUFJuTyhlcp+KaRX/PX0KfopNV0drVRWVlJRWUFZWRkVlZVUVlZRX99Me1szVeWl1DR0oDU/gClwezKHdlJFb28XKrU4GPpyf3MzBlSDw/QPqNAZ5l6u0e9aSxiEGtqaGmQ2QvNMoL9rNy8F7CkGEZVifByNzpT6+2Up+XwHIpqFZnJChmYUUR9e9Dc/K6IaaJkUUXWkkfnr+xNRDqYmR+nu7GZCI2K6m/f56+G+CO+Xu/cUEeu6vamakvIqxrTTv9Ht7EW9PmGovYnSkko6ekfQTozSWFNKYVkt07M6mmtKqayuZ2R8MQvmi6CIB4eIYNDZVk95dQNTIl747/jgk32KxQS9DrU0kM3DUf7RvFnsT0Z2mOwlPauK/oWwnaJ8sc6L6SUWK54wPd5FelomHf1DxkzXf6v2y90XMGdnphkaGkG4LyoG2su1/a21pHE0NUZxbhphD8KIScymvX9UZppUYCsJxEZGxqRbpTBEREbdscF2ElIr0eh+G75Ch+tE1JAxNVPTQv/8wp+MPKVDNToqjXBFd/5iKzOgwsKbR6sepa+3hzG1yMRsrjPMqoqkjZMjtNcVUNw4sCSfg6wlIoTopxgdGkY3888y+o3GvhnagqciEk5LUxst/SJKkxifiUaKy4mIKtM/pkUvIs+Ytf1DLp8+QT2pZWh8Cq1eieAjogVpjeFlRcbY9q5+atoGGdYoz6SXxlGksJjT09Y1QHXrEFoZjli0fvYjIm8JP3/x4q+Xrsy/17xTcH1pjF9AcuFybaC6rp2G3jHUuhkmJqYYGtEwoZtl1mBgQqOX4cVfrRfFSB5XTdKv0jE9M79IlhdIgZAj3dQUrW09JGXXEJPVQM/ktFn+gxeg/g+6JZ5LwlVXo5mWOke4c4t7s/ppegbH0RjmMEu38g/C4vcD+4cb/EJxC4KJ1XURJqkoyoMjVidxv1Uglb1Y+ZChueaV8IDyjfLJLOqRDhIe3CU8OhPVxJQxVJhyIlvAmp+bN4YTfJEoLr33ZH6G1spkbPdv5L/+y7/wn//j/8P/+X/8X/yH//if+Jf/+ifeX2XBqXPnsLe15oL3A7pGdXLV3xRGcs6gpiIngpPHDhCRnMX0vLKyIfGQoexetGL2lInBbsKv+3DxeiQ13WqpDMSb7PPtzPEV1yb4IlyXoIuI9LBYR9BT0E28QCmwzPs3vpEKKE/09LQUsvXbrwjLbZbpzJV2ZnQ0rlgLWHPzSpgppS+5JGHsR+GRxOOZVSZlPEYczVYOFRwVXETYTXHgq72ukPDAu+RUtCth8mQEAxGKzjQOU2QOReCFIjDhK/pWwgYKmE+YGusjO+URyfl1DI3rZL1FraLQamKwjZz0JJLz61Fp9As+/gJnETZMyJ2AK3A16aGFPo04if7FvRn9BOWZYRw5YEtKSTMa8VJo5IMSak6JoiTl3aj2/9a0VfoQIRuV3SVhCEgcRAMTTUw4GsOVKTgu8kSEDhRh2e74nOfg0ZPUdg4gn7dmnYo2psgJEi/Rj+zLRF8hR8rYTWOR80qEMJR4zFDwwI8TR88TkVpJd0sZXhes2XPkBP1jPfi52HHK2UMm9hJnXZ77k/QRc3WGkYFWQgKvYu98mX6NXoYwXZQdwQcjDRZWUhbhKeNQcBeMUtopMqPwR8RlnqG/MY/Q2CwaO0dkKEVJM6l/jPIrw+yZaC3gL/YhcJdGppwHi/NO8Grxz9RGkWsTbWVLUzQOCVIpF1k5J7sz+criGkm5LUyJMIrP6QtFnhX5VsI/CnEUOmuoMU7mprj/OINx/ZzcsjTRTIa4Mz6Mnh2Hgq/5HFfm1fzsNCMdZbhfvEF1xyA6gxLyzyQbik4VoWhNNBJdmnSNSW8pIQNf2Kckj0l3KfrZtFooQr62lYTJOOf/5V9fZ82GwyTk1qA3yo1IWNXTlMP1a4HkV7QwPTvP7PQYdQXRvPmlBy2943Kn4zn6GWVMzEExn6U8LDJs4WpOr6aqMI07d8Ipru7AIELxviBKjpQ1AXN+lvHBGu56esn4/DLs5MIOwbPypHSzSCuFZvOzkxSnh3P2+HGikguVZI0yZKYy9+VYBEyeMtpZSrSfNccCCpjSm7+wCsNSR1djMT4XLlLeKeggyhUemc8FyTeJylK5FrckbrKvRVzFPRMfTfAW6sqwkIIOQj7lXYmnQh8RwUSE4p1DNTRM6P0YgvJ6GdcpYXnF80M8T0RY1JycXC49LKRjTCcNOKVsUa9L/SNRUuaM+C3GoXyUewrG5v+VOaPgvyijgp9iSis4KhHcknLK8IqpoKRjnKHBYTLzqshtVstkd/Mzk9yPy+FieDH5HWq5KGSSV/PelGsTrRbxNEypuPc4F7eIQvqnjGOXdFsanUYs/PV1dhGXWU15+7gS0c2Ip6CHabxK38/3vHhH0FWprzwXFVwkZoLmS/i7SAfRXqG7aKvAMPFRJNBy9onFO6mR+l4V6SkVXA8qJKN+hO7mZqIy6+hTTUl6SfhyDphhJHn9PJ9mZw08DsvG+X4Vdb2TC7sGAn+Bu8TDiK9YmGusb+SM9yO+c7jHJuco8jrH5MKQOW3MebPAY+O45fhM12bz2jRupV8zPI14i+eO6EOWG+fDmGqIxLRyMsp7GZ2aR/BvsL0Oe68YirtVTMlQywq9TfiZZNEkf6b+Fui9SLI/9OoPNfiFIhMr9aqBLjLTU4h6GI7nmf1s2+XA1XtFaLVjtNZWkBAbQ1TUIzLzSujsH2FKq5aZzA5tWoPlXgdi4h9T29zF4EAfDZWlJMbF8ig6moycIrqHxhfiYC8Q/RmSCmWm06jobG+morSI6BAvXnt9FdeDYsgvKaO2ro6CzFhc7A5wxuUayZkZxMZEk1tSw9C4lpmZaQa7msjJyqWxo5/ZOT297fUkJyUQG5dAQUk1/aOm5DCmzp8yM62lraGGkopGucowNztFd2s1jxPiiI6Jo6C0mgHVpFSEUqcam84YtHQ0VZGaFE9UdCzJmQW0dI8ok25+jtGhHpqbGykvKyI5KZn45GJ6RjQy5rdJgUuv4FPZAAAgAElEQVRQT+eYHBfJuyKo7VIxpdMxMthNS3MDFWUFJCcnkZZbxrBKJVduHyckkppRTFv3MIYZkRlznMaqChoa6snLSCI5OZWyWiUBlJhIIp/AaE8LWY/jiU9IoqCigcExrXSPmhobpK6ph/6+LmpraqmqLCMs4DKbf1zDKffb5OXl0N43wmBfB0U5WcQ+iiY+IZnSqibGtCKe8FMmxoZoqa+lrqaC/OxUkpJTKK9rZ1I3TY9IrHFiL3YuN4hKyqOxrU++RCgkVFYHW0ricTtnh53rDeLT86lq7GN2doax/jaKs5OIjY0nK6+CvmG1jBsukpcNdjVTX1dHcUEWiSlpFFQ0MqbRy7jNgz31pCVn0t6vkgaDWPGvryolOiaGx0kp1Lf2oBGxe5UnpEkQlnyLcU2ODVJVkkd09CMexSaQXVTDqFonFY9eq6Knu53a+npKC7OJjkkir6QZ1aSyqyB2qtrqKkiLjSYqIgTnk44cdfCioWt0icEv4vxOqAbobGuXcX6FAh7u7aajpYMJEbvfoKOrvZ22jgF003omRgeoLM4nJiaG5PRsWntH5RhbC8O56unJo6waultr8HJzZo/ddQbVA9y5YI+Lqwcljd0vWI0RCUbGqRcyGhtNRGgQl10vcO5iMAOaGebm9PS115GTnkhMbCx5haWMjmvQTQzT2trOkGqSGRmXXMjwCO3tHfSNaJgxTNHVVE5Giph7KRSXN8kdHP3kMLkP3dlhexq/kChyi2vpHhDx2bX0ddSTmZJAVGQkZdWNjGumXsgjkb2xsbKM5Ph4omNiycwtor1PJfEQfDPNLfGyOKlW0dreRf+oRho/qv52Orr7GddMy9XYod4uOju7GG7P4gsLD0IiM0hNTyMu/jEllXVyR0Z5UM/Q39lIZloycfEJFFfUopJ5MWYZaUrmiy+38CCxGPX0LHqtmvbGClKT4oh8GElVYwdasVr9rLw9fSoT/jVWFpEk5ubjdMqrWxjo7yQ/zod33/yca4EPSckooLN3CK1OS19XMxmpSUQ9eiRpNzIxxcyMgbGRAZqbGqkoKyIxIZ74tAK6hyeYWUiwZibexn7rSrJ5HB9PUlo+Te0DMhfG5HA7t89u5d3VB/EMCKOirpWxyWmFqvKFeozk4PN89PH3nL3sT05RFZ0dbVTmx7Hii0tkF5QQnxDP4+QU6lo65Iqt0OsimVhDeS5xsdEkJqXQ1NatvMiY8UvQRz3YTOD1U3z/4ybOX7tDTn4ZfUMqOhtrFDkRuVPmDajHhunoGmBiUkVp8k2++/BDnK7eITWniPaeAZl1frinlYy4GGLjHlNQ2cLIhE4uzGjUKtoaGuns6aW1vpKq6kqqK0vIzsiW+km4xg20N5AcE01UZDSJKXk0tvcxpZ9hpKuK6IATnAgsWTAITbpsSt1LUug1PvrrX7kcGEdeUSldA2NoNZP0NNeSlZhAXFwieRWtTE4b472bsUXkVxF1mzpG5UKF0IEjKjV9oxr5YiUOfg4OjtCrEjyfReQfqG7oJqeig6KGfgbVwoVPPM+mGRweo2dARUf3ELXNfdQ0dRP+4DEhBX2M62bRabW0dw/R2KNCrZ2ivbWDnIpuxqf0qMYmZLuGtn7KajrIr+2mpX9C4iB4KXI5NLX1kVPZQW5VF9Wtg/SOTsn5Z6KFqDej1zMwMEqPKJt7ImOt9wyMMaQWenqOyclJunpUTOh0NLd2UlLbI+lVU92A68043KJrKaofoHtwkKBHWZwPyuZhQSslNR0U1vfRMax54Y6EMFT1Oh3tnQMUVHWSU17L5aBULoeVMDA1y7R2iua2PvKqOsis6KCseZB+lRaRDyY/twgHrwQ846vJre1jYEzH5KSWto5+ssvbZX2xuzM8aX4QWozaZBmIXVId9a195FV2kF/TRVXroOShcLfs7x+ld0QjZUe8SGo1WgZG1DJxpXzZljh3kCV52kfnkEbq91n9OBd9ormZ0kjLkJa+ngEqajuobesnMzUbW+9konObKG4cpKVriM5+FSOTph2yp2jU4zT1jKPSiNwfi0InXvj62jvJq+tnZELPtG6a/sExWjoHqWzsIau8nfruMRlZb0KlIiExh0OXo7keVU5R4yAavdD7amqbe8ip6qS4aZAelU5m3BYv452dQ5Kn7T1D1LcN0NKroq1riKbOQarquiQPKtsEvqM0tfWSX9VJfn0/o9oZ5kSODK1R1irayarsoKRpQJYJl+/a2lpOe8fifK+AlPIumrpHGRno53FmPb3jOmlnTGk0tAheV7aTXd1F5/CUjNAk8pf09o3Q1DZAVWMPeVWdlLUMo5Y5AhafIYuU+sde/aEGv1hRGu6u4b7PRbZt3cratT+y+v3lfP7tHq7ey2Owq4ogr0ts3bwNS8v17LU6hFdgLKU1TWRE3uCbD1/nz29/zuEj1tyNypDpxW9dvcDmjZvZuHE9e/Za4XE3kf5RsV0q3t7EW+2LCShcMkSiBP3UGPXFcbz73s/E5NUyKlwADFO0VWZybv9Wfv5+HTbWe9hg8R0btlgTkVrG4OiozGzr7RlAcm6VXDX3cHFly9btbNywAfuT50jMLZeZKBd7fyofRuX5SYQ/zqJBZtLNxcXxDJu3bmPThnU4ODqTnF9l1k5BXjs+QNw9T/bv3s76jZvYutuaM5dv0j4wjm5KQ1ZMAGedTnPs2GEsN27g66934B6YLY3CJcbm0xmGe2pxsT5EamUXoyODpEX543TuFPb21mzatAGLjbtwu+bBmdPHWWthwU/rrLgW8JjWniEG2itw2rMDm0MnOLxrMxvWruXw8UukFtSi0WplenMft+Ps3bARy42W7LM7T0hsHp1d3TSVxLD7wCkuuzlz+vR53C57c9xqI2++8Tqf/rgZ53Mnic+poCjjEWeOHsFygyVbNm/G7qQL4Wk1zM7NUFeQiJP1Po4ePoD1ng2st/gJK1sXMqvaKU+7g8XXH/HV2k0ccrzA/dh8qSQk/Z+CWNHLj/Vhy9rv+MZiM8fOXuTGvUz6OhsJ83HDdt821q/fxPY9x/C/H0f38DgaQfc75zlqb88x2/2stVjHjgNORCTXMKGdpLk8DS+3axTXd6Ea7Sc3KQJHu4P8sNZCyvdlz9vUdY6gf3apfVEoRI5A2mvy8XI9yYaNm9i8ZRt7bBwIjctiWK1loKWIQL9LHDp2ghMOh/jhx3VY7nLmcV4TY+MqSrJjcT1uw+Yff2bL5nV8/fWP7LL1pk4a/Ebhl1uQUzSXJOHvdY304hZUw53EBPvict6DnNpexoc6uO3ji29gKk2N1cSHh2B/xA7LTZvZv+8gV26EyZfErtp0Hj6KIKeqnZ62GjwvCYPfkyH1IAEX7HF28aCkoVtGs1KGqSi1ecMEuSnhnD50gM1rLdi00QKLdVtwcA1lYHKKnvpi7npdwObAHjZvtuSw7TEiYtNpqMriqrsbj1ILGJ3QyvTx5dmP8fS8SXp5Kw2lmZJ2u7dvZv36HRy2v0ByTgn9XTUEXtjPB1+sYedBG85fCyIlp4LWmgICrpxh//7dbLK04NCx04hVvzGt6aG1yBztSBM3L19g15btbNy4gf0HbbkaEEVjz7h80JjGNz8zTXN1IR6eAYSnVKAzaEi4dZnzF4PIKmljqK+FyEAfbt+Lorkuk09W72OP9Um27djFmjXfYuNwmtSiavSzcwx3lOLteoZtW7azbv16bB3OEZFcwKB6kmFp8G/jQWIRQ6pR6orSuHruGLt27cBy/Y8cPelCQVULk6akRxJB4eo1RVFsMK6njrFz+w4sNx/A+co9cnKzuXvhIP/vf/i/+WnbAY4ecyU+JZfK8kLueHmwbftutm3ZxMEDDkSkVNDdN0BhajhOp09wzPYgWzZt4Js1G/C4nUJHv9oss7OwS54wZ5gg/9EdHA/tknpp42YrLnoGUlbbRG9jNvtXv8Ubn1lw8JgjkcnFDI1PKxiLJEYTnVw5bMF//2//ylffb8bJ5QYZecUUZYbzl3c3Y3fcibXr17Hm+9WcuexFZXMHE+NDlCVHcPa4DVu3bWGT5f9H3nt9t3llaZ9/x8x3M1fzra9n1nRXV3d1RQc5Z1tly7YsWTlQgRJFiUHMlCjmnHPOCUxgzjnnTAIMAAEQBAiCmQq/WecFJVEql6uqu7ouZqgl8dUbT9jnnOfs/ey9T+IfnkDf+DzbgkZw+CNAonq6A5crx/n1v/2Cz74+i5tbII1dA6Q+uEdqeR8a4w6Pt9cY6mwkLL6CuQUFOf5W/NP//J98fOIMrg/9KK1pY3Swm9RwLy6fPM2Zs2exuudFrrxbCjs9NdCCz917uD7wwuehG16+ASSnphARGEFj5wir2hWaC+K4+N0PnD51ltOnruEVlETXmALldB8lCUcA//PCC+3/0hgxHpf5H//7/+D4+Vv4BART2dJPd1sdcQHuXDn1A2fOnuGqrTv5VSOSguIlgUbIwy6K+Tn8k5oZVm+i0+moaegmo2ZU0ryv6vTIZC3IepYkiktFdQ9eMXLsIytwiq4kpX6Ste0DDBoNFTWdROS2EJ5eR2BKI9k14+RlV0iAX6M30dM3Snx+C5kN0yzr1+nq6iW2ZJAl/Tq9/eOEp9bwKKEKr+hy7oWX45vXz/jKFgaDkbaOAQKSLN91iS7HJbqG3GaltJGwzGzCuifi3q9RXddOZvMca9s7DPSNEpPbSXHXEuubZoZHJogv7GZaa6C5Y4icmmH6J5XUN3ZwziWDi4HlBGR20NA/TXJePbf8CrGPKMczqgzbCDmhpaPMrQoe+UvrnpChnZ1thkbGCU2rkcC7c0Qxlx/l4ZXTg3pjj5WFJdLz6nGJqcQpWo5rfD2Z9ZOMzC6SU1zLiftp3Awuwzerk+4pHYpZJYWyJhwiKnGOqcIpuobCTiUrJosF1CICFq30471tBkcm8EmsxjGyArdYOV5JdRS3z7K2aaK0vIO8pmlURqFw2GVuapaSxmF659fZMa2SW9yKe2wVTjGVuMZUE186JCUf3d8z4h1dSkzNBDOaDWYnZ5A39lPdPUFSZgXfOGVJ9QnO6yFf3kFGRRc1w2p2hUX26QHtbX2El44ytGR6heoilCJzQ4OkN0wxqzGzsrxIXnk7Psl1uMdVcjuwALfUFgaUepRKBdHpck65ZHI3XE5q9QQrGi3VdR34JFRJ9XWOqyO1ZhzF6iY7W0ZiEmsIymwiJL2egJQ60it7iUyrwyOmUso87xgmwz62ltDcFoKSK3EIK+FqgJzC/hWMW3uoFxdIzW/ifqSc+6KvYqrJbFqQ8GB1RSOXPbP4wbOAB0kN5DVNMTU+gXd8A0NLRnQGE109o4QkWsrmEFFOiKyPyZV1VGo1GQVNeMVV4hVTjn2YjJuh1dRNrLHxWqbyF0P8v/HgHwj4n2I2qKjJDuHahUsERqVQViYj1OUyP164R0hGB2uaWZpqK8nNKSA7IwmPuxe4dNuLjPJuhtrLuXjiI74+e5vi0nL6x+eZnxmhvlpOVlYumalxPLQ7x1cXH0k73aOD8+fa78m+mZn+St5883sqOqekxfLp032UIy1437zIV5/9SEhcJrKCNK6f+AiP8DyGZ5T0NRVz+7YLSQU1VKW6c/ykI3EZMirKSyjMTJSsARvC7H7kR2gdmyozCMsoob1/lOqE+7zzpR1JOWVUV5RQnJVMR98o5t2Xi5N4fMdsoLuxmqL8fDLSU/B2s+XYu+9T1DqO0bhGaao3l69f52FYIoX5GXjbXePdb32ZWFw7AkyEHW+P5akOzrz9Jnktk2jUSgoTH2JlbY13VApF+Wk4X/2WX/zhazzDUsjLT8fN/jZXbgdQ3z3G3EgDZ373G05e8iAju5CM2GBsra7hFZHH9Nw89Tm+fPH9RZKziqmqyMff/R7WNg+pamyjuyaR/+uXH3PL1oGk9HxJex8f7M7xTz/C3iea5pZGJueXmB7uoCC/iJycXOIjfLG5do4f72di3tuhszyFC599zMVL10nKSCc5yo8rJ7/BN6eLmcFqHjhe4M7DEPIrmhibXjyi4Rdm8B2mumV4e9zG1iuMkpoW2rtHaKvM4MLJizyMSKO0ooJwf3du3rYhs2EEo3aBNN9LXLh5l+jkLLKSwrCxusrpa36MLanorcvC5tI1arqGERs5fzd7rO28ySkup6wwk9ysDEaV+kMu6xFBeOXwCSvKSeorZOTk5pGSGION1Wku3nKke0rNbJ8cH7fbnLSyIzknn8ykCC78eBW3kFIG+lrx93blwrV7JIg2lWXjYHOHW/ZRjAkL0BEVy+O9LeYH5Hg62ROZ2chIVxXut0/x+3dP4BVfh3KyG3cnZ4JSaihKCePebQccHsRSUlZKZlwIN67YEp3fydLyAovLKvTrZtSK0SOAf4UEH3seeh0C/iPfFoujbrYVV6c73HX2IiO3CFlBBh7OLrj4ZLKsWyA32h8nl0fEZRRQUpxDoIcDDk4PqW1rweveVR74xzA2r0azOElauD+OLkF0jQwR4+3GHTtPknNllBTl4PfQRQKAHSPjNOV6c97mPtHp+TS299Pf10leXCDXre6SlF9GpbwI23Pf4BmUSO/s6isaKWncGZeolVeSnZVHekocno43OW3lQl7jNNv7L8e2xN0d7cDZ9h6+ETloNOPY/vAlv/7114QllzIw0I6nizP+MXkop5t5670fOHPTl7i0HOIifbh26UeC47NYMa5RHOXM5WuuRCQWUVqUj5+LI9b3g6nqnGR5opIPPz5PlryD6al+koK8sLV/SGZxGZWlWdz4/gv8k8uYUok8EIdC9uwJuxuLuH73ObecA8gsrKC8rILcojoGR0ZoKg7n33/x7/jGZFBZ00RXe5MEYK9dcyIiqZCaylIC7S5x1iaK+vYBKgtisLK6jEdgDKWlRYS6WfHhF9aUt45J2mLLVwX1Y491VTdXj3+Lw6MICsvlZCSEYmN9nZD0Mmamh4lxPsH3d/3JKKllfG4Z8/aB9LiQl4PdNcqS3Pj979/F8WEYDa09zMzO0NtcwD/965fYuMeSVZBP8CN7rl29Qm5FHePDrThdOo9TYDylcjlZCUHY3bYmLrf6tbT0QsM/SXyAPZ9+9iUuvpE0NLYyOjqM//mveJjSwIJuk/0tLU2VMqwds5heUNEmi+Dt3/wGF/8YKhvb6etuR5YewrlL10jJKaWusgg/19vctPGisbOPjtoCLn/yAd+dvUZEQgYlpcVkJkVif8OaInkber2esY4qMjNyyM/JIsDVnvM/XCIis47Roa5XAf/z/gQ2DcuUpvrxr//rn/BJLKK5vZO+3naSory5c8+B5MxCaiuLCH5wi9NnXRmcWzni82GxxC4olXgElVDUv8LgyAxBkYXcjaqlfFjDzNw8PmFlyHqV1Lb14Z1YS3TZIHXdk+SXteAYVkb9lJFlxQJpudXcj6kmoqCL0qZR6rpmyc8uJ7luiqbOYaJz6ogp62dQacBgNFJT34RrahszGj11zX3cDyvnUWYbJc1jpBU1czekkpK+Zbp6x4hMryEot4Oqrimqmvpx8CskpGQSnWTxFaIiwO9TNtbFe1vwye1hckVHlqyJs655eGX3MqXSUtXQjkdaB4rVNUprOgnJ66J9cpmBwREeRMp4VDBA29AiStUKWYWN2PjL8M5qp7RphOjMWu5F1lE/rmdr7/m6bMmAvqJaITqjCueERvIax6lr68MrXo5vbjcq8x5r2lXaOkcoaxqmpKYLVwE6Yxqo6FPQ0tTOvWAZYSUDNAwssqzfRKvW0t0zSmnDCLLqbjzDZTikdNOvXD+iQAGRpVu3oCAqs4bwgh4qu6apauknOL2W+MphNCYD8Vk1hJUOMafblKwQo4OjxBd3Ujuxxp7ZSHvPJOXNI8jq+4lMrcY5vIqqQWF9M+IdVUJszSTTKyZGBoZJL22nrGee2qoGboeUU9A4RvvIEj0DY8Tn1hNRMsj82hZCMRmaVEViwwzz+u1X5lNBrxtrb8OvcJjRxXUW5meJzq7lXnQTBY2jlNe1c8M3n7wuBVMLakorWnCOriK1ZpT+6RX62zqxD5cTVdJPQ88kuaWtEiiX9SygN2px9M7jRmA5gbkdFNcPIW8d4kFkKTeC5GTXjyJv6MUpVMaNwDJiy/upaB7gUXgxtqkD0qZhVbNCY+c4soYhCqu78IuScS6ghTmtmd7efuxDinFJaqKya5aRWQ2zE0Nc9SmmdVbH6MwcEel1+GR1UN0zS01zP47BhSQ2zjI0MUNQUiW2YZVk1A5T0diHg3cOfmUzrKwLa+zhPP0P+vWPA/zPDlhdGiHa3YabNp50jy1gMKzRWhyM7T1PglLa0KhmkJfkEegfQ3R0LJ4Olzll5U5CcRcLM9143TyLo0cYCmF23tpGpZygrDiPwKBIwsPC8Xa6xLFvXeieWJbMKT/dhq+28JP9Tab7q3jzrZeA/9nTfRQjzfjfu4mbVwz9MyuSaTfX9wKekTl0j83RVV+IlZUdsdlyqlIe8tXxi7h5BRGfmExpRY1kmn1ds7uzoaW+PI2glGJa+0apinPm2Adn8PQJJTExiXJ5HdMKNbuPj5bxGRu6JRpk+cSFhRIRFoqnsw2/+Nd/Jrq0m1W9jrKMADwj0mnsn2VVo6SjIo5f/N6Kjkm1FC3hRTs83WVxooVv/uOXZDWMo16epzjNn0fRmbQNK1AvTFEYYcf/evs+bUPzaNWzFKSGc+WGO8X13UwP13HqN78iNLuFBfUqS9O9pEb64vAwiY6eHmLun+K0czLzyzrM6ys0l6TgfP0mabkyOqqT+Nf37KluHWB5RYfRoKGpNJW7F86SXNKKyWxmy2xirK+F5MQkQkJiCAnwwubGRT6ximN9d4fWkgSuf/c9MRllzC5pmB1uI8bzMvYJbawohsmIe0h4bi0Ti3p290R0iyPtKIHODjJTQojIrUOhXkO3skRurBffXXhE26gS44aJwZZiHrnacjesktUVBZkh1vilyJlQrLCqGiMtUvT1KeqGZuisSsbq9HnkrV3Ic2NxuXef1PJe1tY3MK8b0Gk0kkOysDb9uZ9nT3ZRjPRSmJJAeEgIYaEhWF/+ls9PXqK6d46JThmhIb54JFSxvKJFNTeIl7MD1k5xFOck4eTijld8OWrdGnqtgsyoMFydo5h4DfA/FVS6xQEC3R1x94kmKzoQ+8vf89FH33HV6hGNNSW433OkoL6LKDcbvv3iG6xuORMdFoLfA2dOfnsO97ASFiT6hoUfvaIcJeJQwy8oPX8O8D99esCgPJ7bd51JKW5GvbrGytIU+SkJePukMDXZicutC1y8ZsND/1CCA4NwtrXh+m0nKromkMV4Y3vHi4qmQQbaq3nk6oZPdCGTI43Y3rAlIK6YqUUdBv0KdaUZ2N5/QE7dKJMtabiEJNHYP8OacZ2p/jo8713m0y9P4xsaTURENDe+/xQbtzAaBpct/gtSR1n6y6xfQFaQQ0hINKHBlnH3zXkHkspHLPzrQ/O6cADVKEeJcbfFwzOAttoELl44xUfvvY1HQDC5Rfm4ugeRVNSBfqGF977wIKWwg8UVDRODDfg53uCBXyRzqjm8rnyLV1SRtMgZtEs0l6Rx8eJdorMbUYzK+eDjc2SWtdLeWMi96+c4ffEW/qFRRIRHc+XrD7jrn8WAtHk5lLlnj9k1L/HgwnF+uHSHhwGRJKflU9PUi3JpiZl+Gcfe+ZaKzjF0RiOzQ024W53hm+Oncff0JTo8DA+bH3nvKzvy5c1UFCfxIDSe6u4pTOtrKAeL+ejY+8QXNKAzv0x093hvk+nWBP7w1kWKGgbRGU0oJ7pJDHLmhkc8AxNz1CbdwTaijL4ZDSJCz8txIjYMu4w0pfDpl1dJLWpizbzNtnmVkfYSfvGmC/Vd0+j0WjpqsnC9fZ3o5Ewqi+N47423ufsgkJCwSHw8PbC+cgWf2CLmtZuvDME98wpl2VGcu2xPVnkrRtMGOtUM/uc/xSOhDoUE+DXUVxRhdTdDohsqRiq58OmnZFa0o9KbUI51EPvIFusHiSzp1tkyr9JckoT91evkl1VTV57F1S8+wz+pXFqz1vQqGooTsLtyhdzSBla0KnoaCggPCyEiNg5vlzv8+N0PeMeJzXw7JQn3f4LSA4/3jPTUZvH1b35DWZ+S9Q0z80ONBHg64BOTy8yilg2jhr6GDE5/8JXkY7T5wsIh2vYxep2WuIRSgktGKKrtxSVYxvWgSnwKhmjrH+JucBXtEwtkyxrxyeyge07P+uY287NKIqILiKpRMDs9T1p+I3EVI1JmV71xk6WlFXIyinGMrcYluhT/vC66Z/US5WrDZKSythHHpBamNKtUN3Xjl9FK2YAancHMxMg0QbEVZLfOUihvxyuliZLeZfSmbZYWVfhHyAgsGJfk7OWM+oyd7S16ewfxSmxC3jVGeE4t17xz8EyuQ9Y5RU5xPf7Fwm/LiKy6Hf+cDjpmdCjmlKTm1ZPWoWZja5/93Q1yS1t4mNJC5fAKWr2J3o4BvONqqBjUvqKIE7SniZEZPMIqSKidkRJ1rhs1ZJS2EZLXIzmZ6jRa6lr7JS14akkr94MKuB1aTXHXIlNDI4RkNFLSvyJRXPYPDlhRa2hqGyKltItkWSvuoQVcj2yhfdpwhDInHH53GW7rxS2iioYhtWTJV62oyavsIr5CAP41aSMSXDzArKAjbW8z0j9KbGEnVWNrbG8YaeoeJ728h+TidkIS5TiGVlDYucTOjpFHRwD/cN8wqbIO5ANqxrq78UlvZXTBwMbWHoY1PfKqDrwSG6gaWGS4qw+niGqaJ7VsvNgcWYad2KSMtLbgnTfE8IIRxdws8QVtZDXOo13fwmRcxiEgn4T6aSaX9HR19BNd2EXr9Bqb29vIMsq4Hd1G45iWjc0tZmbnCUmuJkY+xpJOxR2vHHzy+umc0aM3bkibVr+4cvyLhpjTmNGu6klOreFhYitt03p0q2vUlFbxo28jow998J8AACAASURBVMtCE79CXfsIySXdJBW24B9dxBeuNUxpNphTzhKQVE1c5RgK/ZYUpW5xZphzXgU0TWlobO/jYWI9sq4FyVJsNBhITyrALqmH5v4xQjLqiSwfZVK9warOQH5KAe754yyu7f5/GPA/3UejHCDU8SZ2rmHMqEzs7u7SJ4/C3sELn6hqemrzsblxjR8vuRAaHk9EgBOXbfxJKOxGNd9PgM1FPLxj0BjM7O1s0lWVzR1ra05fvk9QcDRxIU58cNKL3gnB37Y49QkHUMG1O8p9s4igZcqwAP7KF4DfLMzhT/eZG2ki4L4NwdE5LBn3ePL4gLas+/glFdM9Nk9XfRFWVvYkFjQyO9qCn5Mj1y5f4uzpU9jYPaC0cUDi2b78roi8IAB/OsEpMrrHl1AM1eN++zZXL4nnfuCOvRflTUOs7wjtoaV8AkzM9FThdOUaVy7ewD8ohEBfV97+7X8QVdLF6qoOeW44oZmVjC6YeLxrZKIzj3/+1UmaRhdfesSLSgun3ckWvvn1v0qAX7U8R2l2GFE5VUypzGwaVVSnuvMvn4Yxpzaxt7lKeW4i1255UFTbwdRwHSd/9x9kt0xLXDuzbhZZViz3H6XQ3NZG0LU/Yh1ei15wcZ9uM9Qkw/fObZKy8umoTeeNE7EodSLKkjDFbtJTk4PT1ctkV/VIDngb2gWyI704ecYK63s+RIYF88DVno8vJbCxu0NLSTy3L1wkv6oLw9Zj1pbHkcXfxy6xA+3iBLlJfsQWtkj8uaNY/3lbril6yU2PJraojRXDFia9muQgF87cSWZq2SA5jS+ONhDh68QljwI0agXZkXbElfdLfNAnuxpKMoI5efxrqvunDgH/OeQtHRSnhuPh5EF5t1KyqojNhuRIJf1+7lD6cpl6jj72NtSUJEZz/dQFbtvaExIRiavdFb49fYXq3lnGO4qJjY8ionSYXRElQTdP6CMXrtsHkxoVjIu7P4kVg5KPxZZJQ3FyHJ4uUUy+BvhFhJDdDRW5UQ+4c+NHrl24ipe7N1GBPtj+cAJHF09c7H3pm5oi4r41X733ISe/P4e9tTV3bW257+JNdlkHOpPg7wrxfIoF8HtJlJ4XgP8nKD1Pn+7RkhaA3X1/5O2TbO/ts65fpDw7HV+fZIYHarG5/COnz13m5u27WFvfw87ek/D4bIbm9CgHarC3diAkOpXkmBDcnD0p7ZhAOVTJdStHEvJbJZ8YEbmkt7mce46exJcMMNORg3t4Bh1jy2xvbzPRLcfxxmne/uAEd+zssb7liL3tPaLTyhlVrEm85MNRJwYLU20lWF27wamL9vj6hREa+ICz1x+SKBthU7LeHfan0DKuLlKV6MPdm9bcu/EDDyLjiQt1wNnZDus7Drj7RlI/sMDGUisffRNBdauC3f09lmd7CHWz5aFPODMLkzif/iMROfUSQN3fNjLQVIjVFRuCk+XMjQjAf57M0mbqytO4efEkX544x+27dlhbu+FoZ0diYSuKFdMRnwQLpae9LJm7Nre4cE7QJS/j/Ciajv4RZofkvPfBGeqHRTSyPeaHmnC58D0fvfU+1y5ZSfOry3177j+Iobmzl6ryTElh0TdvlBxZNzWdnHj/bUmLrjHtPRdr9nc26C/15T8+dKZlUMnu4ycY1ZMUJfly0S6SzpF5mjIcsI+tYXxJBDA4+iPmh30mO7L44uvbZFf0sPP4mTS3jXVW8KsPwplVbUi+UyPtMh7Y3iIqLpmCFH9+99tjWNvd56b1Hayt7+P+IJDCqm506xa60HMK9MGWjsr8BC5fd6OwboDdgwPWtXMEXfoM9/ha5jVm9s0r1JcVYmWbIXGVl6fqufbVlxTW92HY2mNxpJUoVxucI0osmU1FhJOWYh7evE6OrJyq0kyun/iG7MZJKdLOsydmOuSpOFy9Sq6smonRdvzunuK789fwDI4hMvQR9+9ZE5xaSX/vnwf8wvl3sDGfH/7we2rGtOwd7DPXV4u/uxNRWTVo13ekiF3K0TqsPv4YeceERB943sJCK761sY68og6bYEEFqcc/q4PgzGZu+JUTkVfP3YQOZhaWSMutIyS/nymNWYrOsrqiJSu5EN+iSSYn58iStVPUsYBhSyQ6fIJBt0p6ch4/uGTyvWceAUVDTEp99QSzyUhVbdMLwF/Z3E1oYTftc+uSr8CKcpHkjGpyWmfIKm3lUVobNWOrkg+GRq0hJKrkJwA/HOzvMzc1h290OR7xcoLy20gvaSImqxKnxHqCU6rJ7daws2OipKZNAvwCGC4qlsgqbCKnZ1XSoD97vElOWQsBuV10KU0I/vXc6ASRGQ3IB3WvtOHezi6DvZO4hdZQ3Cc45gcIOkxeZSdh+d3MG9bp6hnAI6YU95RG4kq7CU8q51FiPcVdy8yOjBOR1UzliF7aSAhefUfXAD5xZXikt5BQ1k1MagUOCW10ThuOKDCfsbe7TXtVO64RDfTPrUlO22uGVWS1PSQeAv6YjGpCigeZ1W2ys73NcP+IBPgrR1ZRjE/yKKkG18RGYos6Scit51FCLYXti5KG/1H0Sw3/cN8IabJOqgY1TPb1E5DVwezKJgciCeneLpNjEwQmyvHLaCYophyvjF7mtJtHErBZpM4C+FvxyR9kZFEA/jlSSrqp7NPwRDicH+hxDi4ivm6ayeU1eroHSSjppXdhg8cHe2TGFGOf0kef0sSTp49Rr6hJyKwjsnQEpUbFbe9cYmqmURj2pCiKavUSgUkVxNROS1z8rS0z+bmNhGd1M6baYndri976Wr53r6Z/TidRkR4lVuOW1ESKrJOE7Cq+dKllWiP8PxSEpNWSUjvFivlAKs/y7CHgn1yhsq6TR8ktNIxqJau6CI1dky/jRngrNd0jhOc2k9Y0i2bzsbT5aispw7NwQgL8gnL93KH3VczyfLT+fX//wzT8IuSVbmFEmiDvOPjSP7WMVqOmOs2HGzfd8AwqJD/Eg8tX71HaLBy0ZumqTuauQwRxghOnHCbo7lUc3UMkZynhqJoV4IqtnQeZlT0sKqYZrE/l+OkA+ibUEoBcX1tlfm6BFd2rfLKjTSgoPdOC0iM0/B0CyL4E/P6HgH/5EPB35Djjn1RiAfwNRVy9Zk9iUTOLCwpmZuYYG+mnKC0S67NneRiShUK3dfRT7GzoaChPJyRFRs/ECtrFeaam5xgd6qckM4pb5y7gE5GLcnVbWpcEnBCxt5vzwzlz3pmEnHpmlbN0Nubz40fvEF/Wg351FXleOGFZlYwuWgD/ZEce//zv39I4siQ5QL0oxCHgP/HrX5JVLzT8c5QdAfxbLwB/OLNqE7svAL+nxKG2AP5fkVjVz8qqAcVoG3GBHtz3SqK7t49YuzOcdExidlGHyaimQZaE43VrknNkdNSk8/sv41kUgF944z/Zpr8uH6erl4gvbMJoMjI/1I6n1Vnu+STT0jfJ3FgnuYlhfHw6kY3dXZoF4D9/4QXgN6gmKEl0sQD+pQkyox8SmFQuhUXbEU4xr2nWDcp+0hNCCUyWS07PupVlCpL8OHHOg5ahWQymdXrq8/FwtMYhokqylmSG3yU0r5U5lR7twiBxwW58ceICnVPzknxeO32OypZuKrLjcLFzIaV8gFXjhhRCVqfVsrG1zZpWzfzsPGrd+hEgZukV0/IQgR4PuHEvjJaBCeZmRylI8uHqxZvU9s0y3llEbHy0NLEJq4UA/GGPnLluH0R2UhT373sSkFKDWqtHvTBOQpAfzk6Rf6LhF5uexweb9MqTuPztr/jtp99Kmsfe5jIeWh/n//zVR9h557OoU5P0yI7bN+xIzG9gZlbBolLJ9PQcyxqDlCFbgrlHAP+VexFoTYLDb8+D1wG/NKHt0V0UhY2tG1llbai1OpQzg6RFReDlk8rsbA8PnNzwDc+mpW8MhXIBpWKeOeUietMu+5sqoh/e4dqV05K/i6d3BAuGDfTKLu7dvItfdAGTyhXWdCqqilK57eBBfuMk85152D2Ipqp9glW9kZmhVoK8vLB2iKF3fAbFwjLzs5PMKdUYNoS25RDAi/3MswOqoz25ZOtNYnEbitlJ2qtysb4TSFy+APwW+olloFqcYofqMvjx+Of8b//HG8QVNtDfUcbt82f4t//7DZy9opnVrGNebuWjE5FUtynZ3d9leaabUNc7PPSOYHZxDi+rk3jHFTMwu8KadpGmsnSuXLlLdE69pOH/8KMLZJa30dUm54GrFz7heQxMzrK4qGJ+ZkJysBfat5d1ERSOXRQzs8zMTNHf3Ux8yEPOnrtOQm4Zk4MVfPDBD5R0jKA1GJgZaOTRHSscnf2oax9iYXGBBeUc41NK1MtK6soz8InNpnl4kY11PZNt6bz7zmekl7diOKTkSLK2v4WyO4vf/uE8BbW9aA3rzI12EOVrL2n4h2YWaUp3wD7mpwG/oFVOd2bz+ddWJBc2sLaxZdHwd5bzqw8imFOJoAS7jLTJ8Lxzi9ikTKlsXx2/RU5NF5MzSpRKJXPz8yytrLK9ezTG/zMeb69SVRDPRStHMspaMZhMrK0oiLl1Ahu/AgYml9EoRyhIiefSrWSUKwZU081c/+OXpJW2SD4+iuF2Yj3vcsMjjkWNAbOY32UJ3LtyndzSamrKsrh+4mtym8Z5IqLbSIA/DQerq+QWl9LZkM+ZD44RnNuMYmmJ4XY5McFehGXW0tfz5wH/0wMzw83FnHn7D+S3iXlrg9n+BgJcHfGOzJEcFU1GDT316Xz/wZdUd01LoaVfrAM8k8KxDvT1csY+mYveZWS3zVHZNICtWwYnPXLxL59Bv6ZDVtGET1YbnXM6jJvbTM8oCQjNJ6ZWyezUPNklHRR3Lr4E/KurZKQW4RBVg3+yHKf4OvLa59GadjCtGw4BfyuTGj3y5h4L4J8/BPwLSyRn1ZDdOkdhZSe+KU0UdylZ0BgYHp3BNaiYwMKJIxp+y3gVFotVtZrg2AI+tk3Ft2iAoclZiSf/R/s07kTUMLC8zcG+WfK78M/ukDTBC4pF0nPrSWpckpxZ93ZMZJU2E5D3EvDPj08SldXwpxr+3T1GhqZxC5OT2jQvafg12mWSCpsJzu1iSqOjQN6MbXQd1cMqyVm0pb6duOwmirpUzIyMEZxSS2GnCq1xVwrznVPWjGNUNU1Tq5IDeWdzB48yuuiaeRXwi+iGfc3duEZUUT+0jNZoZlahJFXWSpx8hJUNA0lZtfjl9jK0aECjW6OhqYfg7HYqBzW0yFu5G15HRe8iCytrDA6NEZvTQkHrIjs7Bh5FF7+g9AgN/wvA39vPo6RGBufXMG0ecLB/gH5VS0ZeHWec0vjEMZu0lnnWtixBNl7Km4WGNNLaik/eIeCfn30V8O/rcZIA/wyTywa6uweJF4BfuSFFdStNr+B2dCsNoxpMm1tMzcwSlFxNlHyMRZ0F8MfWTqGUAL9wWl4iIKmSmNoZ9FsHkq+jAPwRWd2Mq7ak/B8S4HerpXdSRWZ6LQ+SWqgaUqFeWaWnq4+vnGuZWTGztLRAaGod8XKLL4dgl1g0/IU0T2lp7RrgUXIdhV0K9Ju7kpN7fGwBdsm9NA+ME5HbRHrTLNqtA/a2t2kvL+dBwQRLhl12hYO+3syKfkvyM7IEgzjacn/f438Y4BcaM7N+iYq4AE59c4Gg6DRy0mK5+eWnfPrJVfxiS6nMCODKFSvC04ooKUrn4e2TfH/egZTSAQw6JQUh7py9aENOkYzG9l7SwzywsbmLT1QmZUXp+Nie5NhxB/omltnZ2aKlPI9bN9xJKupm8884Tlo4/NW8/e4p5F3TWDT8ByhGWglyvktYXB7Lxl0pRGVnnhuBKaX0jM/T3Sjj+o37xORUkB8bQmRCFlUNLRIP3/WmDaGxxSzqd54rl6VeExz+RnkmoWklNHWPIosNJDQ+l9qmViryUnCzvkNEgoyltZfPiXB83ZWJXDhzDU+/GIqLcvB3u8qv/u2fiRGUnlUdVfmRRGRXM7a0ITmnTnUV8MvfnKZx/HXAv8fSVBs//O7X5DZOsLKsoCI3kpi8GqbVZraNaurSHvHLLyKYU2+wt6lHnp/MzTtelNR3MSsoPf/xS24/DKe4tJi4IA9unL9CeHIFKpWatqJw3n33BJEpBZTJsnjgcBsraw8L37Uhm7e+TjwE/MLi8hjFYDPBDtZcdwqktr6ehvpa/B0uYWXnJVkFMuJ9uXH2Wz6zipM0/K2lSdy9dJnC2m7JccugmqQs2Q3H5C5W1bMk+Ttx8bIrManl9A8rjtCZLAuDcXmUOH9P6Z6UnCoam/poladw+usTPAhOpLS8mEee9py6ZE1+8yQG7QJJPje4ZB9Eep6MpIiHXD1nxQ2nPNRrOnpr07l59hJVHSMMd1bjdsuGb8+4k1NSRUVRLglxyXSOTlKaEoGN1R2i85oPTbMvgeXW6iRRfh5cuupAcnYxsrxkrM99zJenL1PdN8dkl4z4pBiiy0elpC4bq/NE+Lpz434EdU2VuNpb8/2Z60Sn55AWF8TJP57g6r1oxhfWeD1wiohmoB5v5O75z/j2qj2y1jE0i2NkRrry//z7e0QWD0iRLAaqk7h59hznrVzJLCqnqrKcuLg0yuoGWRdgUgLEQsM/RmSgN1aOUWg2Vkjxu4+PTxi9k0uvcE6FRlEz1chdqwvctHMnKSOTxAhfyRn2vm8Oav0SedHenDpjg1tgEuVVlZQWZJKYmk37iBZh7h6qiefEx7/m1x+eIrG0n8dPH7NrUhLvbc8NaweSsoooKUzH3fUetl5RjCj1LA6U8eN3N/HyT6K8upPezjYyo3z541dn8QhNp7KujryUEBIyyugb17y2GXtCe0Eg56854BmaQnF+Kt6OVzl+8hapFaOSRtcyFUutIYVKVE23YnvlO/7l/VvU9kyj00wT62rL5298RUBcBevbe5hVbXx+Koa6DqHh30U120uEhx3e/jEodAaqEjz5/txdguJzKS7M5qG9Ddfu+dPQP496qppPPhcWsU6mp/uJ8nHjxA+3CYjLpbGxnuzEQOKyG5leMLwE/ILSY1okyMOftNxS6hrqSY0LxtrGkYySOuamWjjxhYg8k0C5vJLuriZSQt058/05XH3iqK6rp6wgjcCIfPoGhikvSOCKjQu+MdnIy3K5f/krvjodRNvgEvsipOahaIsEY2Z1Hxe/+JC7roEUlJaREO3P2UuXCUyrRKXT05rlhGNcLeNLpj9Z1YRlc2GknO+Of8R9Dx+qG1qZmp2kr62M334ehWJlg8ePdxhtL8Xrng1J2cUM9Tdy79xJPj3rTlaRnCp5MRlpiZJzoGpVKF9ejrsne+s0y5O5dP4kLl4B1NY1MD43T1nMPT78zJqQqFRSIx9y9fQJTl4PYWl1A6NmCu9rp7njHkJeRSPdPV2UpIfx/XcXiEgroa6yEHdbK6ysH9LQNUh7bT63Tn5Hfsukxar5RFilM3C+cZ38Ejm9rWVc/vxD7AOTqa6pkBywT313Cp/4Mgb7OyhLcsElvVcKR2gJvnAoa0/3UI604fnj59zwSqS2uZPe3i4SQ725fsOOqJQ8aiqLeGB7jm/OuDI8t2rpmyOtLKJ2LczNY++Wzr2oOjrmDMxOK0hKKOS0dzHl42tSRKvO3gHcE6qJKB2goW+S7NJGLvqX0TZrQjW/QG5pJ7KuJWk+ljT8q6sU5IooPcvMzC2TmF2NS0IdJX2LqFf1VNY145TaypR2laqWHsKLe+hQWAC/ZnGJ1Jxa8jqX6e+fJDS2DIdwYXFowidWxqf2uQTIJlh9weE/HIHPLCE/M4tqOOFcSGrjHFrTOi1tfdx0zcIppR3tjgh9uilFlQoSgH5uTdLwxyaVYR/bSk3/EnOLKtJlTQTld9O9sMH+3i6KiSmicxqpHNYdUnosMvTk4ADV4iKh8UU4xNaS1zhKekEtd/zy8cntZlZnoLS2nduhctIaJpA39+MZXsyd8FpKe1XMjk3iFVrMo4wOKruUzC2pyJe3SvXNahqX/GW8Ioq4Gd1Cx4yg9Fi+K/59+viA1YU5wpNKCMhtI69+gPisau74FxBZOYpue4vKshbswqrJqBuhqKYLl4gSbGJbqBvR0d/ajX2onJTqYeo6R4jPqMIuoJySLoGbjPjFlBFfOyU57Y70j5BeIhxztcwMDuIUUExa7QjNgyoppr6Il9/d3oPNo3RO+NXSNrv2qpJRdNEzC+AfbWvDL3+IUaHhn58jrayH6n6tRcO/v4ZrqIzE+lmmlo309QyTWNZP34JZCrusHO7HPrhI2iDW9UySXdIoOUKX9IucFlru+RZI1oEF4x48e4xavUxwciVx9XMvAH9RfhNROb2Mq7fZ296ir7Ge05519M9qkBU34hFbS3L1CLWtAwRFyfjStVZyZF4VVqvsejwSGilsn2VgWsP0+BAXHhXRPKtjZGaOILFhyGhD3jNDbXM35x8VktysYHh6Vlr3M1vm0G49lgB/R0UFD4umWDbsolFpyC9sJ6ZkDKXeEqXsyDD9ux/+AwG/CI24h35hjKSHjnz1/rsce+stvnz3fa5aP6SoboDl6W7C3Gx5/623eOedY1y//iN2XtFUtM2wu2NmsruGu9fP8f77H2IXkk9ZRRm+jrf44M23eO/9d7h+7SSXHKOYEJFR9nbob67GxzuK4vpRyST8U60nnDmXpnu4Ye0jmf4tSYAeszI/TF5cJIWljaxuCm3xY8br48mqaJEi7Iz3txIQlEB5Qxft8jROfXecY2+/xQefHMfRJ46+KdUh6LEMVCH1+1tGBjqqyatsZXhKSUtxHF99/jFvvfUW73/0OU5+8fRPqyzmsOeP8RT98jBxj2z448fv8sFHH/LDhdMc/+47itunWDcZ6WkopKC2G4V2C7GBWRhr5NwVH4aFw+gR1Pfs2T7ahREeXrlE7cAS+lU1HXUFyOp7WFzdlqIIDTYXcM6+EJV+k/2ddToa5ASGZdDSNy4B/u/+5X/xi3//LW+88SZffXOaoPhCZlUGxAIiKEElSb58+vH7vPHm+5y5cp/ShkHW1nTMDtZi/bBMMq0/X7w211RU5sbyzR+/4KPP/0hEQRtVhUlYff8177z5Jse/+hgbu1vY+pewtb/PcFsF0b5+tPROSpOveXWB9vJ4oivG2N7aYKCuELuzP/DRRz/i7FuMfvM5xcDSmAc763RX5nH3zEk++vg0Vx2K0elVyLPCOPvVpxx78w1+uHBD4uiatnYw6RZIdD/Dr3/3B373hzd47/NT3A/IZmp5g73dTaZ6qwnz8qNrbAnzlomhlgLcb33HO8eO8c67X2DjFE1XTxfB3k5ctXGTQJul7i+xhzAjC/O807WTvHfsbT769BPOWF3A1t2brmk1C+MtlJYVU9Q2JwHfrXU1+RnJBMfJmFGt0NeUg+vNb3n33Xf4+ruTXLHxwDu8CIVGmD5fCJEk+gJ47xiVpERHEJtewqzawO72OuMd1QQ5utE9vSpp8J8cmOhrKMD51gVJpt9590POWjtT1T1tCX8oZvBnT1nTKCjMziIwppT1LQNVmbGkpxcysbD6ymZDlOLp0y16qhOwuXSC9997hxMnT2Pj5E9Uej2GbZFDYJEMP3dOf/oRb735Jh9/8jluPpFMLZslOsSmdhL/h/dx9Ql7QQERETqMqnEJMB//6H3eefc9rB086RVjSGQBNqlI9nLi288+5Yvv3UjJ75X8frKDPPnuvXd56823OHbsHfyjs5heNh4B/JZ2M6rH8L53k0/feYcPPniXC5dPc8czjIqOeQtV7uiEIkCHcRl5QhhRyeUsatbZ3dlisLmYmKhYKtpnOHj6mJ3VERx8iukbV7MvwtguC5pLJBlZpWhM++ysL5EeYMfJrz7g2HufcPa2N+XtU2zu7WNc6sHWPojGXmGJ3EY51k34fRuOv/sub775Ju9/8CFxeXVSSN4XxopnTzjY1pHhd5s/fvaBVOfPj39LaGIei9p1drY0yFPcOP7Zh3z8yWck5pUyPTNGUXIQp77+jDfeeIt33/sQl7BchsanKM8M4YuP3+Hffv0H3n7nfb44/4CmgUWJ0vCatEmUH8VgFXfOnpTm9C+Of0dgbC4LmnUpVOloTSzRsh6J5ne0KS3Hz9gxLZAZcofvv3qf7368QHppFf39LVx3K5IoeU+e7KMYayM9Mgx5fa/kSK4cbcb55Dd88PbbUl1/OHuZ7PIWDGYxFxwp4bMDtAv9pIbY8e0X73P82+8p7Z5gfrCRuydPWMr7xXtYWZ/HJSQHnWmH/W0zNblRfPPV53zx/SVCs2qZmJqkJCWI9989xptvvs+Pl52pahuTonhN9TcR4e5G08jyIY1xl8muWhKCgmhsH2JFpaQ4wYv33j3Gsfc/49SFG7h6upNd2c7M5Kg0t8VWTbIrEtMdbaBnzzDr1dRkhXDs2DGOn7lBfGkPo8N9JIc94ItPPuTttz/kxGk7OiZW/lRWRUs8fcqGwUBxSQsZdVMsGXfYNhvp6x/EL6cDxcaeZIndNptobBvAJaqcq37F3I2uJbdtgb0nwvFZS33rCM2CV71roc6a19dprGundnRVUp6JePM5sibCi7oZVK7S2dMvaaFV6xtSyOWi5knGNFtShnuDVktVbTd1Y6uSv8DkxCyxWXXYRcpxj6/mmns+QT8B+EW/Huzv0tszRkJBL4PzRqnOKuWSVL/0hnmEd8mzJzt09oyRWzfOhMqMad1EU1Mftv4yrgbWkdc0SWFNH3mNE0xqhUXgALViAVmN4IYbX4n0JL65t7fN0MAwAbGlXPcv5n6scOCtJ6VOWCF2Uc4qiEqTcyNQxrWgcjyiK4gt7qZtZg3Tmp7yynbsgku4HtyIvG+Z0fEZkrOruOpbzPXgCtyiKggqGmB02XQYfOO5FIi8B/tMjIzjlSDnepCMOxFl3ImQE1Uxin7vMSsLC0Rn1XIzqJibIRV4xNcRXz5Ev9LEpkFHcn4Tt4NKuBYgwzGqgsDsDprHld3yNAAAIABJREFUdOztmckuaqOsZ1EKyzo/NUtVyyi9ChPmtVXyS9q4E1KGTWQ7jaM6KbP6zNgYXjEyQirGUZn2/mTdEaIrqNWK4SEyhEOv1syKepmq9nG6Z9YsgP+xiaS8Zsr7lllcNTM1Pkt56xSTmm1J8p882aOnQzhFV3DVv5h7UTXkt8+zurnH3q6JmIwGyvuX0W4eSAnu1vQ68iq6KO9XSbIpaDatTQPIGiZQru1KibOm+gfwTO1nbsXE/Nw8kZl1WPkVcTNQhnucnLvxvSwathHZ4Pv7RvFOqORmWBWBJWMMjk/yILWRkZUNNra3GRubJCilGiu/Yq4FlRJRPs6KaQfdqoaS+iFqh9QYd59wsLvHeFs7KY0L6Db2WNOtUVM3SF7jLKr13aOj/L/l+B8I+MWIE97t+5gNOimmsmJhEbVajX7NKMWPPjjYxbQmnGnmWFhcQreqkzISigQ1AqwIU9aqVs3CwiI64wbmrU0Meg1KhYKFBXG/llXDBvsHIgnSU3Z3dtgwbbApMrk+HyuvN6OICHGwh35tXUon/RyMiuQKIjarMN9YgJOIO2xma2eX/YPH0u5fZG3d2t5ld9uMdmUZxfw8ygUVeoNJetfrnxQAZW9vV4pzvrt3wM6WiRXVIvPz8xK9QG80WZKovFZGkbtAxINeVCpQLiyh0WjQ6rQvEvfs7gqh3JPi8gsgJrJnrq6uW+gXrxRC0Dr2WNfrpQx/wnN+d2eb7d09C+9clG93i1XDYWIzER5ve5sN85aUC2FuuJY//vrfCC9oZmJmHpVKI2UuPBBJa6TkYI8lh6AlpYK5OSUrWhHrf1dKLnSwt4Pe+LwtLRUUpljBJV1ZXmJhcZl1kfXQvI5WvYRiXsGySo1evyal1hb9IjLzmjc2JDOYwLJCYy3afkNk3Xz6lL1tsyQfS4tq9AaLr8DRppRkYtuMXquWKBBa/ZZUti3zOprlBYl2s6zWYd7akXw2TDolmcHXCUirZGB8hqXlFQzrgr8oktw8lWLXb6ybEHGPxfcFh3xtVSNRCRYWliU5mOutI8jNA9/wEpTajaPFsRyL2OE7ZlY1KkkOBDVDp1+VnExFQh3Rl4J/LlESJHrMYzY3zWxsivi/jyVfltUVFYrZOZaX1ayuGaXsspY++anPPWbDJDISb1vyVUjl3sFkEAl8xLgRz4gybaHXrbCgmEepXJLibYvETC82LCKg6GNhKt1k3bQl8Xe3zRtsinKJ9/zJp0X/mdGoFqVxsqRakeooZSmWEqo9ZnPdiHpJXFdIdTEYTZYySgvGAaZ1I8b1jVcc2IQFzLS2ypJynvl5pWS+Fu0mFmShJTYbLZlNRSxkkSVS5IrYNBlQLSqZn1OwtKRi3WSWvvN6kcUiY9RrpHEn5hetVsea0cT27k/lVrA4Q+6YN9gwizjsFhkRfFuRXXRLCpUpaB37GNa3XiQCEwnCxDxjNm8dgsLHUvmWRfnmD8fQjnBAF8nq9jAYTOwcfl+AHJNBjxhv4l5hZRNy8XqmaTHviAyvIjO4QjHP8vIK66ZNKXGdaCMB9JYWF6W2MG1ssn+wjxgTajEm5uYlh0kh9xsGNfWliTyMSKSyfVSac1e0hp/JFir8B3bQa1QopTldhXHd0taiPoLnL7JsHxwJd3i0D6T+W19DvbyEekXLhnmT3b1d9MbD+UkAvb0dRAzsbTHPPH0qhZw0aNUoFAqUykU02lU2xXh+bfMr5EPk2RD5E1RLS1KbiPj30jylXpbaaUm1jHZ1VZrjxLtFpuTtTdEuSywtazCIEM77+9IctqiYZXZOgUa7xrbIvSHG1d4OAgDvvojoZImdvmk2s7NzKIsbBpTKORSKRUm+DMZ1ac4UOQ8sc5slGdrRdhHHYu7c3lhnUbnAskqLaXNHWls2jGuSPIj5V61Zk0K9vqR3vfoWUUYxP4v1VSTKE5uAPUEblDKRW0awOLezs4feYGZJuy7FkZcSgYkyPH4syaLYkDyfF8Q7Rd1ENlVxTnC3N7d2JSdPMb/s7e1ZMpY+eSoFVhDzmoioJ8oo4sWLdWxX3LezycTMAqUt42TVDJFQ3I5dYBk5ncsvwy0fqY54XpTdvLXH/oF4H1IMfiEXktVeuveZtHaI+gofv+dl1Rk2JEqOyN4ssMKL9pByyzyWMjGLrMGvi5D45v7+vjTPL2vXJT8ikUtC5F4RFK6DgwNpvhJUTo1+U1rHRPlE/QQAFmUTIR01a1tScjWxjohMwCrtOitrZkm+hEVV8kf8kwlVbHL2WTOa0eg3JH+LzMpOYiqGWdu3JEFbX9+QcspY3rUtjTWpHk+fSGu6WmeS8oaInC+iz3ek5JFPpf7a3hPJBgU2OrD0sVRm0ZdbaNY2pOSWop3WjcIvo4P7UbVUj2jZEm1/pF+OHorybu4cSOunyI8gMJCQHUvXPMW8tYv4rpgPBMYStFxRd/Ej8IXwqRDYalmzjnZt09LOUvj1p2xs7kjPPsdqQpZEBm3xPiGHoq8EfUaMTUnWpWzHexjNFtwkNnciK7tKZ2JlzdJXaxuWuUnIye7uHgbjpuWa2GTsH0g5VoRCVVwXciDmVJXWyJJug/Wtfan9RD3FerFzmJFXkpldIZOPJcWuSG4o5nOxPvxkskpL6/zd/v3HAv7DYotKi0YSHOs/AeLS4m/JWvpTtRTPSn8PxerVd700Kf/Us3/5nBAr8ec/8fNzdfq510n1FZPJT7TFi+csdba0mWVyfHHpH3QgLCGquR7sL19C3r8gOS2KthdD0fL3ZUGEaVeU1XL95fmfPBL1luTgeauLuloG0V/1/GsvFc9Y/r524ch/X9zzyrkj3xRiJCYMg5rKbF/yG8ckDeFfU54X75ba5ilLQ10UJKTR3DMjLTxHPvnKoXjur26zV560ZFAUbf7XlO+1R3/2v8/L9LovxM8+9BcuCgBxtJ7Pe/35Y8+/+dfV5fnTFrBy9L3P3yctFYdZSF8/Z7n/5dmfPJLkyTI+f/L6f9PJ19vpz31GtNPz8fLn7nl+/vl9P9W2lnYX73p+t5Crw746RDoiqVVfq4xUWS2TyxvS9Zd3/8zRf3ZuPHylpY5HCvYzn7Jc+uvH0vN3H22T5xl3j557+UmLrFmee35WfO9vmPOeP3a40gg5/Ktk8cVzLw9ezJ2HzSPK9aIsL2/7rx0dzqliHngO7P9rL/zLTx9sm2jrGcQvrQ6X2GrcEutIkA8zI8XD/1tk4S9/y9KX//l3Wtr8p9e7n5cly9z96ph7fT38+fJbyv4Uk8kg5fIoap9hXSikxGOSLFjWQ+m/0que11PIyctrL7/y/PrLMy+PxDXLM9J3nz7FsLZKYW0PcVVjKNZ2/sRZ9+Wzf5+jn2vr/+oXpHcfyvpPvcvS1j/VZod3H7b333O9/Kly/FfO/cMB/6vi9BxeWwTpJXh8ftefOy+q/Pyeo9X/qfv/1nPP3/1T7z/6rb/X8fPy/aX3Pb/vaLmOHv+l5/8L1yUGx2O2zHoGOrskbcg/Yjf6Uh7+lrL/zID8G14jBrfIPrs0P8qCxmjRRPzNzf2MLcMaWrUGk/lV68afL8rf/JE//6r/X1750/YTffn/cveW0XVlWYJm/2r63T3T07NmzdT0dE/X9HRV9WRVV1Z2VmZEZGREBYPDYYdllMXMkiVZTBYzWGwxMzNZksXMT/D0xMyS4Zt17tMTOBxUlZENz0u+99De++Dd55wNf//fP6Ts3x/rfxslL9f9xckhK0tKWeeNXUlI4ieSeRneTyz8s2R/4xHP34fMv0+Zn6VGAugpMX8wmv4wa+pPqa64zVIsLtMxMEVj1wStg3Lm1vaUHm//YPX6KRT9UN7vIep7kn4I6o9LFzcNRyyurDO9tMXxhauI70f9/ak/hFscCAgZfpl8mfEFlYfkHyr1h0gXdP/DaP9DUPHfI4w/KsMvvrviCmTv+BV7x+L5fX/fnWf/UnmRT/X3ffB+bJoS78HJy599t6piaH88Q/Jfd6CLU0dx9SWuzb7zHuS75uE/iOn6aVPrB9vze3bxFzGJBe358xPpak462fquul0oJHBfxK86gbsYdyH7G15/BBKx3El43lD8f8CoH992ovI/rv3+B2ymn79K4gTrxQtJFEh50vvj2/p7Voyfn+7vwaCcR5fr8eOXqsvlvgfNHzzp0pyQyBD//Vz0nML+ucB/q3UEopeSiM/x8YkkPqEU0/0Zq/gtGn5qxGkb/Wx98P30iPEgibRJ4lGqvD/UYT+UroLzXU/lTdpzaU148w3Hd5V8Pf7SeH498Y8cvtgq37sWfGfiRQh/ZOJ/AN0fleEXjOL6/kvmNl6c/c1uXA6LtNnTv4v53vT+Y/Opys6uP5dgn4Uv0PF63OL2S8TG4sf9xOJ0IslQCnfbQoZRyHi9OJ18yqvxy4ygEu6Pgy9N5ufPpQXwH3qlKph2IR+5tf1tWd/X6yrwKkVFLsvl/UiqpdVZkvPe3WF1ZZX1jW2lrsDriE7DP8ekF22v7AdBtVAcP5b0FoTc3A/jU5ZR/v9tokVbPj95Li203zn3L9RNurr/oYzfRnMWI21ATo4lz5Krq+uSvPbJC5X3x7Ns/w28XBSx+UOToxyTz0+OJXlgIbcr5DXf3Jc/bqT+oSn87xPeT2krsZYJMZTzMmKeC30fIev6pjVKrCNCnlXMxR/9O5UBF/17AdUPFBdj7wQhJy90X/b29pTy8qc6FcqxogQh5OCPDg44OHyzouG3Gejz+irTLoYFzPOwgC2+Bbu7b9IfuFwFaZ39zjF8Oa/AIeyfi/oJM717O9uSDLBKdvn13BfDyj67wJgJPbfDA0lu/nW9j4vlLlTrUvTPFhBr9nPx/VTpBpy368+B8w8H/e8DSZRR/f3DaydRcPaf9PIGoCp8l9OlcSiJ4r6hyGnUm9dZZeJ3HgJ+FzhpfitNZgrz4hubQn/oTfpf3wXg54pXrm/HB0I/bZ+Tk9e/sWKNEbpWW5IewpvWu5+Lsn8o3D8iw/9KOjFf23vFzPpL6W/69KkKK58vkK29YHr9xWt5RJwop4wXeUVY9XcZhhL+edwLZlaPGJrdZHTxENnqOWwVnovwxLti65ThP5sTF513nTe7xFAe77EwO0FHWwv19XU0NDXT0T3E3MK6pHyyt73CysaupJD7+uRW8X9vnixKnYSTw0MWhXKWQjghEQqJyt95GdUEVqWcP5V5ztNPjvaQ9dWTV9qNUDBSfkjPKnkGWVLcPBRK0auSgs/z01P9ixP+ddivfxiEguLa4gz1VSXExsSRnlvD8u6hZP3hnMLveBMNo2qc1wFLRc5pVtGkeqogCstKQiFxfn75TBl6f1PB6GAnPaNKyxmqj7QE7RzkKYjzGqryqWCLfj/c3WZuXMbi6s6ZcpEq/fXn86N9Sel0bVulia9EdhnleUi8nYdEQCliND81RF5GCrGxyVQ3drO2fe6zQVng9ZLfEb4E/HVqz8M/nO18FIpSIiQxXFvrLC8Jqz/KMXwG8RLAS4GzLK/V/EK8sPYjFtoVybV5S8tTWtt7mV8SdqovLMoS2O+CraRSCfT1PKqw6qmiRISVcdKwlAqf57lEoNRV5/lfT7scvpjvNXivBc/LnZY5u0lShlW98KZiZ9NIAnJa/uz9HPL525ugnKcKZXmhvLqysaNk4F+9ZHdTQWdrC33Dk5IZyfPcwiKMUBoWRgemEIYJpDVHQqGiRfW8WEoohR+xMDXJvGL1NQspl/NdDIlNuHCYVVdWTndvH8+ePqWjd0xSgDzc32JuVmm1RrTJ4c4aUyNd9A5PXNCv+TYtSlKl/09RqfKonmfD44yUw+1Vhns6qKzvl3y7nCVIL+ewxDpycrLHkkLxPV65z/Pz8ojF6VHqK6sYnJqhtaqM7rEFSSnwMo7XQsLZ1s6m5LdFKE5KsuXHu4wP9dHWNSF9C1RjSJrFZ4NGdVB1oa7fru4ZsnNKlfmVMM9jzzK+9nIxx8uTfRbkUwil6b0jYQZYlap6isIX398UPkdwnvP87WKqFHtW3/OUs7eztDeVF7lU8YJS1ftp6deCUu43xJ3jugjvLFaJ41K5S4GLGaVvhTJV/K/6U2b5rlJiQ364t83qurBw9PzsAOVy/suh83qLt+9Ou0zcOUkvTo5YW5imuaaY2GhhPrcVxeq2dICmolv5TRewVfAvvqsgfxv75dp+V5nzeGXPqcKvEOKLs4P15BZ1oFjZuXCIIb5nLzg5WKW2MJ/BqYULJppV9PzAU6D5r/T7ezP8oiNeZ7C+uw7KhpRO+PeUTPo5M65i/gUT/gLZyhFjC0dMrT4/ZfBfZ95fMrPxgumNF8xsqNLONwEquJfS106YUCzxJD1H8oQ6qDg82yioGP7XNx9nDL9qwkh8y7d76sXzQxZGG3Cz1OW937/Pb3/7Nr/59Vu8++Ed3CJKkC+u0VcdT0JxO7PL29LEUA5P5RATbSaFT/lbVbtKbSstNK/YmJeR7h9EVEIZYwph6eWcjov5z/vjPF0wiqp/Yie6KxRRIw347eeBDE4JW+3KvGdwTnPz8pi58WdkPkmktnWQrQMlQyVyS/BO+19VTknTBby84nBbQXl2OO//3Qe8+/4n3NZ2Y1SxeWp14LTCp+17EaYES9T9tP6nGKVTRZFPlS4+lhJ+EXe2KKtG4SuO9jYZeFqMm2cc08s7Ul1XJpvJSPQlILNRspagov8Mjgq+qOXZGFfV6xS3sFBzcoR8qItgew9SSnskD7QX8198F/SuzQ5SXV5Eev3EmdWn83qd4lK1vaiOVI1zfILRXVucICHIhn//Z3/NO+99jVtAEpPzpx5iVYqpp6SqSqroEE9lM53XS4pTYZLKKQsrm/7y/D6Dc5pfSaHIf9oH0jhT1uj50Rrt1fnEh0UzvfaaOUTRe5fa9ZTS18aTFCt1q5ImVYucHO4y3F6MteYH/G//2//Bn/7iS2Ky61je2peGgJJ2JY4zUlVD4sJTgnqaWUWPCpOqbmfxr9Empb8Wd55XdTAg1UA1W87qrBy/quGqxKjCK8iR5qsKtopeZcI5DJEuVe5C+dO2UtFx1hin+US8mP/KdOUUEuCVYVUfKvEr55KKKhURqqeY16sMtJYQV/CUje0jyVrW7FAjLhamkt+SxW1hFe28HYSp4N6WHPx93ShrbOPw9OZT0KNSHJToUKE4fe5tLpHm5kZMYimTi7tnZClpvtwGqqLCQ++2og2Nrz4jIDgIzwc2eIVl0T85j6y/HpsHAYwubEqWYTYV/RRn+BKaWoh8dZ+X0hw6bYMLg+e8jc7rpMKnep73h7KN12d7eBLkzg1t4V9B0C510HkfnvbLyxeHrM73EurhxdOBWXaOxDorDQTlWBAHLacGEKTY5zs0lySjd+s68YWlON29jm9mu2Q29KyciqgLz1cvD+huKuNJdBzt4yucPH/Oya6CtLhobFzzGZwU5hFV4+OUVqm8khbRn1L7qGi7AFv1qmwDEboA5zS/aq0+y3sBl7Ldz+t8tDFFSrQXYdHRjM8vnzJbKjpOn6q18hI9Ik38XmtrEZSiT+k6K3ua92LaaT9JdVCWutRnyn48T5XGhqp/LtTpFOPpRFeO1dNprBzHZ6jPx7FynJ3O0zPcpyBOaZbyqN7FU4VTilOO3VNsp2mqMXuG8HRpUJaV0LxCspg12VNNRm4RY3PC7r/SYptEsygqgVa262lICV8ZOG3zU/wqmlRtqWx85Xg+TRPWBHdW5FTEe3Pr8/f57Tu/55Z5FF2jC0opAFU+JeZTLMq+V7XtxZBU51N85/UX69rF+qsoF6Sc1v8Uvqq8Kl4YKGiIM+DXH3rS2D0nedAVWSWcL47ZXOhE7Z1fE5X3lPmNgwt4TrGr6q5qYPFUEXxam/8aj5/E8IvGENeko6OjlJeXU1lZycLCgmS66YeJfyXZ014/PeF/ncEWzP706iHDU5Ok1gzTJduVTvpVDPwPP1U3ByrmX/V8yczaMcPT05hb2RJa0EXXzD7Ta6qNhvI5u/5KulVQbQAEwy+8ae5trTI6PMnGG69mX7G/vUKetx6fXbMhJb+JgaEx+jqaKMx+QmJuDeMjg8Q43uKWlS8p+RX0DY6jmF9kbnKKqZlZpkYHePask+k5BaNDPVSVF5OTm09pdSMj00uSuUDBuI72ttHRO8LS2g57wsPliAzZxBDFxUWUlFcyOD7NjhBTOeuI09ElzFHtbzE12k9VeQnpSbH4mF7lN9dDGJpeY293i4mhHipKi8jJLaC8tgXZwhbiVqI2LwJNtevYugdTXtfCmGyenXUFbXW15OfmUlhcSnv3IEvrO6dy/WfIEVZ9Zvrr8Xcw5stbpqRkZNPaM8GMbJypGTmT4yMMDQwyI1+RxtTy7CjVhfkUFpfT0jMqmTg7FmYH1xYl+8ST4wMUFBRTVdvK+OQ0o4N91JQWU1pWwdDUIidnV5HKFhCnzGvzIyR4m/LL314jIauUtq4hBp9VkxLnh+vjbDramsjNK6a+ZYilU1Okwszj5oqc7tY6cnNzKKuoZGZB+DNQmh4Vc0D8xKnl3sYSnU8bpduC7Z1tFhcWGByeYGSwh9zcXCpr6plWrHCwLzxjZuLy0Awttyc0P21jfGZVEgFbW5yivaWGgoI8qmobJK+SAsfh7jqKeWEqcZax4X4621qoKsnGTP1rrmq5kl1YzahsgY31VaaHe6gpKqCguILWnkk2d484ORK2jheYnpEzNy28OfczPb/Bwc4mY70dVBYXUlJRR8/onGRxSZymLs9PMzIwQHdbM1VlxdQ0tDAyOcvM1CA1FQUUltfTPyGXzKEJZu1gd5Op/k7K8/LIK6qgc0DGxvaeZN881NWELz/8jMT8arr6hhCm38Rty0h3GxWFBRSVVtPRL5NM4D0/2mZePs/C/Dyy8VEGBkYlO/aXx7JybAnmZ3dtjpqsIK5/fQ+HwHwmxQnw7iZzs3P09g3S3FRHTm4u9a3CNvvuG8RIlLcQwrFaXXUleXn51DS0MiVfka6UTw53mBnpoKa8iPyCKrr6p9jeO+T4cBfFzATDA4N0Pa2nrLiQpvZuySPw+HAXlWVFlFQ3MSsU505Ntx4fbDEz0Ud1eSG5efm0dg6ys3/Zq6/0LZDs5W8zOdhJWXERefnlPOselUy/idMmcRJWXVFGXl4eDa19KFaE46kT9rfXkU3NMD05RnlZCfkFBXT2jUjlxKndwc46E4MdFBXkk5dfIdVFmL89Od5nYXac2spysrJzaG4fYmXromL5eeufz2phDvKY5ek+kkNsuWH+iIKyKtp6Rhl4VoGrmR5uHoFUVFdRXlpEc+cw63tHkvlLxdQATWI8TQnnPrvMTgxQXFRAbm4erR0DLK3vXvLdIHA+PzpgtLOJzt5RibZj0S8TgxSIuuTl87RzkOUNUU5Fq7Jfd5b6sFJTIyEhhkh/F8Ke5NPZ309RvBt/9he/JyqzmOa2Pkb62shPCcQn6gk19Y0UFBZRXNHB/MqOkukQt0mbSwz2tJCfl0tBYTHjs0scHp96Wb7QMIKxEJ5aR/s7KC0uJCU6AFsTA77Wj2JmaZO9DQUtddUSnMLiMmktF96D93ZWeFoczt/96te4hSRS3fyMqZk55DOTtNRUk5uTQ0FRCV0D46wJc6/P9+iozMFeU4O8uiZCbNSJKO5h9XU/A2dfAtE2rzjYlJMc5MSNL6/iFZ1NS0sLExNjJMVGY2L3hJzCGkpKiqmoqkWmWFMeSojv/c4Gg70dlBQVUlJeQ9/I3KnirKrNRSO84sXxPuvLCvoHxxka6CQ/v4S6xg6mZDIGezooLyykvLKGyfl1qb+O97eZHOimsqSInJxCybTj9LzYdMDJ3irdTxtpfdbH4uqKZLK4t2+M7o6n0ppc29jK3NIaSnHGi3TAi+M95mblTIyP0/mslYKCEuqbuphfWGSws42ywgJq6p8yo1iR7L+L26ptsY63NpCfn0t5TTPjM6KPlbfDQx0tFOZkk51dJPkjkC+vS3jFerm+IqeloZrc3GzKKmqZnFlkZ2+PlQU5U+PTko6iaB3hcHNeoZDMPu5tbyCflTEpvJcP9NA/JDwl77G7vcpYTzsVBYUUl9fTOzLH7sFzTvY3kclmGBkZprW1iYKiMp51D7O4qKC3vYWSwgKa2npYWN2WNkZCZHVjZZ6Whhry8/KobepkdmFd2uCJE3xhxlW0TZ0Yi/liPepjeWOLjSUZxfFuaBuYEpNeQGP7kMRrKEXFTvv45AD51BijoyN0NNdRWVZCY2sX86e4pbrurNDdWEtJfh5lgoeRLXJwdMzx/joTk3MsKOYZGxqgt2+IltpKHunfQ1PdiMdx6XQOzkiee8f72qgsLaK4tI7+kTmU5qBfsrU8K5lrn5qaZHRwgOFRGfPyaUbGJhnub6OyvISaxjbGJqeZHB2kurKCvIJqRmRL0g2Y+HYcbK8xMdBBRalYj/PoG5s9hS/Mfu4xMzlCdUUpGalPCLL4kr/+zIum3nOGX2qJl8dsLfZw/51f4R2dRVFpORXl5bT3DEu+QPa3hKde5Xr6XPKwfczW6hJTE9OsbYmDBWV7iv//2L+fxPAfHh7S2dmJqakpf/mXf8kvf/lLgoKCJJvHQj75+3+C4X/BwuoGjS1PSUjLISajlKT8Rmq6ZhhWHDA4qaCqMhddt2Qyq/to7p+mZ2qdkfkdekdmyC9tIa20m+aeMbJyy3mSUUJl+xgjin0Gx+coKKrkcUImkUkVVD6bZVhxhGz5gN6RaTLyK3F2DyejYYI++SHTa88ZmV6RFoPswhpySqqITskjt26A7ult5Fsv2N7dka51PJzc6JhUSB7kLi8vr9jdXCTR6hZf3XWlpL4HxfIGOzvbbG1tsLKyyvxoEyZX/5bffn4LE1sn4lLzedpYx2NPN+weOuHt6Y6dvQv5VU2kJURgaaKPhqYW2gYm2HuEMrWwIS1I7bXZ5FU2MTY9j6y3hgcPXHBw9uT2PXUFkpmkAAAgAElEQVSufn0FZ99QOocnOT7tByVj+grBvPS3VRHgZs+t23e59c1XfPlf/iO//iaQ4ZlVVhdkFCSFYaSvw32B19CUh16RDA73Eu1pwFu/+S+8/6UaTh6PyK18ymRfDfamlmhoaqKlqY61vTvZ5W2s71xmYl4cb9Nbm4r+rS94/4tvcHFzIausnaIn/ti7euPu5o6Hlz9Zpc0M9rYS4m6N4X1NtLQ0MbDxILO0Fdm0jK7GfPSNbHHx9OLmrdt8c+MeNg89cLJzROfOHW6pXcPUKYjptb2zXbj4AL18cYB8rAXrW+/yv/+bf4+GwQOCwlOorSgiwteGG9rGuDjZoqZ2B7V7DmSU9UiTdVk2TFlaDI62Fujq6aOrrU5kQg7js0Is6HyMCxnd7eUpyvKeUNQyyKJimuKcFAxMHHF0ckXt5jdcV/uGsCc5TMrGKE8TXnA/5vc3jfAOCJSccciGuyhIjsThgQU62poY6OkRFJmCfGOf5akuMuMCcX/kg5uLM65ODjg5P+Tj3/5nPlLTwyc4hsb2fuor8whytcNMSxd9I2PMH/pTVD/AgnyE7PQEHBxd8fFy4ZGXL9klzTRX5+LjYI2h1n00dfV54B5KSf0QO7tr1GTGYqNrgK25GUaat7h97z5GNo488rDFVP8e1765g51PIl1jCra3Vuhrq+SRnQXG2nro6hth/jCI6qcDiLFqdu9j/vQ//Dl6VnZEJabTMzxGTWk6vg8fYKqji74YZx7h1D4bZ2NplJQnj/Hy9MDLzRlv/2jKmka+U/TraG+dnroMdHWsCUpuZWVrD3FaGxcVjr6xHboGhly/9iW31DUpa+liY0+cwKhWJ2Hv+5jNpSGyEh9jYmyKpsZ9zMytSMkpZXZxmZG2SgJcrDHU0+HOHT0eOAdQ2dyBfG6CnCh/jLUMsDM3QefudW5rGWLj4IyHswU6Grf45pY2oRkNkr1mwQAOtVUT7eeCkZEB2lrqGJta0dg9KtklP6NJ2BDf36a/oYjgRy4YGuijoWGIi3cCbT1jzE72kBQZhoGBGbo62piZPeRJTi3jc4vMDrcQ6OePrYM7GlraXLv6KWZ2zlS3dbO6ukRXTQGBbg8xMDBAQ90QV/90nvWNMTHUQUJYELq6xujpaWNmYk962TPmVnZVDfXG58uTPaZ7K7HX/4ZffXQDOydHAmOLaK4rwPb+Tb75Sg1TYx3Jg63aXRMKWsZZ39xg6FkVj6OSqKhvZ1R4MffwRFvXAC2Nezx08qK2fejsFlF5FIa0dglv1oXVTYzPyBnvayTU1wtNHQO0NdWxe+hGfecI26e3j4JgYSv/cHeJzIAQ2tuf0liVQ01bB4MDbfhb3OBf/6v/hTv61jzyjaampoqkCCe0jYywtbdBXV2dz7/QJjJLiBZssbk4TUtpBt6OVujq66GjcYdHATEMTs6/5k1U6fiprykPN1tz7ty+w80rH/Hxux9wRTeM6YVV5garsLewRENDuW7auviRU92NQj5Jiq8ef/J//hs+vamFu28QpbVNNFQVYGtizn1NTXS0NbB29KaooZ/lzW2m+7vIC4tiUDZNXXYEdYMKdiVRz7NBfqHvRNwr1uWDuJnf4S//6j/zlYYxfv4+VDS2Ex/hw+dqZuga20hrltrN63hGJLGyd8Te9hIt1UU8cnVFS1sXAz0DHF2CqelVnN5SnqIRm/8NOS0VaWgbPMDBxRU1tZuo3dLEwdEDB2tbNG+pcefuLdxDklnYPGRVPk5BQhjm+npoaeihp2tNYEQakyt77G/MkJf6hMTUEuk7VF2UzH0dGyysH/DNjavcuH2HJ/nlLKwLJlc1WpS0HG7PkhgbiZ2jO1YPbLl58zbq6ro4uvniaGWHltp1bt7V4HFGCfPrO6wvTVOenYiluQ3aOjoY6BsTFJ0tOc5cnBkj1tsRzTsaaGrooqtjRXxmBROKVVYXZVTkxqGvZ4KGlgY6Ghok5VUzPDlOfVEmEUHRTK0dStuuheE6sgsL6RyZZqK/lZgwbx44eeDu7IR/eCpdvQNUFaXi89AaEy099I2teOgZTXXbOMsz3QQHBGJt54KppSU31G5L6S5uvthbWHP3xhU09M1ILqhjZXOb5dlhcp48xtzUEh0dbUyMrYlJKWF0donFqS6iw4Ixs3JCz8iY619/jo6JJZlldUyNdxFor8Fbv3sPQ0txK5ZN37hC2vhKLfvqBUc7C2SH+2Jpbo+NsSF66rfRM7IhMaea+bUdTvZXKM+Lx8nEGCNdXfSMrfGNyKStb4LlmU7cPXzwdHfF3dmBR36PCfJ7xPXP3uE3736KhbkTZU3tVOWl4u1ggZamBvc0jHjoEUJdxxD7h4cM1Cbh4+uDs5sX7m5eRCXmUJ6bgJ29HR7udujq3ufOfW0eOrvh5uaEto42V7+4jo1nBuOzq+xsis1IGQFudugb6KOlcQsrW3faB2Vsbm0x3ttMlJ8rt27d5fbN63z1q/+b//SJC8398ku8hXSLuNSL9tu/5IqaPoY6OmjcuYWpjSd5Va1Mj7RhpWVNQeOwZOd/f2OB9uo8goIS6J0SG80L0/OP/PqTGP6NjQ3Cw8P5kz/5E/7xP/7H/JN/8k/4xS9+QUVFhaSQ9UO0Hx7s0t/dgKenI/qm1uha2HJNTRf30ByaRtaoqWnA39uR926YY+cTSWB0ChmV3ZIH0JbWpzg+dOHLW8aY2vqgo23CfS1DwlIr6Jhcp6W5AWf7h2jpmnDrrhFWXnkUty4yubTH0/ZWXNz8uP21JuF5nXTN7DG9ekL/yAQR/j7cuXkXHVMrNHR00TZ2I71S2PsVTjz2mB9rIdDHnb5pheSY6HIdX3G4t0F1rBvXv1DD2NIRv+AInqRmUdnQztT8EuuLo0Q5XEPNwoPEnDK6envpbCzlocZNPr+ihk9oLCmpWbT2DFJfVUFedhbpqUn4uVnz1ltvU9g+ztLCDFW5IURmFNMzKqO/OYcPP76Nvl0oaTl5BHpao6muTkZpA9vSlbCKypdsLE6QGOiIgYElkQmZFOam4qr7IW/dDJEY/s21RdrqKsjJziY15QmPHM34D3/2/1HU0EZOgi/Xr3yBuYMPJTWN9I9OoZjqIiUli4zMDOIivTEz1MLCPZ7JRWGXW7n4ivEsrqplfZUEeRijZ+9FWXU1Hb2DJPsZc+WWFuaOfqRkFlBRWUt+ojcfXr1LUmYRlWXZPHIwxfKBD5X19ZTlRvM3b9/AMTiZrOxkHCy1ee+DK+iZeZKank5U4EM+e/9jakdWEJaVVD8xKVcVg0S56/Jnf/UuEcm5NLf30NdeS6TvA65rGPA4OZOMpCj01bUxckhhYGyCuoJkrLT1cQtOoLyynMQwd0wMTMis7mFtR5giVP7EydDG/ABJMV7ElnQwMz1KVLAvb32ggb13PJlZydib3kXP0JzGrl7aqpJwtNXnvkuMpOMxODxEeXoU1gam+IUnUFicR3SgK/p375LbPsvsQC1Brsao61ng7hchtXdKUgzWBtcw81GeBHa31+Lu/ABNA2uSMwspzE3GzFAfA/tQWjsa8HJ34tMvb2Jl50hyWhaFORk8cjLB2NqRjJwC8tIjsbcwxtjSn7H5WTL8H3Lt95/i5BZIVmYyzjYG/P7dd9GxdCQnL5sQNyt0DGxJq+hkqKuG2EB7NI3syC8qpzQ3EV0tXVyCkqmvL8fTRpt3336f+Jxy2rt66W0rxcbSCBtHL7LyisjNSMDWyhJbvySGR9twfmiD2m0NXD19ycirpHtojvPeVLW68nm8v0l/Yxb6eg8ISX0mnZqsTj/F3saG968YE52USUpiMJo3PiUgNoOZ5c0LmwflJniwNhEjHWOCH6dTUlpKXlocZeUlDA33EOXxUKpnQmYh+dlJ2Fsb4+ofRl1zM2F2Rnz07hX8QuPJTo9F+/bXvPfBx1g5PyInO4VH1gao20TQM77Ayvwgj70cMTG0JimniOL8VOy0v8EjrpjJhc1zpumV2DxOEGlrgKG5E9kFZdLtgTjUaH7aSkGCL5oaFoTG5lBeVkSgnSGGlj5klLUx0FGKrrY+twy9eJKRS3yEKxq3rxMWn0z/QCehNsboG9mTX1ZNaWEuSRkVtDxtISvGD23tB4TE5lBdWYqv2T3uGIdQ1T7Fc9VO5A0fJqGXszQtPNRacM3ElbySCpqfDUgn/A5ad7h+5R6h8WlkpcZw/5Pf8iCiiun5BdqqMrCycScmKZvcGBe+UrMmNr2IirJCspOiedozInnEvNjTop9rM72IziqmvauHwlgP7qjbkJRTRmVZAWkxIbT1jb9WTmzojpBPTEo2wleX51lZX2V5YZycxw78X//2PxGYkE198zMGultJi3RFU0cX78gn5OWm42R4j691I3jWP05PSwmupsbYuQVRXFFB1pNgdG+pkVjSxtKWShdHqVeysz6Lv/V9dAztiE/LJftJKFYGWlwzjGR6cY2lqQ7S03PIyMggLsIbQwND9JzTkMnnqMsJ5K//0y9w8HtMecNThsfGJNqSkzPIyEgnNswLPc072PhmMTy7pnRQJ5uWPHwuz02wKhzKnd1yXGxB8a7sxL2NOaIe2fDxR5/gFpFGU3Oj5CU4IdyLj7/SxcwpgpTUeLwcDbj2tRpdsyuMdVfj9cAMswf+pOcWk50Yjp2uBjoueexdVK4UoqKrExSkBPLXb9/GJzqDrPQ4rAzV+fSKOg+cQ0lLSybIy5o7t7TokG2wtjjHs7oy8rJzSE9OxM/Fnptf3yevbY6NpRHCfL1wfBTD02fNpMb48Ze/uU1AdDpZmfGY6dzgoYcvPZOK1+r9ioP1MRxs7biu8QCfyBTEmmmme5u/eec6zl7RZGYkYWukib2LL02DMrrqcrHQ1sHaNZaCkjKSgt0xMnIg8EkdCsUc9aV5pKVmkZ4Sh5HaNfTMPChqHmKovQoPS11MnGIorqgkPy2W8pomhsYGyYkLwNrkAf2Le9I3caYjm+DYOKo7RhhoLcPR4j5falgTHBlPflkjTZWZWFsaYfLAlczcIjISw7mvro2VZzwDXRXoaBtzTcOekLh04qKD+PrLz3jnI3U8/ePJSAnH4N4NnDyC6BqZoC4nCn1NA1z9n1BcWkKEiznmlu6klrQxMdiAtZkpn6jZEBafQVKsH/dvfImjhz+9Y8MUxDlwX0+Px6m51DztY2F163zdfPWc/Y0pgi00uXbDjODIZLJSE3F7YI6prS/lrSPM9BZhoK+Nb2g8RSVlJEaHoqFtjn9sLsP9NXx19TY37mgREBJBVn45WWnxaKp9hpqGKTkFVXR2VGGlqYWJtRtPcorITInGRPceD4MSWVzboi3LAy2t+2iYuhD7JIPishrKUny4dvM2vlFPyM3LwNVKj88+/Qo9O39Ss7OJ9DLi7Y/MqW4fYXKkjQhPJyztvMgoLKE4NwGtz9/FP7mS3sF+MqO8MNY3JjQuneLCbLz03+eXX3rS0i+/NM5UDL/uO7/iy+tmhEQnkxYfio2hPuZusXT3deKucQNTtzRGZpaZHX1G9KMHPPSKZlyxdXb39vpM/WOEfxLDv7KygpubG//8n/9z/tE/+kfS37/4F/+CrKysHyHW84q9nTVq8qO4fV8fK7cofINDuXdHB9egdJpG16mrayQkwI2P7tniGBhLaFwGWVW9dExu0j8mIzUpinfe+4zP77rh9zibmKQcChsG6JatUVdbgYuzAwbmVty8/jlvfelGSOYgkytHDE3NU1JRg/GVz/F5Ukv75DaytecMy+SkJz3m8y/UsHqUSHxqKppXviIgpoie2X1J3OBgdw3Z5DjbkifHb38BxdXeiqyH5AgfTE2M0NPV4f7du9zXsSYksZwZuZyaBHOsw3LpHJvnYH+T0a5KHLTv8NAvkWGZguWVFZbmp2kqLyYxKpLI8DAeuVjz5//x/yGmrAf53BTlWcGEpRbRNTJFX1Mun1x1p7RpmJW1NdprMrHV0yI2rYS1vQvXza+eoxhrwtXcCP/ITIZky9KJflGEIb+7GcGQbIVluYzGknziIyOICA/D3cGUf/kv/yeSK1qpr0jDzkCPmLQS5la32dvdYWGql/i4eMLCYgkN9MTESBd9+yiG5zakgaxqIXHFvTbbQ0FKAD6JRShWNlhfmSMzzBIr32QaOkdZWlllou8pEU663LB/glzcjmwtUJ8fh4O5JSlZORRkx/PWZ4/olS2yvjpLfkoUd++ZkVbYyMLSIkNtFZh98j7FvYqzK1TlxBGKhPOUZ/jxmw/1aR+dk/pwYayN5GgfHCPymF1YZkU+TIS3M3cM/KhpauBxgCMffXgFR+9QHj+Oxs/DBX1tXSKymljcOFCClswTnrAu7yc+0oPHhR3IZMOEh8Rw9X4kvePzrK/KyY/zwlTbgLKWPka6KomP9sc5uY2t7W3WFUOEe5jxxRU1Hrr5EBH5mEfODujevk5EyRCyngrC/B4SmlxE/9gMy8uLjPW3EBtkS2hhH0vrWwy35KJ7/zZf3DMjNDaBsCB/7n1zg+satpTVlOHq4Y/xw8cSMzUvn6W5KBFLIx1C0qqZWViTNqOZkV4Y3NakYXCc5EdW6N3RoaKxh8XlBcpTwzFRv41/WoN0Sttfm4yNzUNCU6soSQ/FSuNzvlS3ICrhCZGhAVz7/CqG9oHUtz/lSZAzOt/coWNqjb29HTpKIrjx9VfoWDgQ+jiWID8fdNQ10bTwobWzAfuHHgRG59IzPCl5vRYeQFVj6fWFUDCCfY2Z6OvZECox/Aesypqxtw/EwC4D+dIyS/I+/Kw18ApJZEy+emnBlm69qhIxVFfHyT2AuMRkhJhFZ3c3fe3lWBpZ4ByczaRijY31BQqSAnjg6EpcZgHBgik3cuTZ4DRLi7PEupliYGBOYlkXK0tynuaHckXLk/quCYbaCzDSuM2V65oERsQSGR6BpfpXGD9KY3B65VsM/2MHQ26rGxAUEUNKag7V9U/paK3Bx0yLTz++jrd3EDFRUXg90OPGbUtCE4vpbitF39iHhLxnLKysMTPWiJORBr5BUTzrbifEzohbd3QJi04gJTWb2qYOOloq8DTV4trVu3g+CiI+JhpPy3v8/jML0st7OFLttCTGX/TCeU+Im8Od1Rnq80IwD8picn5V8ng+M1SPu6keXr7RDE4tsiifIsnhKvr+JdKtZFN5KsZmjkTEpZMZ7sSVq5p4BkSSnJJCZU0TU/JlSVTkYl8f721QleZBZFoRrR3d5Ea4cueWDr4h0aSmpVJepRSZE6aezykUEF6dWgR6obT0IhQSd5d5VpXAn//VVRqE6NnOPiuzg+Qn+eMRnkz36BwbqwrqswN470tbiqsbyUvy56vPr2Bi40Lk42hCAvzRUfsKv6Qq5lb3zkh9+fyQ1dl2tD77iIjMOqYUa8yPtxMX4oGacawkIjM/0UlifCLh4XGEBXihZ2DMTct4ZIvLTHQX8c27vyetvJ2F9V32ttcZ7msnPjaO4OAYokK8pZtGA9dkeibFuBFWbFSebIWXbyE3/F0/ZcqLky0K4v0xua9JbvMo2zs70vqYHBOBtnkstW1jLC/JqM1/zK2PPqZ6QEZzQQy3P/wIXQMbQoPDCfNzx1L3Lh/e8mP5QHgwVeF8yc7qGPmpUbz3dSATC2tsrEyRFBWAlb0f1e3DLC7J6ajO4cGd2zSNLbEon6C5Op+E+FiiHkfi7WbL159eJbZqglXFEP4eLjxwi6S5rYGUuCjeuxaMbHGVzfVp4nwe4OzsRfOA7PwE+pSUw7VRHtgF4eiXz5BMgXxmmMRwX76+ac1TITKyvkhBhDcBXr6UtvVSGO/H57/9HSY2nkRHPibYw5Zbt/Sx9kxhZHqC8rwkaW2OjnuM0Y1PuatrR2plDwNPK3AzuYeGkQvR8YlkZmXTMzTJvHyUrBgfzPTN6F8QDP8rptszCYyKo7J9hIG2Mvy8nfFLrWNWscjaxgZ1mX6oXb/GHSM7wmPjCHjkzhcff8kdY09am/LR0PXBLaiEKfkC40PPsDQyRtvMh84ROSvLU8Q5W+Lv4U1dezuxbuZ88u4n2Dl6Ex0VhZ+DIfc1zAiML2GwrwFrax8c/QWsZRbnunE3Vsf2gQsd49N0VUbj5hdAU59MEjO65K1dYvgn8TG8hVtwOl0jcywpZqjJj8fMyoOY7EbqUl346JMveOgdSERMHJ4uzlz5Qg1rjyg6npXzxY0HPE6rYHRylrW1VYa66nExuM9DlyBkixsMtaRw7bqxxDfNrW6yMDtMRpgdGpaPGJtdpiXdCTvPANIqnjG/uMqyYobWfH/0HILpHJKxvKyg4EkwGroOxOe2srSyxFhrMr9++w7Z1c9orEzBSOsuWoY2hETFEBURgc7nv8E6IJO6+nK8bUxx946kb3KRzbUFqmL0+c1VP5p7L57wC3HeY7aWetF697/gE10kKe4qZANkxflz3zSIlt5x6lI8+PxLE0oaOqgpy8DS0IzHaZVs7J0fGqpmzx/z+ZMY/s3NTWJjY/nTP/1T/uk//af8s3/2z/jbv/1bamtrf8QJv1IesKUyEw0NI3TN3HH08EXf5CG+scW0Tu4wOrtCU2MxBl6Z5DdP0Dm2zODsDuNLx0wubtLcXMYXNywJzXpG2/gaw/IdxhS70qn3kycxmJrpcPu+Bp9++j5/9Ykdvqk9TK0/Z3rtmKFJOY+0ruOfXEvbxJakHzChWKG8ooB7hgEklo3QMzaNh5YagY9zaJftSfb9hay2UHASMsvfXlWF0tlz9vf3WF9ZQDYxSm9HK4VpMVhranL1ridPeyZoSLbBNqKEwZl1hPLURG81TkZahGfUs3v0QlIAlfXU4mpsjMZdHbx8Awj0deZv//IviCntZm5WMPwhhKUWKxn+5kK+vB3JoEzI5h0z1FaMg6EOsanFrO5eZPhPmBmswc3cjMiUChSbx+xvLlIVZ8bvbkYyMDZLV10hD/X00byvxyO/IPwe2fNv/9d/TUpVGy1VWbiYGpOcW83q7jFCia4m2Z8PvrqLgZkXIUH+PLSzxcQpgeHZDaG+eT52X8GGfJDijDCCUqvY2D1if3OB3JiHBGQ0IVsSimwvmBtuI8RaC6PwOsnt9ssXe/TU5uBtY0NSWgb52Sn83TdxbAnX1M+3aSjJxtHam7q2IQ6Pj5gf7cL79heU9CnYVbnplqh4JV1J1+aF8vYnZvTPrUkOSVam2slMCiUos0Uya3e4PU9SuBd3dNwoLi/G19WKt3/3CXomFujpGWJgKMSJgihrHkbpbEhZRXHCvy4fICHSk+jCDqZlw0SGpaJumsvGnpCh36A6PRhzHUPKmwcY663jSVwo7um9khvujbkeHtlq88HHV7iroYuegQVGxna4untJ4mjTvRXERvmSX98j4VVaLOkjKcKFx2ViA3rAQG06Gje+4t3Pb2JobYuujjFa6lY88kvh2bMGvP3j8IyokhT6jva2aC9KwMrQmJSKHoTb8OP9ZapSw7G6c4/ynlESvSwxM7DgWb+M/cM9Woue4GZmSGLlqGSGbK6nAFubh/jHFpMe5YXuV2/zzhd3MLayRlfPFPXbZoTFFDIw0k9GuDsmt+8zsLDHixeHNGf4cfWTD7ly6z56Jubo6JhgqO9IWHQ+Q4MtOLtHkFvZJ7kkF5tFIX/+LXObp8PrIsMvnfBv70sMv6NzDHbetTx/dcL+poxwRwO8ghKldeXiCaiQc12b7SclxBtDHS3u3LqBjr4FjxOyqC7NxNDQnpDUZla3DyT58+aSeOwdXQmMyyDA3hBbpwAmFBvS5j0v2B4nBzcKn8k5OdhmqD6Rj286U9k6THtVIho3v+ad969iaCrGkxWmRqaEp9Uxt7R1btZSyH/vb9HXkI+9jRma6ve48c09bBy9ycpKxln3Fu/86m301LUw0tXDxtICB7dQiqua6GmrwMTqMTXts5Js+cZiL57mevgFRTM0PUt7ZRa2FsbcV7/H9Wt3sXUNJjMjkYc6t3nvb99B5742xnr62FlZYOUQSkPXOEfCo+opUymsuby+8O1vzNNUGIVVaAGK9QPJJPHcSCOeVsaER2ewuH3M4c46dTGGGAaXSwx/8ynDH5dZQf+zGjyszNG6r85tteuYP3gktdfWwbkFMjHLBMNfneZJVFoxPSOzjLRX4mNrgcY9ZTljS3dqno2yffhcpbJ4vv689nayL8TAUvmLv75J26Ryc7GpGKEkM4zwtFLkq3s8P9qhry6B9z41IruolMQwF+lE/Js72ujpG6JvaI/9Q2fya3tZPbO2haSvtCxrRP3Dj0mt7pMOXTbk/SRH+nDTOI6RyWlKY9y4ckMLQ3OxbgZgYe3AbYsnkgjZzGAFd//u78iv72Pj4ITNhQkyYwL4+Oo9jM0fER0Zio2VBcauGfSMr3zHzZdQQnzJCzFvzvSZRM8pJ82rFzuUJgZho6NHaee09E073lskNT4eS9dCBibXOBHK9pXJ3P3wIyp7JqjNDOP622/z1WdfYailg5mRIba29rj4ZbB+eJnh310dpzAjkc/VUzh6BS9PNihJTyI8LI2hmWUOD/eY6KjDz0CDxtE5ntXn4majjY6xBe6B4YSF+GJhqMXjChXD74qtxPA3kpaYyBf30zkWX5jnG6SHOOPq8oimvimOX5OPOFwbwc4hjqC4FtZ2DtjZUFCWmYSlqR8zq0Lf45iW9MfEBodQ8rSb3EgPfvdnf8GNG/cw1tHFwtQYywfuRCfn0dBYhNH9r1E3foBPeCyeNuqY2nuQXjPI4uwYRQlB6N69x73baty6dZ/YrGoGRvvJjPbBXN+cfsWeNI+mWjMJjIynSjD8zyqJehxCZvOs1DevXh1TlejG1599yMffqGNkaY22thna920IjMhjsLMUHeMowpOesXt0xJJ8HH9HDzx8kpCv73F8vE1RsBvRAQHUPG0hwt6Ad37xS+7dUsdIRxdrC1McXAMpqGhmqK8Z24eRhCd3sbV3xMH2JL6WOtjZuAp22gwAACAASURBVNA5PktfbSKeQaE8G128ZKlHmkqnDL+XgRphaRVML29L0g1dDQXYOvgSnlJFYZgF7/3+99w1MEbfxAwtLRNMjVx5kl7OQE8V17SCqHkm9LaeiwHCzHArHsaauHqGs7R9RG9FOFfvuPCkoEO6Qdpdn5c2Q3cN3RiYUtCU7ohvTAbNQ0sSSYc7q3SWBGMVmMns8hZHBztU5cZhahNIQf04JycHKAaL+M07N8msaKUsJwLN29f54to9DI3N0NO3xcrUmLjcRtqaK/C2NsMvJIW59SOO9jdpSTblt1f9ae6d56KjUSXD34P6735FTEELis1DDjbmqM5LRMs8nNaBOZanW9C/9hmOXkG4OTpgbBlETfvk+e3pa+vTHyv4kxj+k5MThoaGcHJy4q233uLtt98mKSmJpaUlaSf7/UQL5dFd+rpaCYuKxdMvBAdnR3737u/4xtCd3PYVyZpBV3cd+q5pFLbI6J5YoWd8iT7ZBkOzK9TXFfKVujdZtWP0yDaZWD5ianmH2voK7qrfRsfWj4K6HtJSQ/nsvg9eie2MLh0yvrBL79A4nlpf4xFTRl3fIiML+4zOLVFalo+6WTAptVP0T83iqaWGb3gWTye22T064WBPKM3MsX1wfP6BVlVUyLUdbNDd08/k1Cyraxtsbq4zN9ZNRuQj1I38aOwepyHZDmPPVJ72TbO7s8FwR6XE8Edm1kkMv7A80pQXjp6BM4/Ta5mdn6G/o4z7H7xNQoXqhP91hj+KoTOGv4iHhrpvYPifIx9uxMPSjNC4PIZnlhBmHdO8tXlbLZyegRHyEoLQM3Antegps/Jpulvy+d2/+zdkVj2jtSYPZ1MjolMKmVKsMjveT4DmF9x4mEDviIz5yR5ykmKwcU5haHr99ONyzvQLhr8oPZSglEo2dg7Z31wiN8aRwMxmppf2xFaZxYluoh0NuemQwox0oiqnJjcWBzNrkjNyKMxJ5YMbCRLD//L5Ns1lubjY+NDQNqxk+Me68L77ZoZ/f3uZ+vww3vpIn6YhGes7u8yPNpORFEpw1tMzhv9JuCe3dFyoaqgjPioSTX1vKtsGJEWvBYWCWbkQC9iRFDpVXS+J9MgHzxh+ccIfGZ7KfbNciWk9OdygKj0IM4nh72est564SH+sw2pYWd9gTT5MdKAPhtbBlDd2Mzu/gEKhQD43y9LaLnP9lcQ99qewvpfN3WOE58mFqT6Swl2ILBuTbivGnhZgZ++AQ2i2pFy7uLAoKa4uLK6yrujHzy8Rj5AaVrYOJSsMvZXp2BgYEJxSxaR8maX5IdIjxAm/DvV94xLDb6ovGP6pM4bf3dyQxKoRXr14zlxvPrbWDvjHllGYFCZZpnKJKkQ2J5cUlmenZ1leFTonc+Q+9sbo9l2aRxRs72zRmheBoYk1EamlDE/OSMr+QlF3cWmFTUUXLq6PyS3vlz5Exwc7khjb5PScJKalkjCRGE+h0LyzipDt1tA0xSeunsW1bZanmnFyicXep05i+Pc2ZIQ7GOApGP65iyf8Qr/jOTvrK8hnZ5kcHaaxIhNHQ21MjB6QWZCPlYkNzoEZjM0usro0T06cLw8cXIjPLlAy/I4BTCo2JYY/P8geFwd3igTDf7jNYEMin6i5UtU6ykhXGXbWbth6JDE0NcvCwiLy2WlJiW5fMKlnU+UVz08OJOXEmRkZw70dZMX6oKetg72LG84WBtIpWlPnCHK5goX5OebkC6wsKRh8VoWJVTQ17fIzht/DXFdi+McX1lleVDAzNSXBTI9w4erVOzh7eOBsbYq9UwCN3WMoFhZZkM8hm1ZIHqFPjg9ZX15kcnKWzd3DUyspqpEP+xsKGvMiMHBNZEi2xMbmDrKBejysjAmLzmBBMPy769QnmGAUUsHYjILm8jSMzZxIyKlHPq9ANj0jKaNX5Maif/M23lF5yFb2L+0tjvc2JYY/Mq2Y3okl1pYXmJkWCvu9lKSHc+ejT/CPK2Fmdf+cuIuHDhdiTw7W6W1I4Rd/8zVVPROsCXnnmX6K00OJSCtjfk3J8PfXJ/D+JwYUVNRQmJWAroG7pGcm5ufC4gKzczMsrW1dMLEsGP5DVmRtaH/+GfGFLUzNLzPZ00CElzM3DKLo6e3B45vfYxWQSc+IDPlEF3FR0dwxSpJuGWcHa1H/6AOSS1qYXV5npK1KYj60PdKYmpmX1tmkyCDMHbPoHl2WGP6zoSPVVxxGvWB7fQUxBxeECJuwhCTV//T/F3tUpIRhpaVDek0/65tbbK3JSYkTDH+RZKXn5GiVtook7nzwMVU9U9TnxWB8T53HSUUMjs2gWJhHLp9jek55y3DevC/ZXRmnKF0w/GlKhv/5BuUZKUSFZzA8uyIpRE501uNnpEnj8DjZ0d6Y6hqQVVLPrHyO3vZagj1tiSgdZ0064XfjgVsUzW1Khv9LjQyOhRWl5xuknTL8zX1TFxgxUc9XnDP8zazvHLC7sUBFVgoPzPyZFX388oSWzGjiQkOlE/7ixGC01O6RXt4hGZMQSqUzs3KmJ4eoKYhB+74hJc/GkSsUNGUH4BkQRnrtMJsb68inpxgfG6ertQoPUw0snEIorGshK9oPM10TGoYUrK+v0FwQgat/OOWtQwx0VPI4OpTsp3OnY/2EpznBmFjaEfCkhIlpuWRsYW5mjqXlDdanG9A3iyEiuUMyUbo8P0Gwsxc+PkLXa5ej412KQ92JCQyktq2dOK8H6GubU1zfg2x2HoVCLq0Vy8tLTA42Y/cwivCUbkmH6GBrAh9LHWxPGf7emic4u/tQ1T7G8pr43l3YSF9g+H3j8iSrV8IUeWl6JOZW7iTkNVOd6IKGoR0lte1K3PPiezbP8tIS82N1XL0TSm3bNGLt45WS4Xc31sBFMPxbR0x35/PNDVOC4oqYWVxhbmKA5EAbNC28GJ9bojnDiYDYTJ6OLCv7+pThtw7MZG55m6PDXapyYzG1CSC/fuKU4S/mt+/cJrvqGU/r8nF08CY0sZQx0c7iezkzwdzCClP9LfjZWuATEMugTNxATZHvr8mvr/jQ3Dd/QYZfdcKvZPhDUqsYm1tmfrybtAgvtC1C6Bxf4vhwi5wQPd56613efusL/KILmL20Tp3Pnj/m209i+AVh4opKMP7itH97W1iKOLfZ+t2Ei8n4ku2VeXIjHnHrlg7OQYlEJKZjYaSHuXMY2W1L0oLf3dPM19fMsfOIxi8kEg8hWpFWSXFtMyEBrvzN23ex9owhIqmKxv4Fxhe3qW+qxdDIGi1LH4Ki4rA1ucY7H9zF4lE29T1TVFQ1EPU4mjsf/Ybbhk54R6aRUz9IY/cwMREBfPKlPj7p7TQ9a0Tvs4/RN/enpH2Wje1NRjvLuHfPhrq+ecneqvLERJymKDt+fXEAfa3raOmYERQWRXJyIqHeLhhr6GLrncT47ALP8nz55AMtHNwjKSpvpKEyHxcTXWJyGtg9esmLkwP66lIx1tHH/IEbsbERuNtq8Of/778jurwbuVxGVY74MJXQMzLFQGsRX2s8ZmR6QzrhH2kvwdnYgIS0sssn/Lxia2mSWE9HNNSNcH0UQIC7PZ/+x//AWzcD6R+dpCY/BgNtfWydfIiLDcfR4jb/6l/9z6TW9jDS106wkzX6pnaSzF9ReS1P3DX5u2/MCImMJtzXDu2719GxCWV0Xoj0KBdd5Th4xeb8IKWZ4YSkVUmMw/7WIgVxTgRntTC9rLwSP9hapLk4jo/e/4pHIfEkxoZhaaiHlUMQtc0tVBZl8Mm9xDOG/2m5UIzzo7F9hMOTI+bHOvFTv8L/396Zf0W1ZHv+r+lf+rdeq/uHfmu9fq/rrap6tarWq3vrTsoMoiA4IeI8IYiKA4OggAwiM+p1QlEBEUQGAWUeJAeSTMgkJ8h5YPj22nHyZJ5MwbrvVqvd1+De9JwTsWNHxCfGc06c2E+GaUmPZC920LacRrx5cRN/+Ld/wunsfNx7/Bw9nU2orSxAwZ0eNkGirUOri7IRnZyFjrfD6HjagH1x8QiLP4ayqlpUVxQhJzcf91qHYFh2+qcTq7QbgnoMt0ouoPTRAJTKCdwoqUPCoftYtntAE/62xqtIS9qL56/HoJjoQ2Hmcfz+33ejvOZnvOp6h9Z75UiKicfu/ekoLq3ErbJryLtyDrfb3kMx1IKbpbl41DHsm/B7oKXdUYoyUPL0PawOL2wGOQqyj+DHsDAcyspFTW0tCnOvoqquGVOTfbicW4UL117AsOxiBscMqhEUXTiGHYlpyC8qQ2FOJnYlJOJAeglmtRpUXTyEg3sOon9MCafLgb4nNTh3KAVVbe/ZrkTq4Uc4cewMrla2Y/RtN6qvp+P7sAhk5N1AfW01chnjTqi1WvQ+rsHx7ZE4dL4ID551YqCvA2cOJyImIRkZOddwq+oWiq+X4M6jDqiU/cjIKsWDllEs2xzQzLxB3vkDiNufjklt8PpktkuMahR1107iD3/4BnEpOegZnoFq6iXOZJXjZM5L/xP+4tN7kX21CtNzge1naZSlp+m9T+px+fwF3KxuQG1VKTLSDiAr8ypevRnAzZyTiIvdiZzCMpQWXkBS8k6czi1F70A3Ck7uw8kz+eyNIy3Pe1h4Cpnp59DUr2ET/onOKnwTcw4v+mXQaSZRfvkMorbE4UhmPmpqq1Gcm46cm88h15glS3q8sBrkqC68ipyc62x5QGlBFg4eOoaSWw14VHsVcT+GI+XYBZTfqkFZ8VXkFlajrfMNxgZakHqsDO39c3BRv6wdxoWDu5BLS3qG3uFWYQEuXSxgO3+V5p3EjuSDuFl3G7crchAfFoO9R86hqrYepUVXkHm5Bv2jShjmZ1Cfl4mIyMNoG1DC5RUnj0LLpl1HXt2/gT/9PhbZeaWov9eFvlfNOH94P4rLb0Nn8YBta3crFfsKW/B+dh6vnzUg5cAZXC1rQP2NPGRl56P29j3UVBTicHIqyuvboDH51sX7XqbShP9F/QXcqH+EV71vcf/mNWRfzEP93fuoLs3D3sgdqLzbiXlzYD39ZmPQiseK6beP8Kd/+W84cjYXt39+iF7aiau2EEUNT6ExOtgT/pGOSvzp2xQ0dw1iqPc50lN2IzwmBdfKqlBfXYHcS5mof9IPrSlwk0FvKu1mDa7s2YbIbTRpyENmWjK+/d9/xneJ+RibmkBFeiSiko8jn/rNi0cRFx2D8NQyqA3LMGmmkLljCxJTz+BG7X08vH8Xl9PT8LfYQyitvIXrFw8j+sdvsetUJYblen8fJM3rmteCjrul2J+4F5cqW0PsCtDAvYLxjgc4m7ITsWnn0PDzA3T1D6GyrBxHzjVhXG7CiseINy3V2PYff0Xr6AJmJ7px5chubIvdi/NXinCrshyFBXm4VNwMp2/XMrGvpzX8Tber8H1CPZvwr6+a2US7pEiY8NMTftlgB3JTEtE1pcTTxmKkJMQj/dwllJeXIP3oAfzw7Y+oaJ2GaWECuRfO4VhWKbr6XqGh+hZ+2NkIL22luGJGY2EmsjIv4fWIMnjCT7YVTFM4mVGBglvdwoR/aQHP79bieFouVEZ6wu9F9+1SVBQW4sWIHGM9T3A0IRLhcQeRV1SBmxXFuJR7A9WNTXjRXMuWSGbklaKsrAhJP/0F0bSk59kAhnrakZ95Svhe5XYtzqbuxbncanQOjqP9TiX2hEciJSMHN24UIOqnP+O77YfxuHME4wMtKC29hp97NL7iW4dB0Y+sY8mIiNuO9CvXUH3rJnIvXkXjvZdQjLdi98EyFNcNCBN+9QwKMi7g8uVaaMz0hN+Gx4VZKL9agDeTcvQ138LuyDBs330CRaWVKC+9ivzrlXjeOYD3469xMr0ERXXvYHF44FqWIedQMk4dO4tBmQZjHQ3YE70Dh09eQUXtC8zM6tnudyyhNOFfkuHK3ijEJO7HlcIiXMs9hwPJyTh1vgzD8kXoZd04uCsS8SlHcaWoHDcrKlCYX4onbd2QT7YjLP4aXr5RMltC6+teqCb7kJ26E+cuFGHR4sHy4gSyDiQiedd+XCkoRkFuFsKjo5Be2Ai92YLeO5nIrbiNHjbhB9w2I94+KcDR/EaoFy3wOO1ov1+FtGMFeNgxA4+HnvA/xu/+sA33XgxhZmoQ186fRlh4Es5cvI762hrknzuIwto2DA8Poz7vHHbGJeH0uSu4eikT3/zX/4L/8dcz6B79cA3/sm4YSb//Z8TvPo7CkjJczT6D3Tt2IbvkIbRmB9boDcZwE/7yr/8Lf/5+P551v4ebvY0SbsClbfdznv+nJ/xi4mjiT79f9idMBJ12C7pf3EfK3iR891M4vvkhAlu2ZaKwvg8j8x7MGr14r9LgRs55xETH4fuwGKScysetB52oq67A7sQ4/OXbLfj2x0hE7DiD6qfDmNC5MC6fRU1lIbbFRuFvP0XiSEY29ial4uDpEtQ87ED+xYuICovCX//2A/76fRh+iNyO9Ov3cLelBzlnMxEbnYCMmy/Q1FSPhJ3JiNl1Hg0tYzBY7aC1l7m5FRhRGkFrRYMeQWENbpcJb9rv4cy+3YiJiMDWsDDE7UjClZI6jCq1cHs9MKveIf/oQWyPScSJs5Voff4Sd0qL8aJvAi4vcVzFknYKDUXnkBQXiZiYWKQeTsX2xAS0DClhMi1iuOcJnr4ahEKjg2r6Da7caIHGQFsOrmB+5i0aS2+gvWsIFpe4AFcoGdrSb7q/HTnHDiAmbCsiwsKwKyoGJ/IfQqM3s49wq/LTsSMmAtExMUg9moaI6Bi8GlPBaNCh/VENUvckYfuuAyhsbMdY33Mc2B7H9CQmxuHkmVO4Vv0U80bfXtNihVgHHMY5DHY9QVPnMPsegiYB/W31aHpN2+zR/ux007TCnjQ9qS5AdBTxi0bq0Ut40TcJo1GLsbevcb64HY6VNbbzztRQDxqr7mN8RgPvihfmBTkeFlzA21mzZA2wUN/oqbhePYzirN2IiYrE0TPn0dzyFC9am/C4exoe2ovaYcLLZ/eRX3yPLf2wLC2iv/UeMpITELY1DOFh4TiWfgGdb2fY9pX+7JExIaMKL5//jJY3cugXNWhte4Xiuj44yMqy14ax109QVVyGoUk1ls169DbfxuFt8YjdnoLi2rdY0GrQ9agOp/fuQlR4OKKionHo6GkMvDfCoBxGe8tDvBmfZa9A6an0kk6JjqeNeP7WZzxobRXqmXe4WXQRkZERCIuIRGziYZTd7cLc3Hs8am7H/ZYRdnNAbZVuLOemB1B0+Qy2xUYjPDIBmZcrWGftcizh1YMaVJdVCdtTrrghG+rAvZpydIwtsOUCBuVb1NfdxZPOCRiXrVDJRlCcd5bV+bCwCMTsPI7G5jfQL9mxoBhDXclFhEXRDfoN9IxpMD3Sg9zsdERFRSIsIhpJ+9PxMy2BWJTh7oNWvBmlLdLc7EPzR3cqkFdaizmzNzAxprXZHgcUo524mnUAW7ZsRVhkCu42d0MpH0Lj/TY0NI9hld682XVobSjF/SedmDdaAx+fkQ6vA8qRV8jNOobYmChERMbgaCa9bp6E3eVkT34rLmcggfwiInE+vxxD0yqYF2fxtK4cjXeeQLfkhMdjx8Czety9cw+DCjNWPU6oxzuRfe0BxhR6uNwuaOUjaLx+CUmU563hiAgPR82jLiyahPW9vkYAl1WHl3eKkJocj8iIcMTExqGwvAHKBSOsJjU6H1YhZdcORIRHICpmGy5cr8O7SSXU8mFUNrRiTG5gyzTsS0o8qLyBx4/bIFPK0FyTj5TEWISHhyEqOhplDc1sm1mzVo5nt0uRkryDpSsqOhaXyh9hUjkP2UgnslJ24cDpYsh1Ngl/ofaveV2Yf/8WV4+mISYyEnuO1qGjswt3b1Wgpb0Xy64V0FvLyfYKlD15hwW9CVNDr1F28y6ev+zDq6cN2L8nEWHh4YiM3obLJY2YVNHkwjee+A4rbjvGuu7i+at+TMuV6Gquw8F9Say+RcXG42LJXUzPScKxB1JiCw0+rq/TWx0F7lw/itjoSOw/fAJNrS/Q2d6Ep11vYbK6WfuYHWtH+vlKvJuZh522Q37ThrxjaYgMC0d4eDj2pKShtXcCFoewdFIYAwVDPRPdT5G+eyciw7YiautWJCek4ELJY+iMJsgGniI1IR7hW7diZ2IsjqVn4nJFG0wWFzN41HanlO3ilJhK649b8fRBI/bH09KuMCZ/JisDRQ0vMasTbLmE5A6uJRUq6ePelJN4+mZGsrY9wHSJ+sqaIsTGxmLn3oOoa3mL1pZW1DygrUhtWF2xQjbcietZFzCqtoKMNCrHu1GSk4HtsTEID49E8r5DqHk27JsI+nTTk3XrAgZ6X+Jy+SvQwqz1VTuGul/h2dMuqA0WeL1uaOXjaCovwuTCEjTyUdSUXEJCfBxitu9F2slsFBfloW1YC6tZjUc/30MN7UQlm0J310tcrngNet6MVTt6mm/j7u0HmJoV39yJ6QA8Ng0a7r1A86sp2FwetuzkXU8naiqb2MfNq+srmO5uRXtzMybml9mbqNHepzh/IhXRkRGsvR/OzMez7jEoZ0aQc/YgtmzZgpjENJw8noaCilq2xl059RY3Lp9idXFrWDiSU0+jtXcUSzY75t4PozQ3Az9tDUNM0mEcP0Ef3NayLZDVsmG0tjajd9rkn0usrnohH+vB1UtnWB0Lj4zBjpRM1DcPQqsaRlltK1q6ZeyGftmkxZPGn3H/QSeMdg9WVl1423wHbY+fQGmwwmHRob/tLk4d3IuoyEhERkUjM6cM/eMK6NSTaLjbgpYeJdum0uvQoulWMRpq7mLWYMfSwnvcK87BzphoJKTcQEe/Cm7RMrbvCf+VvdH49z/+Bd/98BNi4uJxNqcUA5NzzK4FPYyZfvcSh9P2sf6GNmFIPVWAtp4JLGrGkFv6FOPyReFN+foqjPMyNN0sxv0Hz0HL+eghmmq8C4XnTiCO+sBtCbhUVIcJuvHwejHT04hHba8xrSFbRMIuXorBx6hp6obJ4gBZXx9/14Obdc/xZlzLdmMzzQ3gRHoResfmYLHboRjtQ8nZE9hB42UYjblRuPO8HzqDGbOjvSjJOonYsK0IDwtDcvhWHDhfzx4YkY0K9sfmvatwLqlQcvIQ4qOiERYWhpj4JGQXNbK3WavMnscqdLLX2Lf1e2RcugmZ1rrhjbqg9PP9+6sn/L8mibQWnr78HpxSo2dYhldvZ9A7rsXYnAMKti/+KhQGDyYUevSOzqJnRIXBGQPG1VZMqswYnFSjZ1TFfn0TOoyrKZxgrGtSZRR0Dikx+H4Rg9NavJMZ2TcAowoD+sZU6B1VoXdMhb5xNYYUS5hQ2zAq12NgYh5Ds1ZMqc0YnJrHwJQe77UOYbmNxwWzWXiFu9ENDk3WXQ4re70+q1RAJpNjVjUPg2mZNVBhouWCeXEBqlkVtDojLBYbbFYL7E4yUEMViQYMN5ZNi1Ap5Gzf3Xmt8AqZbAHQWxSX0w6H08Ves9H+9KYlO8gcOoX3up2wWSywO4LNuDPNbMs/GwxaDeSyGSjola9mni1RofLwepwwG3WYVcigVKig1eowP78Ah9vD9vm2WZbYEgLV3DyMyzb2alarVkI2I8ecWg2dXs/2F/aym6HgWkFrpZ1OO+xOp/BhGe0L7hDyHTDlTkssyN6BEbMyGWbey7GgMzI2dDPjdjlhWqK9a9krFbgcDtisNrYch9yokdvMRmZEi8lIk8AmuS6Y9bQUYBa01IW2TLXbbT72a8J++jYrli12uD0rbO24y26Ffl4N2cwMlIpZLOqNcLjcIUu6KN0e9iGzw+VhHZLd7sCylawX000crcu2wbJsYea3KS9O2zJ0mjkoZ+dgXHIxvk4ruamhkMmhVKqgW9TD6VnFiscFu93O3kKIxolWVjxw2C3s5knM6wrVG7MBc7S3s1wBlVqLJasDHo8bNpsDNrs7MGEjq54eJ0yLC1DKZZDLVdAbqG6vsnw7rMvsrZ3H42VGdtwuB6yWJThcwuRmlewiLFsZOyo/r8eNJaMeSoXcF7cOFtrjXfQz6aFUKqHRGdlexx63EyaDDqydyBXQLCzCYneyjt5itQtlytaOu2G3WWBcWma6xHXI1E7omxqPyw6zQQe1Wg21ZgEWG+XXBavNLmx3yeRWYLcswWZ3MFsW0rZLZeNxOdgSEYWc0j7rr3Osva64sWxYhEoug0yuZIMB7b1OAxJjZLX62t4am6xZrVZWZqSXLCobzVah3Oja64LFrMecUg7ZjAKzsyosW6ntigaWqML62oCVbC/MQiaTsf2mWf7p40xf3ZmfIz/SoRH6F7eHlYHV6oDbQ4ZyBD02yzJsNqrPtLWiCfNqFWZmSKcaZouN8aC82CxmzKtnBb9ZNQxmC7O/0f/yDvbtS0FJ4wtmCEoc6/xNi+oRlSXVI4USmoUlxp76NOJN30uwcnKYsWxzCXuAU12iD0VtdjhsFmh97UummIPBZGF1MDBtE2Jibchpg8PphNvthoPaz7waMzMzkCvmYDRbgpcd+BO40YnQXq3M4q8S81T3rFbWxkg/60vJSi/VC7PQZuk7EnpqSMub5BSnfJb1jzYnvXWitx7CfxSbkFYrdFR+1G/M0hIuHUxLNlbWzIYDld+MnNVbaudks4L0UDz2ZTNbzkft17RshYX63TklZt7LMEdLCg0GttzK45W+xRTzuQbddD+KzmXi7OUGzMwvST6oFWXIcrEXliUj5mhZ2dw8yB4DlYfNQWUkGCmi/C8ZBcvVwtjiYG1NpVRALldifn6RLbtj3bGQcaH+rq2wvt7kM4BHyzWddgccTDfVzTWsUJ+0ZBZsXdC4alxkS7QUSjV0iwa2HJbWd9O2uVaLFVYb1Ws3nE4HTOztKtWQNVYPWP32LzkRag6ll+yvUF9idwhLcIktjSHLy3TjKpSZx0F10M5sqwhlbGPL6ZRyOevvtYtGxoT6K9rlSTYjg1I1zzZOMC8vg/p7HqvmcgAAEDFJREFU8qM+iPq+GZkcKo2OhaE4hH5OC7mMwmmgW6R6INQp6jMddhuc/t302Cgt9MsG4qGAXKGEmjhTX+p1YdnigJ2WFNN4trLCxhyr1c76dcozjVcOm43ZB6AHaG6HFbr5OWFMmRWWWTpdHjZWUh8p6KKxzwvbspmNUVT+9J2YbUkYS+Y0RtjsQpysBq17YTdPI3NnGDILatD9dpz1J7SEk1nm9VUzr9vBlhEq5DIoaD6xaGJcaJyiOQuNsZRm6vPIjfpTq9XmGzPXme0Nk14rjE9KFfRGsmki1B+Pk8Zuh3+3RPZ9pcsGi9UhLGEjFi4niA2NWRQPPeTSG4QxjJWNy1efFXJWn9VqDXurvLK6wto+9WkK1r/MYkGjxqKR+iZ2q+nLoZB2mrMs6RcxT7ZjFAoolHMsrTSWroP6fQe67uTgpy0xqHrwMmT3RJ+qL3D4rBN+0dIuM7JlWmE75SiNEgNZZtF41hrInYxjkYEu8ccs6/qt6woGswIGuVahMHqFcGTEi/2CZUSjWh8a/QqWI50fWNr96P0ZTUaFD93oY7eAZUShIxLKlTojYYLOJi6sypOPKCNMEim8OMFjXr7GETroSgcbUb+gS9Tnc2X1U6pbfEshyLGOW5J2yofYIOno/7GdIMQwlEYhL77kCZEF/csiZkNiII9CzgX9UmGBH/Hx6xW5sCh98ZI2SpP/vxAdAjCpo3DOBgIxLDkJafOni10KcYiBKR6hLHz5FD38RyHNAV4BvZQ+9r9PRHoh6hWiFNLhd/PD9Ln74wqcCD6+a7pgf5S3ADuKTyhXyqpfKESWJvmCHJP3MWVp9ekUlPiCMWaCuiCVjK1YZwOyrIx8fpS/QDo+TCuFEkSkuRPDSN1E/YFUCmeheWQafcIUn6hDIudLE5Ux9UvCTZpPjtLt+3CY1QGhOEPqjagrVLfgLs0znbO67btBF3iLafTJi6n1xUsfy7JwvrpEgIQ00dEn7CuTYAZiegIyYl4EDkK8/jbkqzfsBpIeHpDtgMFWVNQ/wsCkxvdmxB+hqFSoLUF1LjgVgqA0nJguX7lS2NXgD0z9yiUnYjr92lm7FMNJ9UsCbXoqyEv74c1ExXhZqinOVaG9CPJiXoJDC3U+uB2KZc38JP2bkB+q90JMrHxD/KVtmqTEMMGx0tUa9PJxPKmux8uecf/bhw/lhIYm5l+IWWASLCu4CfVFKK9A3yyVDIQVUif8K0gE/MSyY3kQncX6vCrwEqqyL7y/vYpx+RqgGNZf70X/wNHfNvyyAT86C7QBduVnSu7+scfXNwhtjrZ5XQ0au/0hJWNEoC/1MZb4BTgK0fnTGJw0ljbpmBNgIgr62g679NWbIBY+fqz/p/YV3C+LvsH1SKpHkGAcfP2PGDN9I+KyqlGZm4XGln4smOmDZKGP8svQCUti8NgpdlgMqygsMvaPO77ALO3B4Vm9EfMZUq5BLP1+gZwK6RETJkTOciydZ4lRi9x8fmK9FUKF/OvLJ7kSB2ndoXZLS3qbSy/h3NVGZtMhYMAsRM9nvvysE34aVGzudRhs69Db16G3rbFzg3i0k5/gpreJ52tg5+RHYSQyoizpE3RSWJJfg94u/gQ/0V04im6UBkEv0+HXvQazYw3uFbEGSSoQKyDRXVJafhHxRHoU5TYIxypyiGzIJYUODSk2U1GzcBQDBrsG+/09GTGs0MzEK3ZkrUuaks3OSTrUT7zeQK+fgRgbyYryoptw3NxHlNs4nOjLjkxEqkl6HiQpXHxUZWjYQMkEOjipTMB/8w5l4whFV/G4QUp96f27EiF0xTRRuE3CsomJz/sDkVAHqZ5Qv9BUB/w/qBkf1LeNikOMSxpadPPFtYkekb8gHRImpE6S7+Z/oWGJk2+S4g8kldlMm1TGF1B0+iCIz4EdRCEKI5TlB+L+dARkgpzYBT1BdMNiMUJnMLJ1viKjjWQ39xOlQ1MhplOYuAglFiojhpUexXCimzjR+CVhxTChx1Cdon9AZ0BCSK8o8fFjILzAR5QOdfddS51FUf+RPMUfOW4mTEtqLDDo9LBY6Mlv8LJOvzq/roCewAQ44CbGxJrNpnGKUgHtgbQG6xIkNnKThpXqI9lfIv9heGkvIPr+Gk1iWOEoln9wuqR6g32koUUp8biRH7mF+gvt2B//RmXndxN1iqkQdW3WwkR/ilWMRwwr1SVNl7AUUj4xyrZ0Zk/1A2rEQBscA3oDZ9JqvZkSUVo8CqqFOrlBNEFOkjD+UzoJ+dvQSeroDxwSUJp+0UuUFXiurjggGx3CtGKBbeIhSEl1i+E+7/GzTvgpu7RMk1Z/rKzSb529/hWuyRIv/UQ/UY5kpOdCGFrvSa+O/X7i9eo66K0n2WAK9pNeb3we0LkOWrrGnnqx8vgCBfV3ohSa8ofdhOCyWWBy38yPMvoxP1/F/AUiH63CG4YXHcXjRzVs4PmRcB/x2kDRxk5/V4dUIHAeOJOqlbpKz6UyH5bE5pLB4X7t1WYDf0Cfr8b9sh43EOzvnm2eM8Fnc39BNfmLv9DINgm7iXNo6A+u/1PhNhLeyC0Qy0fRBgWliyAHyXWou8QrEJXkLFRemExTfRB8Qv0lQX+BhFQ6+Jz0fkx3sHTo1UdZhQr/w9cbpTPULfRaEulHvD6O4GMBJfqJJHtiLr0R2igsuW3kHqyLrpjkR0U389zM/cM4PnD5B4IGdH2o5EOXj0kH/AJnpEH8BVxDzzaOZ2NXIezH/EK1f3gtttCAz8b6NnYNhAqcfVySLVVZoW+q6K13IFTwGXls6hks+ouufq2u/9vp+EWJlQiR9W36xkJYail4/Nq8SNT+g6efdcIflFaW9xAA4qV4ZAHEu+vgahQk4q9iJOu/kEQXKi3x4qecACfACXACnAAnwAlwApzAb5jAZ57w01onnyGrkNeO7OMZ+kDH5WI/svImrqtlYbxuuJxOOBxOuJwuuNndk3inKXwkRh9wuhw+GZcbK/QBxea3or/hYuVZ4wQ4AU6AE+AEOAFOgBPgBAQCn3HCL6wPNWkV6BsYw7xB2OmCkkFfWy8Z59H58hmqq6vZ793ULKxOD9t2cmlRjYGO56ivrEBpaTlu3arB8/ZuyOYW2Rfi9MW0RT+PwZfPUFtZjtIbZaipu4/+d9OwOWj7R/6En1d4ToAT4AQ4AU6AE+AEOIGvk8BnnPADHscSRjoase/wRTzvk8Hu9O1lvOplRoWuZB3E7/7pv+Of/+1PqHrSC53ZBq1qEverC5ESF42Y8GjExW9DxNYfERuZgKsVjzE5a4BhXoaHtUXYuTUCkeHRiCcz8t9vwf4jmXjWNYRl357JX2cR81xzApwAJ8AJcAKcACfACXzNBD7rhJ8sow22VCAy/hgedEyyJ/gEn7YxctqMGO5pQlrUd9h97DLeTmtgMqjxuLYA+5IScOridbR19DAz5V3tz1B+MRulNU8xOPYefS0NSN4Rj52HsvG4tQtD7wbx5E45Dqcm41DGNXSPzYMZOfuaS5rnnRPgBDgBToAT4AQ4AU7gqyTw+Sf8z8sREXcMD9onfdu+CdzXV91YnH2LywcScP76bah0ZmhlPcg6egD7j2bj9aiSGfwh66pkhEqvUUGlmsfM5BCqctORtPc47nWQpTsyVuHBslGDBzXXsSPxGKqaBuDayF7JV1nkPNOcACfACXACnAAnwAlwAl8Tgf9nJvxY98CgHsKltARkF9/B3KIJyuFmHNx/BJl5jdDbvcx62fycHGPjYxgZHYFcqcLEu1fIOZGKU2evYUormoFfx9qKCwMvH2BX0h7kVj7Gslu6NzFf0/81VXKeV06AE+AEOAFOgBPgBL5mAl90wm91eALsfRP+i2kJuFB8B6pFE+TDzUhLPYqswp+x5PLCZV3Ai4cNyM29hONHDqG46j5aW5tx5fh+ZGTfgMLo8u2dL5hRH+y8j12J25BdchtGJ3/EH4DNzzgBToAT4AQ4AU6AE+AEvhYCX2TCH7nNt6TH7vaZZ17D+pobevUQLkuf8I88Q9r+NBzPrsScyQandRE9bU9QWVaAiD/+DsmHLqPxwWMUnD6II6fz8E5pAm3nSVtxrnjs6Gm9i13Jh1BU3w6rdw2rK15mCCFgUOtrKWaeT06AE+AEOAFOgBPgBDiBr5XAZ57wGzDI1vCnoqG5Hws6EywWK6xWGxwOCxYUA7iyfzuyChswq12Cbm4EGSf2Ycu2Pahr7oXBbIXL7YbVvIjSA9tx4uw1NLX34H7pJURE7UJu7QvMG5fhdDmgU02gNPcM4nYcQWPLKJxeNxZk43g/q4PN6fmIpbivtSrwfHMCnAAnwAlwApwAJ8AJ/BYJfOYJvwkDzeX49o9/RkTcbpw4eRpnMs7iYs511N+5i+qKHHzzr/8Tf/w2Bo9fjUJvWsLQ6yZkHE5GVHQ8jp/KQl5+Pi5mnkDCDz8h/Uo1+ifnIBt5hawTKfjuxxgcOZWF3NxsHN0Xg/j4bSi41QTVogVOmwENZ3fh5NWfMakyYnWNr+P/LVZonidOgBPgBDgBToAT4AQ4gWACn3XCv+K2Q/auDedPHkRiYhKSk5Kxa9ceHDySibKKSuTlZiE+NhZx2xJw/+U7GCxO2JaNeNfditzMk9izcyeSknZid3Iyzl8uQmv3GPTLDjhtS5ga7EDh2VPYl5yEpJ2JSE5KRFFFHWZUOnhWVuFxWtBZV4hbD7owp7f41voHw+BXnAAnwAlwApwAJ8AJcAKcwG+NwGed8K+vrcBlX4ZGpcT76WlMT01hanoaMrkSas08NJo5TE+R+zT0ZgubqK+trcJhs2BBPYuJsREMDw9hbGIScxotLDYHVlZp/f8q3E4bdJpZTIyOYGhoCBNTU9DqjfB46WNd+oh3BRaDFnqzFW7vCre9+1uryTw/nAAnwAlwApwAJ8AJcAIbEvisE/4NU/ALHelDXDLQtbq6Kjyd33BFzjrW1iQyv1A3F+MEOAFOgBPgBDgBToAT4AR+qwT+v5nw/1YLgOeLE+AEOAFOgBPgBDgBToAT+JQE+IT/U9LlujkBToAT4AQ4AU6AE+AEOIEvTIBP+L9wAfDoOQFOgBPgBDgBToAT4AQ4gU9JgE/4PyVdrpsT4AQ4AU6AE+AEOAFOgBP4wgT4hP8LFwCPnhPgBDgBToAT4AQ4AU6AE/iUBPiE/1PS5bo5AU6AE+AEOAFOgBPgBDiBL0yAT/i/cAHw6DkBToAT4AQ4AU6AE+AEOIFPSYBP+D8lXa6bE+AEOAFOgBPgBDgBToAT+MIE+IT/CxcAj54T4AQ4AU6AE+AEOAFOgBP4lAT4hP9T0uW6OQFOgBPgBDgBToAT4AQ4gS9MgE/4v3AB8Og5AU6AE+AEOAFOgBPgBDiBT0mAT/g/JV2umxPgBDgBToAT4AQ4AU6AE/jCBPiE/wsXAI+eE+AEOAFOgBPgBDgBToAT+JQE+IT/U9LlujkBToAT4AQ4AU6AE+AEOIEvTIBP+L9wAfDoOQFOgBPgBDgBToAT4AQ4gU9JgE/4PyVdrpsT4AQ4AU6AE+AEOAFOgBP4wgT+DwUruMC2r4izAAAAAElFTkSuQmCC)"
      ]
    },
    {
      "cell_type": "code",
      "metadata": {
        "colab": {
          "base_uri": "https://localhost:8080/",
          "height": 363
        },
        "id": "Aqoo6_Gw9FVE",
        "outputId": "13a2d471-1a66-4bfd-ceb7-659ef8992c92"
      },
      "source": [
        "!pip install 'h5py == 2.10.0'\n",
        "\n",
        "# ดูเหมือน attribute \".value\" จะหายไปแล้วในเวอร์ชั่น 3.1.0"
      ],
      "execution_count": 25,
      "outputs": [
        {
          "output_type": "stream",
          "name": "stdout",
          "text": [
            "Collecting h5py==2.10.0\n",
            "  Downloading h5py-2.10.0-cp37-cp37m-manylinux1_x86_64.whl (2.9 MB)\n",
            "\u001b[K     |████████████████████████████████| 2.9 MB 4.2 MB/s \n",
            "\u001b[?25hRequirement already satisfied: numpy>=1.7 in /usr/local/lib/python3.7/dist-packages (from h5py==2.10.0) (1.19.5)\n",
            "Requirement already satisfied: six in /usr/local/lib/python3.7/dist-packages (from h5py==2.10.0) (1.15.0)\n",
            "Installing collected packages: h5py\n",
            "  Attempting uninstall: h5py\n",
            "    Found existing installation: h5py 3.1.0\n",
            "    Uninstalling h5py-3.1.0:\n",
            "      Successfully uninstalled h5py-3.1.0\n",
            "\u001b[31mERROR: pip's dependency resolver does not currently take into account all the packages that are installed. This behaviour is the source of the following dependency conflicts.\n",
            "tensorflow 2.6.0 requires h5py~=3.1.0, but you have h5py 2.10.0 which is incompatible.\u001b[0m\n",
            "Successfully installed h5py-2.10.0\n"
          ]
        },
        {
          "output_type": "display_data",
          "data": {
            "application/vnd.colab-display-data+json": {
              "pip_warning": {
                "packages": [
                  "h5py"
                ]
              }
            }
          },
          "metadata": {}
        }
      ]
    },
    {
      "cell_type": "code",
      "metadata": {
        "colab": {
          "base_uri": "https://localhost:8080/"
        },
        "id": "GkKKX4XbJ_Xn",
        "outputId": "9f1b64ae-bc39-4a8f-e0c0-cdb7ecff7343"
      },
      "source": [
        "import h5py\n",
        "import numpy as np\n",
        "\n",
        "data = h5py.File(\"L-L1_LOSC_4_V1-1126259446-32.hdf5\", \"r\") # \"r\" is to read\n",
        "print(type(data))\n",
        "\n",
        "for key in data.keys():\n",
        "    print(key)\n",
        "\n",
        "print(\"\\n\",type(data[\"meta\"]))\n",
        "print(type(data[\"quality\"]))\n",
        "print(type(data[\"strain\"]),\"\\n\")\n",
        "\n",
        "for key in data[\"meta\"].keys():\n",
        "    print(key)\n",
        "\n",
        "print(\"===================\")\n",
        "print(data['meta']['Description'].value, data['meta']['Detector'].value)"
      ],
      "execution_count": 3,
      "outputs": [
        {
          "output_type": "stream",
          "name": "stdout",
          "text": [
            "<class 'h5py._hl.files.File'>\n",
            "meta\n",
            "quality\n",
            "strain\n",
            "\n",
            " <class 'h5py._hl.group.Group'>\n",
            "<class 'h5py._hl.group.Group'>\n",
            "<class 'h5py._hl.group.Group'> \n",
            "\n",
            "Description\n",
            "DescriptionURL\n",
            "Detector\n",
            "Duration\n",
            "GPSstart\n",
            "Observatory\n",
            "Type\n",
            "UTCstart\n",
            "===================\n",
            "b'Strain data time series from LIGO' b'L1'\n"
          ]
        },
        {
          "output_type": "stream",
          "name": "stderr",
          "text": [
            "/usr/local/lib/python3.7/dist-packages/ipykernel_launcher.py:18: H5pyDeprecationWarning: dataset.value has been deprecated. Use dataset[()] instead.\n"
          ]
        }
      ]
    },
    {
      "cell_type": "markdown",
      "metadata": {
        "id": "nxQiMY577ahy"
      },
      "source": [
        "### **Extracting data from your HDF5 file**\n",
        "\n",
        "* Assign the HDF5 group `data['strain']` to `group`.\n",
        "* In the `for` loop, print out the keys of the HDF5 group in `group`.\n",
        "* Assign to the variable `strain` the values of the time series data `data['strain']['Strain']` using the attribute `.value`.\n",
        "* Set `num_samples` equal to `10000`, the number of time points we wish to sample.\n"
      ]
    },
    {
      "cell_type": "code",
      "metadata": {
        "colab": {
          "base_uri": "https://localhost:8080/",
          "height": 365
        },
        "id": "CQPFHCMM3twN",
        "outputId": "7a447a7b-e2e6-465e-af47-5f8fbe35b4f4"
      },
      "source": [
        "import h5py\n",
        "import numpy as np\n",
        "import matplotlib.pyplot as plt\n",
        "\n",
        "data = h5py.File(\"L-L1_LOSC_4_V1-1126259446-32.hdf5\", \"r\") # \"r\" is to read\n",
        "\n",
        "# Get the HDF5 group: group\n",
        "group = data['strain']\n",
        "\n",
        "# Check out keys of group\n",
        "for key in group.keys():\n",
        "    print(key)\n",
        "\n",
        "# Set variable equal to time series data: strain\n",
        "strain = data['strain']['Strain'].value\n",
        "\n",
        "# Set number of time points to sample: num_samples\n",
        "num_samples = 10000\n",
        "\n",
        "# Set time vector\n",
        "time = np.arange(0, 1, 1/num_samples)\n",
        "\n",
        "# Plot data\n",
        "plt.plot(time, strain[:num_samples])\n",
        "plt.xlabel('GPS Time (s)')\n",
        "plt.ylabel('strain')\n",
        "plt.show()\n"
      ],
      "execution_count": 2,
      "outputs": [
        {
          "output_type": "stream",
          "name": "stdout",
          "text": [
            "Strain\n"
          ]
        },
        {
          "output_type": "stream",
          "name": "stderr",
          "text": [
            "/usr/local/lib/python3.7/dist-packages/ipykernel_launcher.py:15: H5pyDeprecationWarning: dataset.value has been deprecated. Use dataset[()] instead.\n",
            "  from ipykernel import kernelapp as app\n"
          ]
        },
        {
          "output_type": "display_data",
          "data": {
            "image/png": "[encoded data removed]",
            "text/plain": [
              "<Figure size 432x288 with 1 Axes>"
            ]
          },
          "metadata": {
            "needs_background": "light"
          }
        }
      ]
    },
    {
      "cell_type": "markdown",
      "metadata": {
        "id": "g5tGwwcW_Hl0"
      },
      "source": [
        "# **MATLAB files**\n",
        "### **Loading .mat files**\n",
        "\n",
        "You'll figure out how to load a MATLAB file using `scipy.io.loadmat()` and you'll discover what Python datatype it yields.\n",
        "\n",
        "The file `'ja_data2.mat'` is in your working directory. \n",
        "\n",
        "* Import the package `scipy.io`.\n",
        "* Load the file `'ja_data2.mat'` into the variable `mat`; do so using the function `scipy.io.loadmat()`.\n",
        "* Use the function `type()` to print the datatype of `mat` to the IPython shell.\n",
        "\n"
      ]
    },
    {
      "cell_type": "code",
      "metadata": {
        "colab": {
          "base_uri": "https://localhost:8080/"
        },
        "id": "ZNbjcxRh8tg-",
        "outputId": "4fa96d11-3976-4b70-8d9f-72d328855e66"
      },
      "source": [
        "# Import package\n",
        "import scipy.io\n",
        "\n",
        "# Load MATLAB file: mat\n",
        "mat = scipy.io.loadmat(\"ja_data2.mat\")\n",
        "\n",
        "# Print the datatype type of mat\n",
        "print(type(mat))"
      ],
      "execution_count": 6,
      "outputs": [
        {
          "output_type": "stream",
          "name": "stdout",
          "text": [
            "<class 'dict'>\n"
          ]
        }
      ]
    },
    {
      "cell_type": "markdown",
      "metadata": {
        "id": "OSPTIrP_CC25"
      },
      "source": [
        "### **The structure of .mat in Python**\n",
        "\n",
        "Here, you'll discover what is in the MATLAB dictionary that you loaded above.\n",
        "\n",
        "* Use the method `.keys()` on the dictionary `mat` to print the keys. Most of these keys (in fact the ones that do NOT begin and end with '__') are variables from the corresponding MATLAB environment.\n",
        "* Print the type of the value corresponding to the key `'CYratioCyt'` in mat. Recall that `mat['CYratioCyt']` accesses the value.\n",
        "* Print the shape of the value corresponding to the key `'CYratioCyt'` using the numpy function `shape()`.\n",
        "Execute the entire script to see some oscillatory gene expression data!\n",
        "\n",
        "\n"
      ]
    },
    {
      "cell_type": "code",
      "metadata": {
        "colab": {
          "base_uri": "https://localhost:8080/",
          "height": 348
        },
        "id": "6t8ND4Oh8znq",
        "outputId": "1de0a0fa-43ed-4772-e8ca-396b533805b0"
      },
      "source": [
        "import scipy.io\n",
        "import matplotlib.pyplot as plt\n",
        "import numpy as np\n",
        "\n",
        "import scipy.io\n",
        "mat = scipy.io.loadmat(\"ja_data2.mat\")\n",
        "\n",
        "# Print the keys of the MATLAB dictionary\n",
        "print(mat.keys())\n",
        "\n",
        "# Print the type of the value corresponding to the key 'CYratioCyt'\n",
        "print(type(mat[\"CYratioCyt\"]))\n",
        "\n",
        "\n",
        "# Print the shape of the value corresponding to the key 'CYratioCyt'\n",
        "print(np.shape(mat[\"CYratioCyt\"]))\n",
        "\n",
        "\n",
        "# Subset the array and plot it\n",
        "data = mat['CYratioCyt'][25, 5:]\n",
        "fig = plt.figure()\n",
        "plt.plot(data)\n",
        "plt.xlabel('time (min.)')\n",
        "plt.ylabel('normalized fluorescence (measure of expression)')\n",
        "plt.show()\n"
      ],
      "execution_count": 8,
      "outputs": [
        {
          "output_type": "stream",
          "name": "stdout",
          "text": [
            "dict_keys(['__header__', '__version__', '__globals__', 'rfpCyt', 'rfpNuc', 'cfpNuc', 'cfpCyt', 'yfpNuc', 'yfpCyt', 'CYratioCyt'])\n",
            "<class 'numpy.ndarray'>\n",
            "(200, 137)\n"
          ]
        },
        {
          "output_type": "display_data",
          "data": {
            "image/png": "[encoded data removed]",
            "text/plain": [
              "<Figure size 432x288 with 1 Axes>"
            ]
          },
          "metadata": {
            "needs_background": "light"
          }
        }
      ]
    },
    {
      "cell_type": "markdown",
      "metadata": {
        "id": "FHFxGGEbneap"
      },
      "source": [
        "# **Introduction to relational databases**\n",
        "## **Creating a database engine in Python**\n",
        "\n",
        "You'll create an engine to connect to the SQLite database `'Chinook.sqlite'`, which is in your working directory. \n",
        "\n",
        "`engine = create_engine('sqlite:///Chinook.sqlite')`\n",
        "\n",
        "Here, `'sqlite:///Chinook.sqlite'` is called the connection string to the SQLite database Chinook.sqlite.\n",
        "\n",
        "* Import the function `create_engine` from the module `sqlalchemy`\n",
        "\n",
        "* Create an engine to connect to the SQLite database `'Chinook.sqlite'` and assign it to `engine`."
      ]
    },
    {
      "cell_type": "code",
      "metadata": {
        "id": "cPNSAongDDsF"
      },
      "source": [
        "# Import necessary module\n",
        "from sqlalchemy import create_engine\n",
        "\n",
        "# Create engine: engine\n",
        "engine = create_engine(\"sqlite:///Chinook.sqlite\")"
      ],
      "execution_count": 9,
      "outputs": []
    },
    {
      "cell_type": "markdown",
      "metadata": {
        "id": "oORdflmKrMpq"
      },
      "source": [
        "### **What are the tables in the database?**\n",
        "\n",
        "In this exercise, you'll once again create an engine to connect to `'Chinook.sqlite'`. Before you can get any data out of the database, however, you'll need to know what tables it contains!\n",
        "\n",
        "To this end, you'll save the table names to a list using the method `table_names()` on the engine and then you will print the list.\n",
        "\n",
        "* Import the function `create_engine` from the module `sqlalchemy`.\n",
        "* Create an engine to connect to the SQLite database `'Chinook.sqlite'` and assign it to `engine`.\n",
        "Using the method `table_names()` on the engine `engine`, assign the table names of `'Chinook.sqlite'` to the variable `table_names`.\n",
        "* Print the object `table_names` to the shell."
      ]
    },
    {
      "cell_type": "code",
      "metadata": {
        "colab": {
          "base_uri": "https://localhost:8080/"
        },
        "id": "hBbRqBr3rIcw",
        "outputId": "e0ab24dc-49ea-42c9-af3f-c69c311cf4fd"
      },
      "source": [
        "# Import necessary module\n",
        "from sqlalchemy import create_engine\n",
        "\n",
        "# Create engine: engine\n",
        "engine = create_engine(\"sqlite:///Chinook.sqlite\")\n",
        "\n",
        "# Save the table names to a list: table_names\n",
        "table_names = engine.table_names()\n",
        "\n",
        "# Print the table names to the shell\n",
        "print(table_names)"
      ],
      "execution_count": 10,
      "outputs": [
        {
          "output_type": "stream",
          "name": "stdout",
          "text": [
            "['Album', 'Artist', 'Customer', 'Employee', 'Genre', 'Invoice', 'InvoiceLine', 'MediaType', 'Playlist', 'PlaylistTrack', 'Track']\n"
          ]
        },
        {
          "output_type": "stream",
          "name": "stderr",
          "text": [
            "/usr/local/lib/python3.7/dist-packages/ipykernel_launcher.py:8: SADeprecationWarning: The Engine.table_names() method is deprecated and will be removed in a future release.  Please refer to Inspector.get_table_names(). (deprecated since: 1.4)\n",
            "  \n"
          ]
        }
      ]
    },
    {
      "cell_type": "markdown",
      "metadata": {
        "id": "YIX1ISlMsX2E"
      },
      "source": [
        "### **Querying relational databases in Python**\n",
        "\n",
        "* Open the engine connection as `con` using the method `connect()` on the engine.\n",
        "* Execute the query that selects ALL columns from the `Album` table. Store the results in `rs`.\n",
        "* Store all of your query results in the DataFrame `df` by applying the `fetchall()` method to the results `rs`.\n",
        "* Close the connection!\n"
      ]
    },
    {
      "cell_type": "code",
      "metadata": {
        "colab": {
          "base_uri": "https://localhost:8080/"
        },
        "id": "L1RC-aiPsOfQ",
        "outputId": "fc21d3e2-e6f2-469a-ffab-05918352a606"
      },
      "source": [
        "# Import packages\n",
        "from sqlalchemy import create_engine\n",
        "import pandas as pd\n",
        "\n",
        "# Create engine: engine\n",
        "engine = create_engine('sqlite:///Chinook.sqlite')\n",
        "\n",
        "# Open engine connection: con\n",
        "con = engine.connect()\n",
        "\n",
        "# Perform query: rs\n",
        "rs = con.execute(\"SELECT * FROM Album\")\n",
        "\n",
        "# Save results of the query to DataFrame: df\n",
        "df = pd.DataFrame(rs.fetchall())\n",
        "\n",
        "# Close connection\n",
        "con.close()\n",
        "\n",
        "# Print head of DataFrame df\n",
        "print(df.head())"
      ],
      "execution_count": 12,
      "outputs": [
        {
          "output_type": "stream",
          "name": "stdout",
          "text": [
            "   0                                      1  2\n",
            "0  1  For Those About To Rock We Salute You  1\n",
            "1  2                      Balls to the Wall  2\n",
            "2  3                      Restless and Wild  2\n",
            "3  4                      Let There Be Rock  1\n",
            "4  5                               Big Ones  3\n"
          ]
        }
      ]
    },
    {
      "cell_type": "markdown",
      "metadata": {
        "id": "FjRhTRx_vovt"
      },
      "source": [
        "###  **Customizing the SQL Queries**\n",
        "\n",
        "How to customize your query in order to:\n",
        "\n",
        "  * Select specified columns from a table;\n",
        "  * Select a specified number of rows;\n",
        "  * Import column names from the database table.\n",
        "\n",
        "===============================================================\n",
        "\n",
        "* Execute the SQL query that **selects** the columns `LastName` and `Title` `from` the `Employee` table. Store the results in the variable `rs`.\n",
        "* Apply the method `fetchmany()` to `rs` in order to retrieve 3 of the records. Store them in the DataFrame `df`.\n",
        "* Using the `rs` object, set the DataFrame's column names to the corresponding names of the table columns."
      ]
    },
    {
      "cell_type": "code",
      "metadata": {
        "colab": {
          "base_uri": "https://localhost:8080/"
        },
        "id": "SQKUpcg2vVAP",
        "outputId": "d77f3eb2-b7bc-4695-e711-e00bd492ff64"
      },
      "source": [
        "# Import packages\n",
        "from sqlalchemy import create_engine\n",
        "import pandas as pd\n",
        "\n",
        "# Create engine: engine\n",
        "engine = create_engine('sqlite:///Chinook.sqlite')\n",
        "\n",
        "# Open engine in context manager\n",
        "# Perform query and save results to DataFrame: df\n",
        "with engine.connect() as con:\n",
        "    rs = con.execute(\"SELECT LastName, Title FROM Employee\")\n",
        "    df = pd.DataFrame(rs.fetchmany(size=3))\n",
        "    df.columns = rs.keys()\n",
        "\n",
        "# Print the length of the DataFrame df\n",
        "print(len(df))\n",
        "\n",
        "# Print the head of the DataFrame df\n",
        "print(df.head())"
      ],
      "execution_count": 13,
      "outputs": [
        {
          "output_type": "stream",
          "name": "stdout",
          "text": [
            "3\n",
            "  LastName                Title\n",
            "0    Adams      General Manager\n",
            "1  Edwards        Sales Manager\n",
            "2  Peacock  Sales Support Agent\n"
          ]
        }
      ]
    },
    {
      "cell_type": "markdown",
      "metadata": {
        "id": "I2HweYifxHRv"
      },
      "source": [
        "### **Filtering your database records using SQL's WHERE**\n",
        "\n",
        "Let's say, for example that you wanted to get all records from the `Customer` table of the `Chinook` database for which the Country is `'Canada'`. You can do this very easily in SQL using a `SELECT` statement followed by a `WHERE` clause as follows:\n",
        "\n",
        "`SELECT * FROM Customer WHERE Country = 'Canada'`\n",
        "\n",
        "In fact, you can filter any `SELECT` statement by any condition using a `WHERE` clause. This is called filtering your records.\n",
        "\n",
        "You'll select all records of the `Employee` table for which `'EmployeeId'` is greater than or equal to `6`.\n",
        "\n",
        "* Complete the argument of `create_engine()` so that the engine for the SQLite database `'Chinook.sqlite'` is created.\n",
        "* Execute the query that **selects** *all* records **from** the `Employee` table **where** `'EmployeeId'` is greater than or equal to `6`. Use the `>=` operator and assign the results to `rs`.\n",
        "* Apply the method `fetchall()` to `rs` in order to fetch all records in `rs`. Store them in the DataFrame `df`.\n",
        "* Using the `rs` object, set the DataFrame's column names to the corresponding names of the table columns."
      ]
    },
    {
      "cell_type": "code",
      "metadata": {
        "colab": {
          "base_uri": "https://localhost:8080/",
          "height": 318
        },
        "id": "hNwW0AaUw8mP",
        "outputId": "533e721f-72ab-485d-a90e-a84ac3141647"
      },
      "source": [
        "from sqlalchemy import create_engine\n",
        "import pandas as pd\n",
        "\n",
        "# Create engine: engine\n",
        "engine = create_engine(\"sqlite:///Chinook.sqlite\")\n",
        "\n",
        "# Open engine in context manager\n",
        "# Perform query and save results to DataFrame: df\n",
        "with engine.connect() as con:\n",
        "    rs = con.execute(\"SELECT * FROM Employee WHERE EmployeeId >= 6\")\n",
        "    df = pd.DataFrame(rs.fetchall())\n",
        "    df.columns = rs.keys()\n",
        "\n",
        "display(df.head())"
      ],
      "execution_count": 15,
      "outputs": [
        {
          "output_type": "display_data",
          "data": {
            "text/html": [
              "<div>\n",
              "<style scoped>\n",
              "    .dataframe tbody tr th:only-of-type {\n",
              "        vertical-align: middle;\n",
              "    }\n",
              "\n",
              "    .dataframe tbody tr th {\n",
              "        vertical-align: top;\n",
              "    }\n",
              "\n",
              "    .dataframe thead th {\n",
              "        text-align: right;\n",
              "    }\n",
              "</style>\n",
              "<table border=\"1\" class=\"dataframe\">\n",
              "  <thead>\n",
              "    <tr style=\"text-align: right;\">\n",
              "      <th></th>\n",
              "      <th>EmployeeId</th>\n",
              "      <th>LastName</th>\n",
              "      <th>FirstName</th>\n",
              "      <th>Title</th>\n",
              "      <th>ReportsTo</th>\n",
              "      <th>BirthDate</th>\n",
              "      <th>HireDate</th>\n",
              "      <th>Address</th>\n",
              "      <th>City</th>\n",
              "      <th>State</th>\n",
              "      <th>Country</th>\n",
              "      <th>PostalCode</th>\n",
              "      <th>Phone</th>\n",
              "      <th>Fax</th>\n",
              "      <th>Email</th>\n",
              "    </tr>\n",
              "  </thead>\n",
              "  <tbody>\n",
              "    <tr>\n",
              "      <th>0</th>\n",
              "      <td>6</td>\n",
              "      <td>Mitchell</td>\n",
              "      <td>Michael</td>\n",
              "      <td>IT Manager</td>\n",
              "      <td>1</td>\n",
              "      <td>1973-07-01 00:00:00</td>\n",
              "      <td>2003-10-17 00:00:00</td>\n",
              "      <td>5827 Bowness Road NW</td>\n",
              "      <td>Calgary</td>\n",
              "      <td>AB</td>\n",
              "      <td>Canada</td>\n",
              "      <td>T3B 0C5</td>\n",
              "      <td>+1 (403) 246-9887</td>\n",
              "      <td>+1 (403) 246-9899</td>\n",
              "      <td>michael@chinookcorp.com</td>\n",
              "    </tr>\n",
              "    <tr>\n",
              "      <th>1</th>\n",
              "      <td>7</td>\n",
              "      <td>King</td>\n",
              "      <td>Robert</td>\n",
              "      <td>IT Staff</td>\n",
              "      <td>6</td>\n",
              "      <td>1970-05-29 00:00:00</td>\n",
              "      <td>2004-01-02 00:00:00</td>\n",
              "      <td>590 Columbia Boulevard West</td>\n",
              "      <td>Lethbridge</td>\n",
              "      <td>AB</td>\n",
              "      <td>Canada</td>\n",
              "      <td>T1K 5N8</td>\n",
              "      <td>+1 (403) 456-9986</td>\n",
              "      <td>+1 (403) 456-8485</td>\n",
              "      <td>robert@chinookcorp.com</td>\n",
              "    </tr>\n",
              "    <tr>\n",
              "      <th>2</th>\n",
              "      <td>8</td>\n",
              "      <td>Callahan</td>\n",
              "      <td>Laura</td>\n",
              "      <td>IT Staff</td>\n",
              "      <td>6</td>\n",
              "      <td>1968-01-09 00:00:00</td>\n",
              "      <td>2004-03-04 00:00:00</td>\n",
              "      <td>923 7 ST NW</td>\n",
              "      <td>Lethbridge</td>\n",
              "      <td>AB</td>\n",
              "      <td>Canada</td>\n",
              "      <td>T1H 1Y8</td>\n",
              "      <td>+1 (403) 467-3351</td>\n",
              "      <td>+1 (403) 467-8772</td>\n",
              "      <td>laura@chinookcorp.com</td>\n",
              "    </tr>\n",
              "  </tbody>\n",
              "</table>\n",
              "</div>"
            ],
            "text/plain": [
              "   EmployeeId  LastName  ...                Fax                    Email\n",
              "0           6  Mitchell  ...  +1 (403) 246-9899  michael@chinookcorp.com\n",
              "1           7      King  ...  +1 (403) 456-8485   robert@chinookcorp.com\n",
              "2           8  Callahan  ...  +1 (403) 467-8772    laura@chinookcorp.com\n",
              "\n",
              "[3 rows x 15 columns]"
            ]
          },
          "metadata": {}
        }
      ]
    },
    {
      "cell_type": "markdown",
      "metadata": {
        "id": "HkWnQPXDzPdb"
      },
      "source": [
        "### **Ordering your SQL records with ORDER BY**\n",
        "\n",
        "You can also order your SQL query results. For example, if you wanted to get all records from the `Customer` table of the `Chinook` database and order them in increasing order by the column `SupportRepId`, you could do so with the following query:\n",
        "\n",
        "`\"SELECT * FROM Customer ORDER BY SupportRepId\"`\n",
        "In fact, you can order any `SELECT` statement by any column.\n",
        "\n",
        "In this interactive exercise, you'll select all records of the `Employee` table and order them in increasing order by the column `BirthDate`.\n",
        "\n",
        "* Using the function `create_engine()`, create an engine for the SQLite database `Chinook.sqlite` and assign it to the variable `engine`.\n",
        "* In the context manager, execute the query that **selects** *all* records **from** the `Employee` table and **orders** them in increasing order **by** the column `BirthDate`. Assign the result to `rs`.\n",
        "* In a call to `pd.DataFrame()`, apply the method `fetchall()` to `rs` in order to fetch all records in `rs`. Store them in the DataFrame `df`.\n",
        "* Set the DataFrame's column names to the corresponding names of the table columns."
      ]
    },
    {
      "cell_type": "code",
      "metadata": {
        "colab": {
          "base_uri": "https://localhost:8080/",
          "height": 485
        },
        "id": "gJdzr3ARzEKb",
        "outputId": "876825e6-2d02-4fc8-d7c7-89612a134a3c"
      },
      "source": [
        "from sqlalchemy import create_engine\n",
        "import pandas as pd\n",
        "\n",
        "# Create engine: engine\n",
        "engine = create_engine(\"sqlite:///Chinook.sqlite\")\n",
        "\n",
        "# Open engine in context manager\n",
        "with engine.connect() as con:\n",
        "    rs = con.execute(\"SELECT * FROM Employee ORDER BY Birthdate\")\n",
        "    df = pd.DataFrame(rs.fetchall())\n",
        "\n",
        "    # Set the DataFrame's column names\n",
        "    df.columns = rs.keys()\n",
        "\n",
        "# Print head of DataFrame\n",
        "display(df.head())"
      ],
      "execution_count": 17,
      "outputs": [
        {
          "output_type": "display_data",
          "data": {
            "text/html": [
              "<div>\n",
              "<style scoped>\n",
              "    .dataframe tbody tr th:only-of-type {\n",
              "        vertical-align: middle;\n",
              "    }\n",
              "\n",
              "    .dataframe tbody tr th {\n",
              "        vertical-align: top;\n",
              "    }\n",
              "\n",
              "    .dataframe thead th {\n",
              "        text-align: right;\n",
              "    }\n",
              "</style>\n",
              "<table border=\"1\" class=\"dataframe\">\n",
              "  <thead>\n",
              "    <tr style=\"text-align: right;\">\n",
              "      <th></th>\n",
              "      <th>EmployeeId</th>\n",
              "      <th>LastName</th>\n",
              "      <th>FirstName</th>\n",
              "      <th>Title</th>\n",
              "      <th>ReportsTo</th>\n",
              "      <th>BirthDate</th>\n",
              "      <th>HireDate</th>\n",
              "      <th>Address</th>\n",
              "      <th>City</th>\n",
              "      <th>State</th>\n",
              "      <th>Country</th>\n",
              "      <th>PostalCode</th>\n",
              "      <th>Phone</th>\n",
              "      <th>Fax</th>\n",
              "      <th>Email</th>\n",
              "    </tr>\n",
              "  </thead>\n",
              "  <tbody>\n",
              "    <tr>\n",
              "      <th>0</th>\n",
              "      <td>4</td>\n",
              "      <td>Park</td>\n",
              "      <td>Margaret</td>\n",
              "      <td>Sales Support Agent</td>\n",
              "      <td>2.0</td>\n",
              "      <td>1947-09-19 00:00:00</td>\n",
              "      <td>2003-05-03 00:00:00</td>\n",
              "      <td>683 10 Street SW</td>\n",
              "      <td>Calgary</td>\n",
              "      <td>AB</td>\n",
              "      <td>Canada</td>\n",
              "      <td>T2P 5G3</td>\n",
              "      <td>+1 (403) 263-4423</td>\n",
              "      <td>+1 (403) 263-4289</td>\n",
              "      <td>margaret@chinookcorp.com</td>\n",
              "    </tr>\n",
              "    <tr>\n",
              "      <th>1</th>\n",
              "      <td>2</td>\n",
              "      <td>Edwards</td>\n",
              "      <td>Nancy</td>\n",
              "      <td>Sales Manager</td>\n",
              "      <td>1.0</td>\n",
              "      <td>1958-12-08 00:00:00</td>\n",
              "      <td>2002-05-01 00:00:00</td>\n",
              "      <td>825 8 Ave SW</td>\n",
              "      <td>Calgary</td>\n",
              "      <td>AB</td>\n",
              "      <td>Canada</td>\n",
              "      <td>T2P 2T3</td>\n",
              "      <td>+1 (403) 262-3443</td>\n",
              "      <td>+1 (403) 262-3322</td>\n",
              "      <td>nancy@chinookcorp.com</td>\n",
              "    </tr>\n",
              "    <tr>\n",
              "      <th>2</th>\n",
              "      <td>1</td>\n",
              "      <td>Adams</td>\n",
              "      <td>Andrew</td>\n",
              "      <td>General Manager</td>\n",
              "      <td>NaN</td>\n",
              "      <td>1962-02-18 00:00:00</td>\n",
              "      <td>2002-08-14 00:00:00</td>\n",
              "      <td>11120 Jasper Ave NW</td>\n",
              "      <td>Edmonton</td>\n",
              "      <td>AB</td>\n",
              "      <td>Canada</td>\n",
              "      <td>T5K 2N1</td>\n",
              "      <td>+1 (780) 428-9482</td>\n",
              "      <td>+1 (780) 428-3457</td>\n",
              "      <td>andrew@chinookcorp.com</td>\n",
              "    </tr>\n",
              "    <tr>\n",
              "      <th>3</th>\n",
              "      <td>5</td>\n",
              "      <td>Johnson</td>\n",
              "      <td>Steve</td>\n",
              "      <td>Sales Support Agent</td>\n",
              "      <td>2.0</td>\n",
              "      <td>1965-03-03 00:00:00</td>\n",
              "      <td>2003-10-17 00:00:00</td>\n",
              "      <td>7727B 41 Ave</td>\n",
              "      <td>Calgary</td>\n",
              "      <td>AB</td>\n",
              "      <td>Canada</td>\n",
              "      <td>T3B 1Y7</td>\n",
              "      <td>1 (780) 836-9987</td>\n",
              "      <td>1 (780) 836-9543</td>\n",
              "      <td>steve@chinookcorp.com</td>\n",
              "    </tr>\n",
              "    <tr>\n",
              "      <th>4</th>\n",
              "      <td>8</td>\n",
              "      <td>Callahan</td>\n",
              "      <td>Laura</td>\n",
              "      <td>IT Staff</td>\n",
              "      <td>6.0</td>\n",
              "      <td>1968-01-09 00:00:00</td>\n",
              "      <td>2004-03-04 00:00:00</td>\n",
              "      <td>923 7 ST NW</td>\n",
              "      <td>Lethbridge</td>\n",
              "      <td>AB</td>\n",
              "      <td>Canada</td>\n",
              "      <td>T1H 1Y8</td>\n",
              "      <td>+1 (403) 467-3351</td>\n",
              "      <td>+1 (403) 467-8772</td>\n",
              "      <td>laura@chinookcorp.com</td>\n",
              "    </tr>\n",
              "  </tbody>\n",
              "</table>\n",
              "</div>"
            ],
            "text/plain": [
              "   EmployeeId  LastName  ...                Fax                     Email\n",
              "0           4      Park  ...  +1 (403) 263-4289  margaret@chinookcorp.com\n",
              "1           2   Edwards  ...  +1 (403) 262-3322     nancy@chinookcorp.com\n",
              "2           1     Adams  ...  +1 (780) 428-3457    andrew@chinookcorp.com\n",
              "3           5   Johnson  ...   1 (780) 836-9543     steve@chinookcorp.com\n",
              "4           8  Callahan  ...  +1 (403) 467-8772     laura@chinookcorp.com\n",
              "\n",
              "[5 rows x 15 columns]"
            ]
          },
          "metadata": {}
        }
      ]
    },
    {
      "cell_type": "markdown",
      "metadata": {
        "id": "K9ian9dq1RGI"
      },
      "source": [
        "# **Querying relational databases directly with pandas**\n",
        "\n",
        "First import `pandas` and create the SQLite `'Chinook.sqlite'` engine. Then you'll query the database to **select all** records from the `Album` table.\n",
        "\n",
        "* Using the function `create_engine()`, create an engine for the SQLite database `Chinook.sqlite` and assign it to the variable `engine`.\n",
        "* Use the `pandas` function `read_sql_query()` to assign to the variable `df` the DataFrame of results from the following query: select all records from the table `Album`.\n",
        "* The remainder of the code is included to confirm that the DataFrame created by this method is equal to that created by the previous method that you learned."
      ]
    },
    {
      "cell_type": "code",
      "metadata": {
        "colab": {
          "base_uri": "https://localhost:8080/"
        },
        "id": "3SwgACK005UG",
        "outputId": "1d94c353-d331-4c35-cd6b-94ab93e69748"
      },
      "source": [
        "# Import packages\n",
        "from sqlalchemy import create_engine\n",
        "import pandas as pd\n",
        "\n",
        "# Create engine: engine\n",
        "engine = create_engine(\"sqlite:///Chinook.sqlite\")\n",
        "\n",
        "# Execute query and store records in DataFrame: df\n",
        "df = pd.read_sql_query(\"SELECT * FROM Album\", engine)\n",
        "\n",
        "# Print head of DataFrame\n",
        "print(df.head())\n",
        "\n",
        "# Open engine in context manager and store query result in df1\n",
        "with engine.connect() as con:\n",
        "    rs = con.execute(\"SELECT * FROM Album\")\n",
        "    df1 = pd.DataFrame(rs.fetchall())\n",
        "    df1.columns = rs.keys()\n",
        "\n",
        "# Confirm that both methods yield the same result\n",
        "print(df.equals(df1))"
      ],
      "execution_count": 1,
      "outputs": [
        {
          "output_type": "stream",
          "name": "stdout",
          "text": [
            "   AlbumId                                  Title  ArtistId\n",
            "0        1  For Those About To Rock We Salute You         1\n",
            "1        2                      Balls to the Wall         2\n",
            "2        3                      Restless and Wild         2\n",
            "3        4                      Let There Be Rock         1\n",
            "4        5                               Big Ones         3\n",
            "True\n"
          ]
        }
      ]
    },
    {
      "cell_type": "markdown",
      "metadata": {
        "id": "m7DFSVW7M3wu"
      },
      "source": [
        "### **Pandas for more complex querying**\n",
        "\n",
        "Build a DataFrame that contains the rows of the `Employee` table for which the `EmployeeId` is greater than or equal to `6` and you'll order these entries by `BirthDate`."
      ]
    },
    {
      "cell_type": "code",
      "metadata": {
        "colab": {
          "base_uri": "https://localhost:8080/",
          "height": 318
        },
        "id": "3-iuICGgM0VB",
        "outputId": "68063d11-1143-46d3-9000-9d051b9577fd"
      },
      "source": [
        "from sqlalchemy import create_engine\n",
        "import pandas as pd\n",
        "\n",
        "# Create engine: engine\n",
        "engine = create_engine(\"sqlite:///Chinook.sqlite\")\n",
        "\n",
        "# Execute query and store records in DataFrame: df\n",
        "df = pd.read_sql_query(\"SELECT * FROM Employee WHERE EmployeeId >= 6 ORDER BY BirthDate\", engine)\n",
        "\n",
        "# Print head of DataFrame\n",
        "display(df.head())\n"
      ],
      "execution_count": 3,
      "outputs": [
        {
          "output_type": "display_data",
          "data": {
            "text/html": [
              "<div>\n",
              "<style scoped>\n",
              "    .dataframe tbody tr th:only-of-type {\n",
              "        vertical-align: middle;\n",
              "    }\n",
              "\n",
              "    .dataframe tbody tr th {\n",
              "        vertical-align: top;\n",
              "    }\n",
              "\n",
              "    .dataframe thead th {\n",
              "        text-align: right;\n",
              "    }\n",
              "</style>\n",
              "<table border=\"1\" class=\"dataframe\">\n",
              "  <thead>\n",
              "    <tr style=\"text-align: right;\">\n",
              "      <th></th>\n",
              "      <th>EmployeeId</th>\n",
              "      <th>LastName</th>\n",
              "      <th>FirstName</th>\n",
              "      <th>Title</th>\n",
              "      <th>ReportsTo</th>\n",
              "      <th>BirthDate</th>\n",
              "      <th>HireDate</th>\n",
              "      <th>Address</th>\n",
              "      <th>City</th>\n",
              "      <th>State</th>\n",
              "      <th>Country</th>\n",
              "      <th>PostalCode</th>\n",
              "      <th>Phone</th>\n",
              "      <th>Fax</th>\n",
              "      <th>Email</th>\n",
              "    </tr>\n",
              "  </thead>\n",
              "  <tbody>\n",
              "    <tr>\n",
              "      <th>0</th>\n",
              "      <td>8</td>\n",
              "      <td>Callahan</td>\n",
              "      <td>Laura</td>\n",
              "      <td>IT Staff</td>\n",
              "      <td>6</td>\n",
              "      <td>1968-01-09 00:00:00</td>\n",
              "      <td>2004-03-04 00:00:00</td>\n",
              "      <td>923 7 ST NW</td>\n",
              "      <td>Lethbridge</td>\n",
              "      <td>AB</td>\n",
              "      <td>Canada</td>\n",
              "      <td>T1H 1Y8</td>\n",
              "      <td>+1 (403) 467-3351</td>\n",
              "      <td>+1 (403) 467-8772</td>\n",
              "      <td>laura@chinookcorp.com</td>\n",
              "    </tr>\n",
              "    <tr>\n",
              "      <th>1</th>\n",
              "      <td>7</td>\n",
              "      <td>King</td>\n",
              "      <td>Robert</td>\n",
              "      <td>IT Staff</td>\n",
              "      <td>6</td>\n",
              "      <td>1970-05-29 00:00:00</td>\n",
              "      <td>2004-01-02 00:00:00</td>\n",
              "      <td>590 Columbia Boulevard West</td>\n",
              "      <td>Lethbridge</td>\n",
              "      <td>AB</td>\n",
              "      <td>Canada</td>\n",
              "      <td>T1K 5N8</td>\n",
              "      <td>+1 (403) 456-9986</td>\n",
              "      <td>+1 (403) 456-8485</td>\n",
              "      <td>robert@chinookcorp.com</td>\n",
              "    </tr>\n",
              "    <tr>\n",
              "      <th>2</th>\n",
              "      <td>6</td>\n",
              "      <td>Mitchell</td>\n",
              "      <td>Michael</td>\n",
              "      <td>IT Manager</td>\n",
              "      <td>1</td>\n",
              "      <td>1973-07-01 00:00:00</td>\n",
              "      <td>2003-10-17 00:00:00</td>\n",
              "      <td>5827 Bowness Road NW</td>\n",
              "      <td>Calgary</td>\n",
              "      <td>AB</td>\n",
              "      <td>Canada</td>\n",
              "      <td>T3B 0C5</td>\n",
              "      <td>+1 (403) 246-9887</td>\n",
              "      <td>+1 (403) 246-9899</td>\n",
              "      <td>michael@chinookcorp.com</td>\n",
              "    </tr>\n",
              "  </tbody>\n",
              "</table>\n",
              "</div>"
            ],
            "text/plain": [
              "   EmployeeId  LastName  ...                Fax                    Email\n",
              "0           8  Callahan  ...  +1 (403) 467-8772    laura@chinookcorp.com\n",
              "1           7      King  ...  +1 (403) 456-8485   robert@chinookcorp.com\n",
              "2           6  Mitchell  ...  +1 (403) 246-9899  michael@chinookcorp.com\n",
              "\n",
              "[3 rows x 15 columns]"
            ]
          },
          "metadata": {}
        }
      ]
    },
    {
      "cell_type": "markdown",
      "metadata": {
        "id": "BEoNsJxeNv9U"
      },
      "source": [
        "# **Advanced querying: exploiting table relationships**\n",
        "\n",
        "* Assign to `rs` the results from the following query: **select** *all* the records, extracting the `Title` of the record and `Name` of the artist of each record **from** the `Album` table and the `Artist` table, respectively. To do so, `INNER JOIN` these two tables on the `ArtistID` column of both.\n",
        "\n",
        "* In a call to `pd.DataFrame()`, apply the method `fetchall()` to `rs` in order to fetch all records in `rs`. Store them in the DataFrame `df`."
      ]
    },
    {
      "cell_type": "code",
      "metadata": {
        "colab": {
          "base_uri": "https://localhost:8080/",
          "height": 205
        },
        "id": "5ProEbidNm_G",
        "outputId": "991dc294-a8df-4a04-e0eb-649106597d46"
      },
      "source": [
        "import pandas as pd\n",
        "from sqlalchemy import create_engine\n",
        "engine = create_engine('sqlite:///Chinook.sqlite')\n",
        "\n",
        "# Open engine in context manager\n",
        "# Perform query and save results to DataFrame: df\n",
        "with engine.connect() as con:\n",
        "    rs = con.execute(\"SELECT Title, Name FROM Album INNER JOIN Artist ON Album.ArtistID = Artist.ArtistID\")\n",
        "    df = pd.DataFrame(rs.fetchall())\n",
        "    df.columns = rs.keys()\n",
        "\n",
        "# Print head of DataFrame df\n",
        "display(df.head())\n"
      ],
      "execution_count": 5,
      "outputs": [
        {
          "output_type": "display_data",
          "data": {
            "text/html": [
              "<div>\n",
              "<style scoped>\n",
              "    .dataframe tbody tr th:only-of-type {\n",
              "        vertical-align: middle;\n",
              "    }\n",
              "\n",
              "    .dataframe tbody tr th {\n",
              "        vertical-align: top;\n",
              "    }\n",
              "\n",
              "    .dataframe thead th {\n",
              "        text-align: right;\n",
              "    }\n",
              "</style>\n",
              "<table border=\"1\" class=\"dataframe\">\n",
              "  <thead>\n",
              "    <tr style=\"text-align: right;\">\n",
              "      <th></th>\n",
              "      <th>Title</th>\n",
              "      <th>Name</th>\n",
              "    </tr>\n",
              "  </thead>\n",
              "  <tbody>\n",
              "    <tr>\n",
              "      <th>0</th>\n",
              "      <td>For Those About To Rock We Salute You</td>\n",
              "      <td>AC/DC</td>\n",
              "    </tr>\n",
              "    <tr>\n",
              "      <th>1</th>\n",
              "      <td>Balls to the Wall</td>\n",
              "      <td>Accept</td>\n",
              "    </tr>\n",
              "    <tr>\n",
              "      <th>2</th>\n",
              "      <td>Restless and Wild</td>\n",
              "      <td>Accept</td>\n",
              "    </tr>\n",
              "    <tr>\n",
              "      <th>3</th>\n",
              "      <td>Let There Be Rock</td>\n",
              "      <td>AC/DC</td>\n",
              "    </tr>\n",
              "    <tr>\n",
              "      <th>4</th>\n",
              "      <td>Big Ones</td>\n",
              "      <td>Aerosmith</td>\n",
              "    </tr>\n",
              "  </tbody>\n",
              "</table>\n",
              "</div>"
            ],
            "text/plain": [
              "                                   Title       Name\n",
              "0  For Those About To Rock We Salute You      AC/DC\n",
              "1                      Balls to the Wall     Accept\n",
              "2                      Restless and Wild     Accept\n",
              "3                      Let There Be Rock      AC/DC\n",
              "4                               Big Ones  Aerosmith"
            ]
          },
          "metadata": {}
        }
      ]
    },
    {
      "cell_type": "markdown",
      "metadata": {
        "id": "HrMrauWnQhcj"
      },
      "source": [
        "### **Filtering your INNER JOIN**\n",
        "\n",
        "* Use the pandas function `read_sql_query()` to assign to the variable `df` the DataFrame of results from the following query: **select** *all* records **from** \n",
        "`PlaylistTrack INNER JOIN Track on PlaylistTrack.TrackId = Track.TrackId` \n",
        "that satisfy the condition `Milliseconds < 250000`."
      ]
    },
    {
      "cell_type": "code",
      "metadata": {
        "colab": {
          "base_uri": "https://localhost:8080/",
          "height": 205
        },
        "id": "XTyIye6TQXuY",
        "outputId": "6b1ae7f6-9dab-4e58-c3da-af173f91ae52"
      },
      "source": [
        "import pandas as pd\n",
        "from sqlalchemy import create_engine\n",
        "engine = create_engine('sqlite:///Chinook.sqlite')\n",
        "\n",
        "# Execute query and store records in DataFrame: df\n",
        "df = pd.read_sql_query(\"SELECT * FROM PlaylistTrack INNER JOIN Track ON PlaylistTrack.TrackId = Track.TrackId WHERE Milliseconds < 250000\", engine)\n",
        "\n",
        "# Print head of DataFrame\n",
        "display(df.head())"
      ],
      "execution_count": 7,
      "outputs": [
        {
          "output_type": "display_data",
          "data": {
            "text/html": [
              "<div>\n",
              "<style scoped>\n",
              "    .dataframe tbody tr th:only-of-type {\n",
              "        vertical-align: middle;\n",
              "    }\n",
              "\n",
              "    .dataframe tbody tr th {\n",
              "        vertical-align: top;\n",
              "    }\n",
              "\n",
              "    .dataframe thead th {\n",
              "        text-align: right;\n",
              "    }\n",
              "</style>\n",
              "<table border=\"1\" class=\"dataframe\">\n",
              "  <thead>\n",
              "    <tr style=\"text-align: right;\">\n",
              "      <th></th>\n",
              "      <th>PlaylistId</th>\n",
              "      <th>TrackId</th>\n",
              "      <th>TrackId</th>\n",
              "      <th>Name</th>\n",
              "      <th>AlbumId</th>\n",
              "      <th>MediaTypeId</th>\n",
              "      <th>GenreId</th>\n",
              "      <th>Composer</th>\n",
              "      <th>Milliseconds</th>\n",
              "      <th>Bytes</th>\n",
              "      <th>UnitPrice</th>\n",
              "    </tr>\n",
              "  </thead>\n",
              "  <tbody>\n",
              "    <tr>\n",
              "      <th>0</th>\n",
              "      <td>1</td>\n",
              "      <td>3390</td>\n",
              "      <td>3390</td>\n",
              "      <td>One and the Same</td>\n",
              "      <td>271</td>\n",
              "      <td>2</td>\n",
              "      <td>23</td>\n",
              "      <td>None</td>\n",
              "      <td>217732</td>\n",
              "      <td>3559040</td>\n",
              "      <td>0.99</td>\n",
              "    </tr>\n",
              "    <tr>\n",
              "      <th>1</th>\n",
              "      <td>1</td>\n",
              "      <td>3392</td>\n",
              "      <td>3392</td>\n",
              "      <td>Until We Fall</td>\n",
              "      <td>271</td>\n",
              "      <td>2</td>\n",
              "      <td>23</td>\n",
              "      <td>None</td>\n",
              "      <td>230758</td>\n",
              "      <td>3766605</td>\n",
              "      <td>0.99</td>\n",
              "    </tr>\n",
              "    <tr>\n",
              "      <th>2</th>\n",
              "      <td>1</td>\n",
              "      <td>3393</td>\n",
              "      <td>3393</td>\n",
              "      <td>Original Fire</td>\n",
              "      <td>271</td>\n",
              "      <td>2</td>\n",
              "      <td>23</td>\n",
              "      <td>None</td>\n",
              "      <td>218916</td>\n",
              "      <td>3577821</td>\n",
              "      <td>0.99</td>\n",
              "    </tr>\n",
              "    <tr>\n",
              "      <th>3</th>\n",
              "      <td>1</td>\n",
              "      <td>3394</td>\n",
              "      <td>3394</td>\n",
              "      <td>Broken City</td>\n",
              "      <td>271</td>\n",
              "      <td>2</td>\n",
              "      <td>23</td>\n",
              "      <td>None</td>\n",
              "      <td>228366</td>\n",
              "      <td>3728955</td>\n",
              "      <td>0.99</td>\n",
              "    </tr>\n",
              "    <tr>\n",
              "      <th>4</th>\n",
              "      <td>1</td>\n",
              "      <td>3395</td>\n",
              "      <td>3395</td>\n",
              "      <td>Somedays</td>\n",
              "      <td>271</td>\n",
              "      <td>2</td>\n",
              "      <td>23</td>\n",
              "      <td>None</td>\n",
              "      <td>213831</td>\n",
              "      <td>3497176</td>\n",
              "      <td>0.99</td>\n",
              "    </tr>\n",
              "  </tbody>\n",
              "</table>\n",
              "</div>"
            ],
            "text/plain": [
              "   PlaylistId  TrackId  TrackId  ... Milliseconds    Bytes  UnitPrice\n",
              "0           1     3390     3390  ...       217732  3559040       0.99\n",
              "1           1     3392     3392  ...       230758  3766605       0.99\n",
              "2           1     3393     3393  ...       218916  3577821       0.99\n",
              "3           1     3394     3394  ...       228366  3728955       0.99\n",
              "4           1     3395     3395  ...       213831  3497176       0.99\n",
              "\n",
              "[5 rows x 11 columns]"
            ]
          },
          "metadata": {}
        }
      ]
    },
    {
      "cell_type": "code",
      "metadata": {
        "id": "7M3Em9rrRjHi"
      },
      "source": [
        ""
      ],
      "execution_count": null,
      "outputs": []
    }
  ]
}